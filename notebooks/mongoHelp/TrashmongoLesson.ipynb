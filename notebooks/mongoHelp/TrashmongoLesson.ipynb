{
 "cells": [
  {
   "cell_type": "code",
   "execution_count": 1,
   "metadata": {},
   "outputs": [],
   "source": [
    "#https://api.mongodb.com/python/current/tutorial.html\n",
    "\n",
    "import pymongo\n",
    "from pymongo import MongoClient"
   ]
  },
  {
   "cell_type": "code",
   "execution_count": 2,
   "metadata": {},
   "outputs": [],
   "source": [
    "client = pymongo.MongoClient('this_mongo_1')"
   ]
  },
  {
   "cell_type": "code",
   "execution_count": 3,
   "metadata": {},
   "outputs": [
    {
     "data": {
      "text/plain": [
       "MongoClient(host=['this_mongo_1:27017'], document_class=dict, tz_aware=False, connect=True)"
      ]
     },
     "execution_count": 3,
     "metadata": {},
     "output_type": "execute_result"
    }
   ],
   "source": [
    "client"
   ]
  },
  {
   "cell_type": "code",
   "execution_count": 4,
   "metadata": {},
   "outputs": [],
   "source": [
    "db = client.test_database #created a db called test_database"
   ]
  },
  {
   "cell_type": "code",
   "execution_count": 5,
   "metadata": {},
   "outputs": [],
   "source": [
    "collection = db.test_collection  #created a collection named test_collection to store documents"
   ]
  },
  {
   "cell_type": "code",
   "execution_count": 6,
   "metadata": {},
   "outputs": [
    {
     "data": {
      "text/plain": [
       "Collection(Database(MongoClient(host=['this_mongo_1:27017'], document_class=dict, tz_aware=False, connect=True), 'test_database'), 'test_collection')"
      ]
     },
     "execution_count": 6,
     "metadata": {},
     "output_type": "execute_result"
    }
   ],
   "source": [
    "collection"
   ]
  },
  {
   "cell_type": "code",
   "execution_count": 7,
   "metadata": {},
   "outputs": [],
   "source": [
    "import datetime\n",
    "\n",
    "post = {\"author\": \"Mike\",\n",
    "        \"text\": \"My first blog post!\",\n",
    "        \"tags\": [\"mongodb\", \"python\", \"pymongo\"],\n",
    "        \"date\": datetime.datetime.utcnow()}"
   ]
  },
  {
   "cell_type": "code",
   "execution_count": 8,
   "metadata": {},
   "outputs": [],
   "source": [
    "#insert document\n",
    "posts = db.posts"
   ]
  },
  {
   "cell_type": "code",
   "execution_count": 9,
   "metadata": {},
   "outputs": [
    {
     "data": {
      "text/plain": [
       "ObjectId('5b341714d7e91c004de9bce6')"
      ]
     },
     "execution_count": 9,
     "metadata": {},
     "output_type": "execute_result"
    }
   ],
   "source": [
    "post_id = posts.insert_one(post).inserted_id\n",
    "post_id"
   ]
  },
  {
   "cell_type": "code",
   "execution_count": 10,
   "metadata": {},
   "outputs": [
    {
     "data": {
      "text/plain": [
       "['posts']"
      ]
     },
     "execution_count": 10,
     "metadata": {},
     "output_type": "execute_result"
    }
   ],
   "source": [
    "db.collection_names(include_system_collections=False)"
   ]
  },
  {
   "cell_type": "code",
   "execution_count": 11,
   "metadata": {},
   "outputs": [
    {
     "data": {
      "text/plain": [
       "Collection(Database(MongoClient(host=['this_mongo_1:27017'], document_class=dict, tz_aware=False, connect=True), 'test_database'), 'show.dbs')"
      ]
     },
     "execution_count": 11,
     "metadata": {},
     "output_type": "execute_result"
    }
   ],
   "source": [
    "db.show.dbs"
   ]
  },
  {
   "cell_type": "code",
   "execution_count": 17,
   "metadata": {},
   "outputs": [
    {
     "ename": "NameError",
     "evalue": "name 'user' is not defined",
     "output_type": "error",
     "traceback": [
      "\u001b[0;31m---------------------------------------------------------------------------\u001b[0m",
      "\u001b[0;31mNameError\u001b[0m                                 Traceback (most recent call last)",
      "\u001b[0;32m<ipython-input-17-5f0d131c58fe>\u001b[0m in \u001b[0;36m<module>\u001b[0;34m()\u001b[0m\n\u001b[1;32m      1\u001b[0m db.createUser(\n\u001b[1;32m      2\u001b[0m    {\n\u001b[0;32m----> 3\u001b[0;31m      \u001b[0muser\u001b[0m\u001b[0;34m:\u001b[0m \u001b[0;34m\"alex\"\u001b[0m\u001b[0;34m,\u001b[0m\u001b[0;34m\u001b[0m\u001b[0m\n\u001b[0m\u001b[1;32m      4\u001b[0m      \u001b[0mpwd\u001b[0m\u001b[0;34m:\u001b[0m \u001b[0;34m\"password\"\u001b[0m\u001b[0;34m,\u001b[0m\u001b[0;34m\u001b[0m\u001b[0m\n\u001b[1;32m      5\u001b[0m      \u001b[0mroles\u001b[0m\u001b[0;34m:\u001b[0m \u001b[0;34m[\u001b[0m \u001b[0;34m\"readWrite\"\u001b[0m\u001b[0;34m,\u001b[0m \u001b[0;34m\"dbAdmin\"\u001b[0m \u001b[0;34m]\u001b[0m\u001b[0;34m,\u001b[0m\u001b[0;34m\u001b[0m\u001b[0m\n",
      "\u001b[0;31mNameError\u001b[0m: name 'user' is not defined"
     ]
    }
   ],
   "source": [
    "#https://stackoverflow.com/questions/27784956/error-couldnt-add-user-not-authorized-on-test-to-execute-command-createuser\n",
    "db.createUser(\n",
    "   {\n",
    "     user: \"alex\",\n",
    "     pwd: \"password\",\n",
    "     roles: [ \"readWrite\", \"dbAdmin\" ],\n",
    "       db:\"test_database\"\n",
    "   }\n",
    ");"
   ]
  },
  {
   "cell_type": "code",
   "execution_count": 28,
   "metadata": {},
   "outputs": [
    {
     "data": {
      "text/plain": [
       "Collection(Database(MongoClient(host=['this_mongo_1:27017'], document_class=dict, tz_aware=False, connect=True), 'test_database'), 'customers')"
      ]
     },
     "execution_count": 28,
     "metadata": {},
     "output_type": "execute_result"
    }
   ],
   "source": [
    "db.create_collection(\"customers\")"
   ]
  },
  {
   "cell_type": "code",
   "execution_count": 31,
   "metadata": {},
   "outputs": [
    {
     "data": {
      "text/plain": [
       "['posts', 'customers']"
      ]
     },
     "execution_count": 31,
     "metadata": {},
     "output_type": "execute_result"
    }
   ],
   "source": [
    "db.collection_names()"
   ]
  },
  {
   "cell_type": "code",
   "execution_count": 34,
   "metadata": {},
   "outputs": [
    {
     "name": "stderr",
     "output_type": "stream",
     "text": [
      "/opt/conda/lib/python3.6/site-packages/ipykernel_launcher.py:1: DeprecationWarning: insert is deprecated. Use insert_one or insert_many instead.\n",
      "  \"\"\"Entry point for launching an IPython kernel.\n"
     ]
    },
    {
     "data": {
      "text/plain": [
       "ObjectId('5b34b527d7e91c004de9bce7')"
      ]
     },
     "execution_count": 34,
     "metadata": {},
     "output_type": "execute_result"
    }
   ],
   "source": [
    "db.customers.insert({\"users\": [{\"name\": \"Erik Bjäreholt\", \"nick\": \"erb\"}]})"
   ]
  },
  {
   "cell_type": "code",
   "execution_count": 35,
   "metadata": {},
   "outputs": [
    {
     "data": {
      "text/plain": [
       "<pymongo.results.InsertOneResult at 0x7f503efa8688>"
      ]
     },
     "execution_count": 35,
     "metadata": {},
     "output_type": "execute_result"
    }
   ],
   "source": [
    "db.customers.insert_one({\"users\": [{\"name\": \"Erik Bjäreholt\", \"nick\": \"erb\"}]})"
   ]
  },
  {
   "cell_type": "code",
   "execution_count": null,
   "metadata": {},
   "outputs": [],
   "source": [
    "db.customers.insert_many(\n",
    "    {\"users\": [{\"name\": \"Erik Bjäreholt\", \"nick\": \"erb\"}]})"
   ]
  },
  {
   "cell_type": "code",
   "execution_count": 46,
   "metadata": {},
   "outputs": [
    {
     "name": "stdout",
     "output_type": "stream",
     "text": [
      "{'_id': ObjectId('5b34b527d7e91c004de9bce7'),\n",
      " 'users': [{'name': 'Erik Bjäreholt', 'nick': 'erb'}]}\n",
      "{'_id': ObjectId('5b34b5bfd7e91c004de9bce8'),\n",
      " 'users': [{'name': 'Erik Bjäreholt', 'nick': 'erb'}]}\n"
     ]
    }
   ],
   "source": [
    "import pprint as p\n",
    "cursor = db.customers.find()\n",
    "for doc in cursor:\n",
    "    p.pprint(doc)"
   ]
  },
  {
   "cell_type": "code",
   "execution_count": 47,
   "metadata": {},
   "outputs": [
    {
     "data": {
      "text/plain": [
       "{'ns': 'test_database.customers', 'nIndexesWas': 1, 'ok': 1.0}"
      ]
     },
     "execution_count": 47,
     "metadata": {},
     "output_type": "execute_result"
    }
   ],
   "source": [
    "db.drop_collection(\"customers\")"
   ]
  },
  {
   "cell_type": "code",
   "execution_count": 48,
   "metadata": {},
   "outputs": [
    {
     "data": {
      "text/plain": [
       "['posts']"
      ]
     },
     "execution_count": 48,
     "metadata": {},
     "output_type": "execute_result"
    }
   ],
   "source": [
    "db.collection_names()"
   ]
  },
  {
   "cell_type": "code",
   "execution_count": 49,
   "metadata": {},
   "outputs": [
    {
     "data": {
      "text/plain": [
       "Collection(Database(MongoClient(host=['this_mongo_1:27017'], document_class=dict, tz_aware=False, connect=True), 'test_database'), 'customers')"
      ]
     },
     "execution_count": 49,
     "metadata": {},
     "output_type": "execute_result"
    }
   ],
   "source": [
    "db.create_collection(\"customers\")"
   ]
  },
  {
   "cell_type": "code",
   "execution_count": 53,
   "metadata": {},
   "outputs": [],
   "source": [
    "db.customers.insert_one({\"customer\": \n",
    "                         [{\"first_name\":\"John\", \"last_name\":\"Doe\"}]\n",
    "                        });"
   ]
  },
  {
   "cell_type": "code",
   "execution_count": 54,
   "metadata": {},
   "outputs": [
    {
     "name": "stdout",
     "output_type": "stream",
     "text": [
      "{'_id': ObjectId('5b34b9dcd7e91c004de9bce9'),\n",
      " 'customer': [{'first_name': 'John', 'last_name': 'Doe'}]}\n"
     ]
    }
   ],
   "source": [
    "cursor = db.customers.find()\n",
    "for doc in cursor:\n",
    "    p.pprint(doc)"
   ]
  },
  {
   "cell_type": "code",
   "execution_count": null,
   "metadata": {},
   "outputs": [],
   "source": [
    "#error more than one insert?????????\n",
    "db.customers.insert_many({\"customer\":[{\"first_name\":\"sue\", \"last_name\":\"tree\"},\n",
    "                         {\"first_name\":\"ann\", \"last_name\":\"toast\"}]});"
   ]
  },
  {
   "cell_type": "code",
   "execution_count": 86,
   "metadata": {},
   "outputs": [
    {
     "name": "stdout",
     "output_type": "stream",
     "text": [
      "{'_id': ObjectId('5b34b9dcd7e91c004de9bce9'),\n",
      " 'customer': [{'first_name': 'John', 'last_name': 'Doe'}]}\n",
      "{'_id': ObjectId('5b34bbd7d7e91c004de9bcea'),\n",
      " 'customer': [{'first_name': 'Alex', 'last_name': 'Piccolo'}]}\n",
      "{'_id': ObjectId('5b34bbefd7e91c004de9bceb'),\n",
      " 'customer': [{'first_name': 'Sophia', 'last_name': 'Piccolo'}]}\n",
      "{'_id': ObjectId('5b34bcc7d7e91c004de9bcec'),\n",
      " 'customer': [{'first_name': 'Joseph', 'last_name': 'Piccolo'},\n",
      "              {'first_name': 'David', 'last_name': 'Guardia'}]}\n",
      "{'_id': ObjectId('5b34be7fd7e91c004de9bced'),\n",
      " 'customer': [{'first_name': 'Black', 'last_name': 'Dog'}]}\n"
     ]
    }
   ],
   "source": [
    "cursor = db.customers.find()\n",
    "for doc in cursor:\n",
    "    p.pprint(doc)"
   ]
  },
  {
   "cell_type": "code",
   "execution_count": null,
   "metadata": {},
   "outputs": [],
   "source": [
    "#######################################start new###########"
   ]
  },
  {
   "cell_type": "code",
   "execution_count": 87,
   "metadata": {},
   "outputs": [
    {
     "data": {
      "text/plain": [
       "{'ns': 'test_database.customers', 'nIndexesWas': 1, 'ok': 1.0}"
      ]
     },
     "execution_count": 87,
     "metadata": {},
     "output_type": "execute_result"
    }
   ],
   "source": [
    "db.drop_collection(\"customers\")"
   ]
  },
  {
   "cell_type": "code",
   "execution_count": 88,
   "metadata": {},
   "outputs": [
    {
     "data": {
      "text/plain": [
       "Collection(Database(MongoClient(host=['this_mongo_1:27017'], document_class=dict, tz_aware=False, connect=True), 'test_database'), 'customers')"
      ]
     },
     "execution_count": 88,
     "metadata": {},
     "output_type": "execute_result"
    }
   ],
   "source": [
    "db.create_collection(\"customers\")"
   ]
  },
  {
   "cell_type": "code",
   "execution_count": 89,
   "metadata": {},
   "outputs": [],
   "source": [
    "db.customers.insert_one({\"first_name\":\"John\", \"last_name\":\"Doe\"});"
   ]
  },
  {
   "cell_type": "code",
   "execution_count": 90,
   "metadata": {},
   "outputs": [
    {
     "name": "stdout",
     "output_type": "stream",
     "text": [
      "{'_id': ObjectId('5b34c2dfd7e91c004de9bcee'),\n",
      " 'first_name': 'John',\n",
      " 'last_name': 'Doe'}\n"
     ]
    }
   ],
   "source": [
    "cursor = db.customers.find()\n",
    "for doc in cursor:\n",
    "    p.pprint(doc)"
   ]
  },
  {
   "cell_type": "code",
   "execution_count": 91,
   "metadata": {},
   "outputs": [],
   "source": [
    "db.customers.insert_many(\n",
    "    [{\"first_name\":\"Alex\", \"last_name\":\"Piccolo\"},\n",
    "     {\"first_name\":\"David\", \"last_name\":\"Gaurdia\"}]\n",
    "     );"
   ]
  },
  {
   "cell_type": "code",
   "execution_count": 92,
   "metadata": {},
   "outputs": [
    {
     "name": "stdout",
     "output_type": "stream",
     "text": [
      "{'_id': ObjectId('5b34c2dfd7e91c004de9bcee'),\n",
      " 'first_name': 'John',\n",
      " 'last_name': 'Doe'}\n",
      "{'_id': ObjectId('5b34c364d7e91c004de9bcef'),\n",
      " 'first_name': 'Alex',\n",
      " 'last_name': 'Piccolo'}\n",
      "{'_id': ObjectId('5b34c364d7e91c004de9bcf0'),\n",
      " 'first_name': 'David',\n",
      " 'last_name': 'Gaurdia'}\n"
     ]
    }
   ],
   "source": [
    "cursor = db.customers.find()\n",
    "for doc in cursor:\n",
    "    p.pprint(doc)"
   ]
  },
  {
   "cell_type": "code",
   "execution_count": null,
   "metadata": {},
   "outputs": [],
   "source": [
    "db.customers.insert_many(\n",
    "    [{\"first_name\":\"Alex\", \"last_name\":\"Piccolo\"},\n",
    "     {\"first_name\":\"David\", \"last_name\":\"Gaurdia\"}]\n",
    "     );"
   ]
  },
  {
   "cell_type": "code",
   "execution_count": 93,
   "metadata": {},
   "outputs": [],
   "source": [
    "db.customers.insert_many(\n",
    "    [{\"first_name\":\"Sophia\", \"last_name\":\"Piccolo\", \"Sex\": \"Girl\"},\n",
    "     {\"first_name\":\"Joe\", \"last_name\":\"Piccolo\", \"Age\": 19}]\n",
    "     );"
   ]
  },
  {
   "cell_type": "code",
   "execution_count": 100,
   "metadata": {},
   "outputs": [
    {
     "name": "stdout",
     "output_type": "stream",
     "text": [
      "{'_id': ObjectId('5b34c2dfd7e91c004de9bcee'),\n",
      " 'first_name': 'John',\n",
      " 'last_name': 'Doe'}\n",
      "{'_id': ObjectId('5b34c364d7e91c004de9bcef'),\n",
      " 'first_name': 'Alex',\n",
      " 'last_name': 'Piccolo'}\n",
      "{'_id': ObjectId('5b34c364d7e91c004de9bcf0'),\n",
      " 'first_name': 'David',\n",
      " 'last_name': 'Gaurdia'}\n",
      "{'Sex': 'Girl',\n",
      " '_id': ObjectId('5b34c3c4d7e91c004de9bcf1'),\n",
      " 'first_name': 'Sophia',\n",
      " 'last_name': 'Piccolo'}\n",
      "{'Age': 19,\n",
      " '_id': ObjectId('5b34c3c4d7e91c004de9bcf2'),\n",
      " 'first_name': 'Joe',\n",
      " 'last_name': 'Piccolo'}\n"
     ]
    }
   ],
   "source": [
    "#db.customers.find().pretty();\n",
    "cursor = db.customers.find()\n",
    "for doc in cursor:\n",
    "    p.pprint(doc)"
   ]
  },
  {
   "cell_type": "code",
   "execution_count": 124,
   "metadata": {},
   "outputs": [],
   "source": [
    "test =db.customer.replace_one({\"first_name\": \"John\"},{\"first_name\":\"John\", \"last_name\":\"Doe\",\n",
    "                                        \"Sex\": \"man\"})\n"
   ]
  },
  {
   "cell_type": "code",
   "execution_count": 125,
   "metadata": {},
   "outputs": [
    {
     "name": "stdout",
     "output_type": "stream",
     "text": [
      "{'_id': ObjectId('5b34c2dfd7e91c004de9bcee'),\n",
      " 'first_name': 'John',\n",
      " 'last_name': 'Doe'}\n",
      "{'_id': ObjectId('5b34c364d7e91c004de9bcef'),\n",
      " 'first_name': 'Alex',\n",
      " 'last_name': 'Piccolo'}\n",
      "{'_id': ObjectId('5b34c364d7e91c004de9bcf0'),\n",
      " 'first_name': 'David',\n",
      " 'last_name': 'Gaurdia'}\n",
      "{'Sex': 'Girl',\n",
      " '_id': ObjectId('5b34c3c4d7e91c004de9bcf1'),\n",
      " 'first_name': 'Sophia',\n",
      " 'last_name': 'Piccolo'}\n",
      "{'Age': 19,\n",
      " '_id': ObjectId('5b34c3c4d7e91c004de9bcf2'),\n",
      " 'first_name': 'Joe',\n",
      " 'last_name': 'Piccolo'}\n"
     ]
    }
   ],
   "source": [
    "#db.customers.find().pretty();\n",
    "cursor = db.customers.find()\n",
    "for doc in cursor:\n",
    "    p.pprint(doc)"
   ]
  },
  {
   "cell_type": "code",
   "execution_count": 126,
   "metadata": {},
   "outputs": [
    {
     "ename": "AttributeError",
     "evalue": "type object 'set' has no attribute 'startswith'",
     "output_type": "error",
     "traceback": [
      "\u001b[0;31m---------------------------------------------------------------------------\u001b[0m",
      "\u001b[0;31mAttributeError\u001b[0m                            Traceback (most recent call last)",
      "\u001b[0;32m<ipython-input-126-10ad1d1c20d0>\u001b[0m in \u001b[0;36m<module>\u001b[0;34m()\u001b[0m\n\u001b[0;32m----> 1\u001b[0;31m \u001b[0mdb\u001b[0m\u001b[0;34m.\u001b[0m\u001b[0mcustomers\u001b[0m\u001b[0;34m.\u001b[0m\u001b[0mupdate_one\u001b[0m\u001b[0;34m(\u001b[0m\u001b[0;34m{\u001b[0m\u001b[0;34m\"first_name\"\u001b[0m\u001b[0;34m:\u001b[0m \u001b[0;34m\"John\"\u001b[0m\u001b[0;34m}\u001b[0m\u001b[0;34m,\u001b[0m\u001b[0;34m{\u001b[0m\u001b[0mset\u001b[0m\u001b[0;34m:\u001b[0m\u001b[0;34m{\u001b[0m\u001b[0;34m\"sex\"\u001b[0m\u001b[0;34m:\u001b[0m\u001b[0;34m\"boy\"\u001b[0m\u001b[0;34m}\u001b[0m\u001b[0;34m}\u001b[0m\u001b[0;34m)\u001b[0m\u001b[0;34m;\u001b[0m\u001b[0;34m\u001b[0m\u001b[0m\n\u001b[0m",
      "\u001b[0;32m/opt/conda/lib/python3.6/site-packages/pymongo/collection.py\u001b[0m in \u001b[0;36mupdate_one\u001b[0;34m(self, filter, update, upsert, bypass_document_validation, collation, array_filters, session)\u001b[0m\n\u001b[1;32m    966\u001b[0m         \"\"\"\n\u001b[1;32m    967\u001b[0m         \u001b[0mcommon\u001b[0m\u001b[0;34m.\u001b[0m\u001b[0mvalidate_is_mapping\u001b[0m\u001b[0;34m(\u001b[0m\u001b[0;34m\"filter\"\u001b[0m\u001b[0;34m,\u001b[0m \u001b[0mfilter\u001b[0m\u001b[0;34m)\u001b[0m\u001b[0;34m\u001b[0m\u001b[0m\n\u001b[0;32m--> 968\u001b[0;31m         \u001b[0mcommon\u001b[0m\u001b[0;34m.\u001b[0m\u001b[0mvalidate_ok_for_update\u001b[0m\u001b[0;34m(\u001b[0m\u001b[0mupdate\u001b[0m\u001b[0;34m)\u001b[0m\u001b[0;34m\u001b[0m\u001b[0m\n\u001b[0m\u001b[1;32m    969\u001b[0m         \u001b[0mcommon\u001b[0m\u001b[0;34m.\u001b[0m\u001b[0mvalidate_list_or_none\u001b[0m\u001b[0;34m(\u001b[0m\u001b[0;34m'array_filters'\u001b[0m\u001b[0;34m,\u001b[0m \u001b[0marray_filters\u001b[0m\u001b[0;34m)\u001b[0m\u001b[0;34m\u001b[0m\u001b[0m\n\u001b[1;32m    970\u001b[0m \u001b[0;34m\u001b[0m\u001b[0m\n",
      "\u001b[0;32m/opt/conda/lib/python3.6/site-packages/pymongo/common.py\u001b[0m in \u001b[0;36mvalidate_ok_for_update\u001b[0;34m(update)\u001b[0m\n\u001b[1;32m    463\u001b[0m         \u001b[0;32mraise\u001b[0m \u001b[0mValueError\u001b[0m\u001b[0;34m(\u001b[0m\u001b[0;34m'update only works with $ operators'\u001b[0m\u001b[0;34m)\u001b[0m\u001b[0;34m\u001b[0m\u001b[0m\n\u001b[1;32m    464\u001b[0m     \u001b[0mfirst\u001b[0m \u001b[0;34m=\u001b[0m \u001b[0mnext\u001b[0m\u001b[0;34m(\u001b[0m\u001b[0miter\u001b[0m\u001b[0;34m(\u001b[0m\u001b[0mupdate\u001b[0m\u001b[0;34m)\u001b[0m\u001b[0;34m)\u001b[0m\u001b[0;34m\u001b[0m\u001b[0m\n\u001b[0;32m--> 465\u001b[0;31m     \u001b[0;32mif\u001b[0m \u001b[0;32mnot\u001b[0m \u001b[0mfirst\u001b[0m\u001b[0;34m.\u001b[0m\u001b[0mstartswith\u001b[0m\u001b[0;34m(\u001b[0m\u001b[0;34m'$'\u001b[0m\u001b[0;34m)\u001b[0m\u001b[0;34m:\u001b[0m\u001b[0;34m\u001b[0m\u001b[0m\n\u001b[0m\u001b[1;32m    466\u001b[0m         \u001b[0;32mraise\u001b[0m \u001b[0mValueError\u001b[0m\u001b[0;34m(\u001b[0m\u001b[0;34m'update only works with $ operators'\u001b[0m\u001b[0;34m)\u001b[0m\u001b[0;34m\u001b[0m\u001b[0m\n\u001b[1;32m    467\u001b[0m \u001b[0;34m\u001b[0m\u001b[0m\n",
      "\u001b[0;31mAttributeError\u001b[0m: type object 'set' has no attribute 'startswith'"
     ]
    }
   ],
   "source": [
    "db.customers.update_one({\"first_name\": \"John\"},{set:{\"sex\":\"boy\"}});"
   ]
  },
  {
   "cell_type": "markdown",
   "metadata": {},
   "source": [
    "#### another tutorial http://alexrdouglas.com/pymongo-tutorial/"
   ]
  },
  {
   "cell_type": "code",
   "execution_count": 1,
   "metadata": {},
   "outputs": [],
   "source": [
    "import pymongo\n",
    "from pymongo import MongoClient\n",
    "client = pymongo.MongoClient('this_mongo_1')"
   ]
  },
  {
   "cell_type": "code",
   "execution_count": 2,
   "metadata": {},
   "outputs": [
    {
     "data": {
      "text/plain": [
       "['admin', 'config', 'local', 'test_database', 'twitter']"
      ]
     },
     "execution_count": 2,
     "metadata": {},
     "output_type": "execute_result"
    }
   ],
   "source": [
    "client.database_names()"
   ]
  },
  {
   "cell_type": "code",
   "execution_count": 3,
   "metadata": {},
   "outputs": [
    {
     "data": {
      "text/plain": [
       "0"
      ]
     },
     "execution_count": 3,
     "metadata": {},
     "output_type": "execute_result"
    }
   ],
   "source": [
    "test_db = client.get_database('test2')\n",
    "test_collection = test_db['test_collection']\n",
    "test_collection.count() #get number of documents"
   ]
  },
  {
   "cell_type": "markdown",
   "metadata": {},
   "source": [
    "# add and delete and edit"
   ]
  },
  {
   "cell_type": "code",
   "execution_count": 4,
   "metadata": {},
   "outputs": [
    {
     "data": {
      "text/plain": [
       "3"
      ]
     },
     "execution_count": 4,
     "metadata": {},
     "output_type": "execute_result"
    }
   ],
   "source": [
    "items = []\n",
    "\n",
    "items.append({'name': 'bandit', 'type': 'cat', 'age': 7})\n",
    "items.append({'name': 'alfred', 'type': 'dog', 'age': 5})\n",
    "items.append({'name': 'lillie', 'type': 'cat', 'age': 9})\n",
    "\n",
    "for item in items:\n",
    "    test_collection.insert_one(item)\n",
    "    \n",
    "test_collection.count()"
   ]
  },
  {
   "cell_type": "code",
   "execution_count": 5,
   "metadata": {},
   "outputs": [
    {
     "data": {
      "text/plain": [
       "1"
      ]
     },
     "execution_count": 5,
     "metadata": {},
     "output_type": "execute_result"
    }
   ],
   "source": [
    "test_collection.delete_many({'type': 'cat'})\n",
    "test_collection.count()"
   ]
  },
  {
   "cell_type": "code",
   "execution_count": 6,
   "metadata": {},
   "outputs": [
    {
     "name": "stdout",
     "output_type": "stream",
     "text": [
      "{'_id': ObjectId('5b34edf5d7e91c005e8a8362'), 'name': 'alfred', 'type': 'dog', 'age': 5, 'sound': 'woof'}\n"
     ]
    }
   ],
   "source": [
    "for doc in test_collection.find():\n",
    "    if doc['type'] == 'cat':\n",
    "        test_collection.update_one({'_id': dock['_id']},\n",
    "                                  {'$set': {'sound': 'meow'}})\n",
    "    else:\n",
    "        test_collection.update_one({'_id': doc['_id']},\n",
    "                                  {'$set': {'sound': 'woof'}})\n",
    "        \n",
    "for doc in test_collection.find():\n",
    "    print(doc)"
   ]
  },
  {
   "cell_type": "code",
   "execution_count": 7,
   "metadata": {},
   "outputs": [
    {
     "name": "stdout",
     "output_type": "stream",
     "text": [
      "{'_id': ObjectId('5b34edf5d7e91c005e8a8362'),\n",
      " 'age': 5,\n",
      " 'name': 'alfred',\n",
      " 'sound': 'woof',\n",
      " 'type': 'dog'}\n"
     ]
    }
   ],
   "source": [
    "import pprint\n",
    "for doc in test_collection.find():\n",
    "    pprint.pprint(doc)"
   ]
  },
  {
   "cell_type": "code",
   "execution_count": 8,
   "metadata": {},
   "outputs": [
    {
     "name": "stdout",
     "output_type": "stream",
     "text": [
      "{'_id': ObjectId('5b34edf5d7e91c005e8a8362'),\n",
      " 'age': 5,\n",
      " 'name': 'alfred',\n",
      " 'sound': 'woof',\n",
      " 'type': 'dog'}\n",
      "{'_id': ObjectId('5b34efe5d7e91c005e8a8364'),\n",
      " 'age': 7,\n",
      " 'name': 'bandit',\n",
      " 'type': 'cat'}\n",
      "{'_id': ObjectId('5b34efe5d7e91c005e8a8365'),\n",
      " 'age': 5,\n",
      " 'name': 'alfred',\n",
      " 'type': 'dog'}\n",
      "{'_id': ObjectId('5b34efe5d7e91c005e8a8366'),\n",
      " 'age': 9,\n",
      " 'name': 'lillie',\n",
      " 'type': 'cat'}\n"
     ]
    }
   ],
   "source": [
    "items = []\n",
    "\n",
    "items.append({'name': 'bandit', 'type': 'cat', 'age': 7})\n",
    "items.append({'name': 'alfred', 'type': 'dog', 'age': 5})\n",
    "items.append({'name': 'lillie', 'type': 'cat', 'age': 9})\n",
    "\n",
    "for item in items:\n",
    "    test_collection.insert_one(item)\n",
    "    \n",
    "for doc in test_collection.find():\n",
    "    pprint.pprint(doc)"
   ]
  },
  {
   "cell_type": "code",
   "execution_count": 10,
   "metadata": {},
   "outputs": [
    {
     "name": "stdout",
     "output_type": "stream",
     "text": [
      "{'_id': ObjectId('5b34edf5d7e91c005e8a8362'),\n",
      " 'age': 5,\n",
      " 'name': 'alfred',\n",
      " 'sound': 'woof',\n",
      " 'type': 'dog'}\n",
      "{'_id': ObjectId('5b34efe5d7e91c005e8a8364'),\n",
      " 'age': 7,\n",
      " 'name': 'bandit',\n",
      " 'sound': 'meow',\n",
      " 'type': 'cat'}\n",
      "{'_id': ObjectId('5b34efe5d7e91c005e8a8365'),\n",
      " 'age': 5,\n",
      " 'name': 'alfred',\n",
      " 'sound': 'woof',\n",
      " 'type': 'dog'}\n",
      "{'_id': ObjectId('5b34efe5d7e91c005e8a8366'),\n",
      " 'age': 9,\n",
      " 'name': 'lillie',\n",
      " 'sound': 'meow',\n",
      " 'type': 'cat'}\n"
     ]
    }
   ],
   "source": [
    "for doc in test_collection.find():\n",
    "    if doc['type'] == 'cat':\n",
    "        test_collection.update_one({'_id': doc['_id']},\n",
    "                                  {'$set': {'sound': 'meow'}})\n",
    "    else:\n",
    "        test_collection.update_one({'_id': doc['_id']},\n",
    "                                  {'$set': {'sound': 'woof'}})\n",
    "for doc in test_collection.find():\n",
    "    pprint.pprint(doc)"
   ]
  },
  {
   "cell_type": "code",
   "execution_count": 14,
   "metadata": {},
   "outputs": [
    {
     "name": "stdout",
     "output_type": "stream",
     "text": [
      "{'_id': ObjectId('5b34efe5d7e91c005e8a8366'),\n",
      " 'age': 9,\n",
      " 'name': 'lillie',\n",
      " 'sound': 'meow',\n",
      " 'type': 'cat'}\n"
     ]
    }
   ],
   "source": [
    "for doc in test_collection.find():\n",
    "    if doc['age'] <= 7:\n",
    "        test_collection.delete_one({'_id': doc['_id']})\n",
    "        \n",
    "for doc in test_collection.find():\n",
    "    pprint.pprint(doc)"
   ]
  }
 ],
 "metadata": {
  "kernelspec": {
   "display_name": "Python 3",
   "language": "python",
   "name": "python3"
  },
  "language_info": {
   "codemirror_mode": {
    "name": "ipython",
    "version": 3
   },
   "file_extension": ".py",
   "mimetype": "text/x-python",
   "name": "python",
   "nbconvert_exporter": "python",
   "pygments_lexer": "ipython3",
   "version": "3.6.5"
  }
 },
 "nbformat": 4,
 "nbformat_minor": 2
}
