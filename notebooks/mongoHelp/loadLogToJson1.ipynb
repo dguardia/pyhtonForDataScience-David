{
 "cells": [
  {
   "cell_type": "code",
   "execution_count": 1,
   "metadata": {},
   "outputs": [
    {
     "data": {
      "text/plain": [
       "['admin', 'config', 'fitbit', 'local', 'test2', 'test_database', 'twitter']"
      ]
     },
     "execution_count": 1,
     "metadata": {},
     "output_type": "execute_result"
    }
   ],
   "source": [
    "import pymongo\n",
    "from pymongo import MongoClient\n",
    "client = pymongo.MongoClient('this_mongo_1')\n",
    "client.database_names()"
   ]
  },
  {
   "cell_type": "code",
   "execution_count": 2,
   "metadata": {},
   "outputs": [
    {
     "data": {
      "text/plain": [
       "2"
      ]
     },
     "execution_count": 2,
     "metadata": {},
     "output_type": "execute_result"
    }
   ],
   "source": [
    "test_db = client.get_database('fitbit')\n",
    "test_collection = test_db['test_log1']\n",
    "test_collection.count() #get number of documents"
   ]
  },
  {
   "cell_type": "code",
   "execution_count": 3,
   "metadata": {},
   "outputs": [
    {
     "name": "stdout",
     "output_type": "stream",
     "text": [
      "{'_id': ObjectId('5b37aa234803f10061cf834f'), 'date': '2015-02-20'}\n",
      "{'_id': ObjectId('5b37aa234803f10061cf8350'),\n",
      " 'days_metrics': [{'steps': 11965},\n",
      "                  {'caloriesOut': 2739},\n",
      "                  {'Activity_sedentary': 791},\n",
      "                  {'Activity_lightly': 210},\n",
      "                  {'Activity_moderately': 7},\n",
      "                  {'Activity_very': 47},\n",
      "                  {'HRateOutOfRange': 1293},\n",
      "                  {'HRateFatBurn': 119},\n",
      "                  {'HRateCardio': 6},\n",
      "                  {'HRatePeak': 2}]}\n"
     ]
    }
   ],
   "source": [
    "import pprint\n",
    "for doc in test_collection.find():\n",
    "    pprint.pprint(doc)"
   ]
  },
  {
   "cell_type": "code",
   "execution_count": 4,
   "metadata": {},
   "outputs": [],
   "source": [
    "for doc in test_collection.find():\n",
    "    test_collection.delete_one({'_id': doc['_id']})"
   ]
  },
  {
   "cell_type": "code",
   "execution_count": 6,
   "metadata": {},
   "outputs": [],
   "source": [
    "for doc in test_collection.find():\n",
    "    pprint.pprint(doc)"
   ]
  },
  {
   "cell_type": "code",
   "execution_count": 7,
   "metadata": {},
   "outputs": [],
   "source": [
    "import json\n",
    "import os\n",
    "import numpy as np\n",
    "import pandas as pd\n",
    "import pprint"
   ]
  },
  {
   "cell_type": "code",
   "execution_count": 8,
   "metadata": {},
   "outputs": [
    {
     "data": {
      "text/plain": [
       "'/notebooks/mongoHelp'"
      ]
     },
     "execution_count": 8,
     "metadata": {},
     "output_type": "execute_result"
    }
   ],
   "source": [
    "%pwd"
   ]
  },
  {
   "cell_type": "code",
   "execution_count": 9,
   "metadata": {},
   "outputs": [
    {
     "data": {
      "text/plain": [
       "'/notebooks/GetFitbitData/logs/activities'"
      ]
     },
     "execution_count": 9,
     "metadata": {},
     "output_type": "execute_result"
    }
   ],
   "source": [
    "os.chdir('/notebooks/GetFitbitData/logs/activities/')\n",
    "%pwd"
   ]
  },
  {
   "cell_type": "code",
   "execution_count": 10,
   "metadata": {},
   "outputs": [],
   "source": [
    "dates = pd.date_range(\"2015-02-20\", \"2015-02-20\")\n",
    "\n",
    "for date in dates:\n",
    "    fname = 'activitiesRate' + date.strftime('%Y-%m-%d') + '.json'\n",
    "    with open(fname) as f:\n",
    "        date_data = json.loads(f.read())"
   ]
  },
  {
   "cell_type": "code",
   "execution_count": 11,
   "metadata": {},
   "outputs": [
    {
     "name": "stdout",
     "output_type": "stream",
     "text": [
      "{'activities': [],\n",
      " 'summary': {'activityLevels': [{'distance': 0,\n",
      "                                 'minutes': 791,\n",
      "                                 'name': 'sedentary'},\n",
      "                                {'distance': 4.56,\n",
      "                                 'minutes': 210,\n",
      "                                 'name': 'lightly'},\n",
      "                                {'distance': 0.31,\n",
      "                                 'minutes': 7,\n",
      "                                 'name': 'moderately'},\n",
      "                                {'distance': 3.93,\n",
      "                                 'minutes': 47,\n",
      "                                 'name': 'very'}],\n",
      "             'calories': {'bmr': 1623, 'total': 2739},\n",
      "             'customHeartRateZones': [],\n",
      "             'distance': 8.79,\n",
      "             'elevation': 42.67,\n",
      "             'floors': 14,\n",
      "             'heartRateZones': [{'caloriesOut': 1901.81106,\n",
      "                                 'max': 86,\n",
      "                                 'min': 30,\n",
      "                                 'minutes': 1293,\n",
      "                                 'name': 'Out of Range'},\n",
      "                                {'caloriesOut': 739.08712,\n",
      "                                 'max': 121,\n",
      "                                 'min': 86,\n",
      "                                 'minutes': 119,\n",
      "                                 'name': 'Fat Burn'},\n",
      "                                {'caloriesOut': 43.8594,\n",
      "                                 'max': 147,\n",
      "                                 'min': 121,\n",
      "                                 'minutes': 6,\n",
      "                                 'name': 'Cardio'},\n",
      "                                {'caloriesOut': 9.22172,\n",
      "                                 'max': 220,\n",
      "                                 'min': 147,\n",
      "                                 'minutes': 2,\n",
      "                                 'name': 'Peak'}],\n",
      "             'steps': 11965}}\n"
     ]
    }
   ],
   "source": [
    "pprint.pprint(date_data)"
   ]
  },
  {
   "cell_type": "code",
   "execution_count": 18,
   "metadata": {},
   "outputs": [
    {
     "name": "stdout",
     "output_type": "stream",
     "text": [
      "[{'date': '2015-02-20'}]\n"
     ]
    }
   ],
   "source": [
    "document = []\n",
    "key_date = ['date']\n",
    "value = [str(date.strftime('%Y-%m-%d'))]\n",
    "data_day = dict(zip(key_date, value))\n",
    "document.append(data_day)\n",
    "\n",
    "print(document)"
   ]
  },
  {
   "cell_type": "code",
   "execution_count": 19,
   "metadata": {},
   "outputs": [],
   "source": [
    "with open(fname) as f:\n",
    "    sample_data = json.loads(f.read())\n",
    "\n",
    "    key = ['steps']\n",
    "    value = [sample_data['summary']['steps']]\n",
    "    item = dict(zip(key, value))\n",
    "    document.append(item)\n",
    "    #print(activity)\n",
    "    key = ['caloriesOut']\n",
    "    value = [sample_data['summary']['calories']['total']]\n",
    "    item = dict(zip(key, value))\n",
    "    document.append(item)\n",
    "    #print(activity)\n",
    "    key = ['Activity_sedentary']\n",
    "    value = [sample_data['summary']['activityLevels'][0]['minutes']]\n",
    "    item = dict(zip(key, value))\n",
    "    document.append(item)\n",
    "    #print(activity)\n",
    "    key = ['Activity_lightly']\n",
    "    value = [sample_data['summary']['activityLevels'][1]['minutes']]\n",
    "    item = dict(zip(key, value))\n",
    "    document.append(item)\n",
    "    #print(activity)\n",
    "    key = ['Activity_moderately']\n",
    "    value = [sample_data['summary']['activityLevels'][2]['minutes']]\n",
    "    item = dict(zip(key, value))\n",
    "    document.append(item)\n",
    "    #print(activity)\n",
    "    key = ['Activity_very']\n",
    "    value = [sample_data['summary']['activityLevels'][3]['minutes']]\n",
    "    item = dict(zip(key, value))\n",
    "    document.append(item)\n",
    "    #print(activity)\n",
    "    key = ['HRateOutOfRange']\n",
    "    value = [sample_data['summary']['heartRateZones'][0]['minutes']]\n",
    "    item = dict(zip(key, value))\n",
    "    document.append(item)\n",
    "    #print(activity)\n",
    "    key = ['HRateFatBurn']\n",
    "    value = [sample_data['summary']['heartRateZones'][1]['minutes']]\n",
    "    item = dict(zip(key, value))\n",
    "    document.append(item)\n",
    "    #print(activity)\n",
    "    key = ['HRateCardio']\n",
    "    value = [sample_data['summary']['heartRateZones'][2]['minutes']]\n",
    "    item = dict(zip(key, value))\n",
    "    document.append(item)\n",
    "    #print(activity)\n",
    "    key = ['HRatePeak']\n",
    "    value = [sample_data['summary']['heartRateZones'][3]['minutes']]\n",
    "    item = dict(zip(key, value))\n",
    "    document.append(item)"
   ]
  },
  {
   "cell_type": "code",
   "execution_count": 19,
   "metadata": {},
   "outputs": [],
   "source": [
    "with open(fname) as f:\n",
    "    sample_data = json.loads(f.read())\n",
    "\n",
    "    key = ['steps']\n",
    "    value = [sample_data['summary']['steps']]\n",
    "    item = dict(zip(key, value))\n",
    "    document.append(item)\n",
    "    #print(activity)\n",
    "    key = ['caloriesOut']\n",
    "    value = [sample_data['summary']['calories']['total']]\n",
    "    item = dict(zip(key, value))\n",
    "    document.append(item)\n",
    "    #print(activity)\n",
    "    key = ['Activity_sedentary']\n",
    "    value = [sample_data['summary']['activityLevels'][0]['minutes']]\n",
    "    item = dict(zip(key, value))\n",
    "    document.append(item)\n",
    "    #print(activity)\n",
    "    key = ['Activity_lightly']\n",
    "    value = [sample_data['summary']['activityLevels'][1]['minutes']]\n",
    "    item = dict(zip(key, value))\n",
    "    document.append(item)\n",
    "    #print(activity)\n",
    "    key = ['Activity_moderately']\n",
    "    value = [sample_data['summary']['activityLevels'][2]['minutes']]\n",
    "    item = dict(zip(key, value))\n",
    "    document.append(item)\n",
    "    #print(activity)\n",
    "    key = ['Activity_very']\n",
    "    value = [sample_data['summary']['activityLevels'][3]['minutes']]\n",
    "    item = dict(zip(key, value))\n",
    "    document.append(item)\n",
    "    #print(activity)\n",
    "    key = ['HRateOutOfRange']\n",
    "    value = [sample_data['summary']['heartRateZones'][0]['minutes']]\n",
    "    item = dict(zip(key, value))\n",
    "    document.append(item)\n",
    "    #print(activity)\n",
    "    key = ['HRateFatBurn']\n",
    "    value = [sample_data['summary']['heartRateZones'][1]['minutes']]\n",
    "    item = dict(zip(key, value))\n",
    "    document.append(item)\n",
    "    #print(activity)\n",
    "    key = ['HRateCardio']\n",
    "    value = [sample_data['summary']['heartRateZones'][2]['minutes']]\n",
    "    item = dict(zip(key, value))\n",
    "    document.append(item)\n",
    "    #print(activity)\n",
    "    key = ['HRatePeak']\n",
    "    value = [sample_data['summary']['heartRateZones'][3]['minutes']]\n",
    "    item = dict(zip(key, value))\n",
    "    document.append(item)"
   ]
  },
  {
   "cell_type": "code",
   "execution_count": null,
   "metadata": {},
   "outputs": [],
   "source": []
  },
  {
   "cell_type": "code",
   "execution_count": null,
   "metadata": {},
   "outputs": [],
   "source": []
  },
  {
   "cell_type": "code",
   "execution_count": null,
   "metadata": {},
   "outputs": [],
   "source": []
  },
  {
   "cell_type": "code",
   "execution_count": null,
   "metadata": {},
   "outputs": [],
   "source": []
  },
  {
   "cell_type": "code",
   "execution_count": null,
   "metadata": {},
   "outputs": [],
   "source": []
  },
  {
   "cell_type": "code",
   "execution_count": null,
   "metadata": {},
   "outputs": [],
   "source": []
  },
  {
   "cell_type": "code",
   "execution_count": null,
   "metadata": {},
   "outputs": [],
   "source": []
  },
  {
   "cell_type": "code",
   "execution_count": 20,
   "metadata": {},
   "outputs": [
    {
     "name": "stdout",
     "output_type": "stream",
     "text": [
      "[{'date': '2015-02-20'}, {'steps': 11965}, {'caloriesOut': 2739}, {'Activity_sedentary': 791}, {'Activity_lightly': 210}, {'Activity_moderately': 7}, {'Activity_very': 47}, {'HRateOutOfRange': 1293}, {'HRateFatBurn': 119}, {'HRateCardio': 6}, {'HRatePeak': 2}]\n"
     ]
    }
   ],
   "source": [
    "print(document)"
   ]
  },
  {
   "cell_type": "code",
   "execution_count": 21,
   "metadata": {},
   "outputs": [],
   "source": [
    "for item in document:\n",
    "    test_collection.insert_one(item)"
   ]
  },
  {
   "cell_type": "code",
   "execution_count": 22,
   "metadata": {},
   "outputs": [
    {
     "name": "stdout",
     "output_type": "stream",
     "text": [
      "{'_id': ObjectId('5b3808954803f10075abd09d'), 'date': '2015-02-20'}\n",
      "{'_id': ObjectId('5b3808954803f10075abd09e'), 'steps': 11965}\n",
      "{'_id': ObjectId('5b3808954803f10075abd09f'), 'caloriesOut': 2739}\n",
      "{'Activity_sedentary': 791, '_id': ObjectId('5b3808954803f10075abd0a0')}\n",
      "{'Activity_lightly': 210, '_id': ObjectId('5b3808954803f10075abd0a1')}\n",
      "{'Activity_moderately': 7, '_id': ObjectId('5b3808954803f10075abd0a2')}\n",
      "{'Activity_very': 47, '_id': ObjectId('5b3808954803f10075abd0a3')}\n",
      "{'HRateOutOfRange': 1293, '_id': ObjectId('5b3808954803f10075abd0a4')}\n",
      "{'HRateFatBurn': 119, '_id': ObjectId('5b3808954803f10075abd0a5')}\n",
      "{'HRateCardio': 6, '_id': ObjectId('5b3808954803f10075abd0a6')}\n",
      "{'HRatePeak': 2, '_id': ObjectId('5b3808954803f10075abd0a7')}\n"
     ]
    }
   ],
   "source": [
    "for doc in test_collection.find():\n",
    "    pprint.pprint(doc)"
   ]
  },
  {
   "cell_type": "code",
   "execution_count": null,
   "metadata": {},
   "outputs": [],
   "source": []
  },
  {
   "cell_type": "code",
   "execution_count": 41,
   "metadata": {},
   "outputs": [],
   "source": [
    "for doc in test_collection.find():\n",
    "    pprint.pprint(doc)"
   ]
  },
  {
   "cell_type": "code",
   "execution_count": 42,
   "metadata": {},
   "outputs": [
    {
     "name": "stdout",
     "output_type": "stream",
     "text": [
      "{'_id': ObjectId('5b37aa234803f10061cf834f'), 'date': '2015-02-20'}\n",
      "{'_id': ObjectId('5b37aa234803f10061cf8350'),\n",
      " 'days_metrics': [{'steps': 11965},\n",
      "                  {'caloriesOut': 2739},\n",
      "                  {'Activity_sedentary': 791},\n",
      "                  {'Activity_lightly': 210},\n",
      "                  {'Activity_moderately': 7},\n",
      "                  {'Activity_very': 47},\n",
      "                  {'HRateOutOfRange': 1293},\n",
      "                  {'HRateFatBurn': 119},\n",
      "                  {'HRateCardio': 6},\n",
      "                  {'HRatePeak': 2}]}\n"
     ]
    }
   ],
   "source": [
    "for item in document:\n",
    "    test_collection.insert_one(item)\n",
    "    \n",
    "for doc in test_collection.find():\n",
    "    pprint.pprint(doc)"
   ]
  },
  {
   "cell_type": "code",
   "execution_count": null,
   "metadata": {},
   "outputs": [],
   "source": []
  },
  {
   "cell_type": "code",
   "execution_count": 45,
   "metadata": {},
   "outputs": [
    {
     "name": "stdout",
     "output_type": "stream",
     "text": [
      "document= [{'date': '2015-02-20'}, [{'steps': 11965}, {'caloriesOut': 2739}, {'Activity_sedentary': 791}, {'Activity_lightly': 210}, {'Activity_moderately': 7}, {'Activity_very': 47}, {'HRateOutOfRange': 1293}, {'HRateFatBurn': 119}, {'HRateCardio': 6}, {'HRatePeak': 2}]]\n"
     ]
    }
   ],
   "source": [
    "dates = pd.date_range(\"2015-02-20\", \"2015-02-20\")\n",
    "\n",
    "for date in dates:\n",
    "    fname = 'activitiesRate' + date.strftime('%Y-%m-%d') + '.json'\n",
    "    with open(fname) as f:\n",
    "        date_data = json.loads(f.read())\n",
    "\n",
    "        \n",
    "document = []\n",
    "\n",
    "key = ['date']\n",
    "value = [str(date.strftime('%Y-%m-%d'))]\n",
    "data_day = dict(zip(key, value))\n",
    "document.append(data_day)\n",
    "\n",
    "\n",
    "day = []\n",
    "\n",
    "with open(fname) as f:\n",
    "    sample_data = json.loads(f.read())\n",
    "\n",
    "    key = ['steps']\n",
    "    value = [sample_data['summary']['steps']]\n",
    "    item = dict(zip(key, value))\n",
    "    day.append(item)\n",
    "\n",
    "    key = ['caloriesOut']\n",
    "    value = [sample_data['summary']['calories']['total']]\n",
    "    item = dict(zip(key, value))\n",
    "    day.append(item)\n",
    "\n",
    "    key = ['Activity_sedentary']\n",
    "    value = [sample_data['summary']['activityLevels'][0]['minutes']]\n",
    "    item = dict(zip(key, value))\n",
    "    day.append(item)\n",
    "\n",
    "    key = ['Activity_lightly']\n",
    "    value = [sample_data['summary']['activityLevels'][1]['minutes']]\n",
    "    item = dict(zip(key, value))\n",
    "    day.append(item)\n",
    "\n",
    "    key = ['Activity_moderately']\n",
    "    value = [sample_data['summary']['activityLevels'][2]['minutes']]\n",
    "    item = dict(zip(key, value))\n",
    "    day.append(item)\n",
    "\n",
    "    key = ['Activity_very']\n",
    "    value = [sample_data['summary']['activityLevels'][3]['minutes']]\n",
    "    item = dict(zip(key, value))\n",
    "    day.append(item)\n",
    "\n",
    "    key = ['HRateOutOfRange']\n",
    "    value = [sample_data['summary']['heartRateZones'][0]['minutes']]\n",
    "    item = dict(zip(key, value))\n",
    "    day.append(item)\n",
    "\n",
    "    key = ['HRateFatBurn']\n",
    "    value = [sample_data['summary']['heartRateZones'][1]['minutes']]\n",
    "    item = dict(zip(key, value))\n",
    "    day.append(item)\n",
    "\n",
    "    key = ['HRateCardio']\n",
    "    value = [sample_data['summary']['heartRateZones'][2]['minutes']]\n",
    "    item = dict(zip(key, value))\n",
    "    day.append(item)\n",
    "\n",
    "    key = ['HRatePeak']\n",
    "    value = [sample_data['summary']['heartRateZones'][3]['minutes']]\n",
    "    item = dict(zip(key, value))\n",
    "    day.append(item)\n",
    "\n",
    "#print(\"day= {}\".format(day))\n",
    "\n",
    "document.append(day)\n",
    "\n",
    "\n",
    "print(\"document= {}\".format(document))"
   ]
  },
  {
   "cell_type": "code",
   "execution_count": 64,
   "metadata": {},
   "outputs": [
    {
     "name": "stdout",
     "output_type": "stream",
     "text": [
      "document= [{'date': '2015-02-20'}, [{'steps': 11965}, {'caloriesOut': 2739}, {'Activity_sedentary': 791}, {'Activity_lightly': 210}, {'Activity_moderately': 7}, {'Activity_very': 47}, {'HRateOutOfRange': 1293}, {'HRateFatBurn': 119}, {'HRateCardio': 6}, {'HRatePeak': 2}]]\n"
     ]
    }
   ],
   "source": [
    "dates = pd.date_range(\"2015-02-20\", \"2015-02-20\")\n",
    "\n",
    "for date in dates:\n",
    "    fname = 'activitiesRate' + date.strftime('%Y-%m-%d') + '.json'\n",
    "    with open(fname) as f:\n",
    "        date_data = json.loads(f.read())\n",
    "\n",
    "        \n",
    "document = []\n",
    "\n",
    "key = ['date']\n",
    "value = [str(date.strftime('%Y-%m-%d'))]\n",
    "data_day = dict(zip(key, value))\n",
    "document.append(data_day)\n",
    "\n",
    "\n",
    "day = []\n",
    "\n",
    "with open(fname) as f:\n",
    "    sample_data = json.loads(f.read())\n",
    "\n",
    "    key = ['steps']\n",
    "    value = [sample_data['summary']['steps']]\n",
    "    item = dict(zip(key, value))\n",
    "    day.append(item)\n",
    "\n",
    "    key = ['caloriesOut']\n",
    "    value = [sample_data['summary']['calories']['total']]\n",
    "    item = dict(zip(key, value))\n",
    "    day.append(item)\n",
    "\n",
    "    key = ['Activity_sedentary']\n",
    "    value = [sample_data['summary']['activityLevels'][0]['minutes']]\n",
    "    item = dict(zip(key, value))\n",
    "    day.append(item)\n",
    "\n",
    "    key = ['Activity_lightly']\n",
    "    value = [sample_data['summary']['activityLevels'][1]['minutes']]\n",
    "    item = dict(zip(key, value))\n",
    "    day.append(item)\n",
    "\n",
    "    key = ['Activity_moderately']\n",
    "    value = [sample_data['summary']['activityLevels'][2]['minutes']]\n",
    "    item = dict(zip(key, value))\n",
    "    day.append(item)\n",
    "\n",
    "    key = ['Activity_very']\n",
    "    value = [sample_data['summary']['activityLevels'][3]['minutes']]\n",
    "    item = dict(zip(key, value))\n",
    "    day.append(item)\n",
    "\n",
    "    key = ['HRateOutOfRange']\n",
    "    value = [sample_data['summary']['heartRateZones'][0]['minutes']]\n",
    "    item = dict(zip(key, value))\n",
    "    day.append(item)\n",
    "\n",
    "    key = ['HRateFatBurn']\n",
    "    value = [sample_data['summary']['heartRateZones'][1]['minutes']]\n",
    "    item = dict(zip(key, value))\n",
    "    day.append(item)\n",
    "\n",
    "    key = ['HRateCardio']\n",
    "    value = [sample_data['summary']['heartRateZones'][2]['minutes']]\n",
    "    item = dict(zip(key, value))\n",
    "    day.append(item)\n",
    "\n",
    "    key = ['HRatePeak']\n",
    "    value = [sample_data['summary']['heartRateZones'][3]['minutes']]\n",
    "    item = dict(zip(key, value))\n",
    "    day.append(item)\n",
    "\n",
    "#print(\"day= {}\".format(day))\n",
    "\n",
    "document.append(day)\n",
    "\n",
    "\n",
    "print(\"document= {}\".format(document))"
   ]
  },
  {
   "cell_type": "code",
   "execution_count": 65,
   "metadata": {},
   "outputs": [
    {
     "ename": "TypeError",
     "evalue": "document must be an instance of dict, bson.son.SON, bson.raw_bson.RawBSONDocument, or a type that inherits from collections.MutableMapping",
     "output_type": "error",
     "traceback": [
      "\u001b[0;31m---------------------------------------------------------------------------\u001b[0m",
      "\u001b[0;31mTypeError\u001b[0m                                 Traceback (most recent call last)",
      "\u001b[0;32m<ipython-input-65-de3cae879831>\u001b[0m in \u001b[0;36m<module>\u001b[0;34m()\u001b[0m\n\u001b[1;32m      1\u001b[0m \u001b[0;32mfor\u001b[0m \u001b[0mitem\u001b[0m \u001b[0;32min\u001b[0m \u001b[0mdocument\u001b[0m\u001b[0;34m:\u001b[0m\u001b[0;34m\u001b[0m\u001b[0m\n\u001b[0;32m----> 2\u001b[0;31m     \u001b[0mtest_collection\u001b[0m\u001b[0;34m.\u001b[0m\u001b[0minsert_one\u001b[0m\u001b[0;34m(\u001b[0m\u001b[0mitem\u001b[0m\u001b[0;34m)\u001b[0m\u001b[0;34m\u001b[0m\u001b[0m\n\u001b[0m\u001b[1;32m      3\u001b[0m \u001b[0;34m\u001b[0m\u001b[0m\n\u001b[1;32m      4\u001b[0m \u001b[0;32mfor\u001b[0m \u001b[0mdoc\u001b[0m \u001b[0;32min\u001b[0m \u001b[0mtest_collection\u001b[0m\u001b[0;34m.\u001b[0m\u001b[0mfind\u001b[0m\u001b[0;34m(\u001b[0m\u001b[0;34m)\u001b[0m\u001b[0;34m:\u001b[0m\u001b[0;34m\u001b[0m\u001b[0m\n\u001b[1;32m      5\u001b[0m     \u001b[0mpprint\u001b[0m\u001b[0;34m.\u001b[0m\u001b[0mpprint\u001b[0m\u001b[0;34m(\u001b[0m\u001b[0mdoc\u001b[0m\u001b[0;34m)\u001b[0m\u001b[0;34m\u001b[0m\u001b[0m\n",
      "\u001b[0;32m/opt/conda/lib/python3.6/site-packages/pymongo/collection.py\u001b[0m in \u001b[0;36minsert_one\u001b[0;34m(self, document, bypass_document_validation, session)\u001b[0m\n\u001b[1;32m    674\u001b[0m         \u001b[0;34m.\u001b[0m\u001b[0;34m.\u001b[0m \u001b[0mversionadded\u001b[0m\u001b[0;34m:\u001b[0m\u001b[0;34m:\u001b[0m \u001b[0;36m3.0\u001b[0m\u001b[0;34m\u001b[0m\u001b[0m\n\u001b[1;32m    675\u001b[0m         \"\"\"\n\u001b[0;32m--> 676\u001b[0;31m         \u001b[0mcommon\u001b[0m\u001b[0;34m.\u001b[0m\u001b[0mvalidate_is_document_type\u001b[0m\u001b[0;34m(\u001b[0m\u001b[0;34m\"document\"\u001b[0m\u001b[0;34m,\u001b[0m \u001b[0mdocument\u001b[0m\u001b[0;34m)\u001b[0m\u001b[0;34m\u001b[0m\u001b[0m\n\u001b[0m\u001b[1;32m    677\u001b[0m         \u001b[0;32mif\u001b[0m \u001b[0;32mnot\u001b[0m \u001b[0;34m(\u001b[0m\u001b[0misinstance\u001b[0m\u001b[0;34m(\u001b[0m\u001b[0mdocument\u001b[0m\u001b[0;34m,\u001b[0m \u001b[0mRawBSONDocument\u001b[0m\u001b[0;34m)\u001b[0m \u001b[0;32mor\u001b[0m \u001b[0;34m\"_id\"\u001b[0m \u001b[0;32min\u001b[0m \u001b[0mdocument\u001b[0m\u001b[0;34m)\u001b[0m\u001b[0;34m:\u001b[0m\u001b[0;34m\u001b[0m\u001b[0m\n\u001b[1;32m    678\u001b[0m             \u001b[0mdocument\u001b[0m\u001b[0;34m[\u001b[0m\u001b[0;34m\"_id\"\u001b[0m\u001b[0;34m]\u001b[0m \u001b[0;34m=\u001b[0m \u001b[0mObjectId\u001b[0m\u001b[0;34m(\u001b[0m\u001b[0;34m)\u001b[0m\u001b[0;34m\u001b[0m\u001b[0m\n",
      "\u001b[0;32m/opt/conda/lib/python3.6/site-packages/pymongo/common.py\u001b[0m in \u001b[0;36mvalidate_is_document_type\u001b[0;34m(option, value)\u001b[0m\n\u001b[1;32m    432\u001b[0m                         \u001b[0;34m\"bson.raw_bson.RawBSONDocument, or \"\u001b[0m\u001b[0;34m\u001b[0m\u001b[0m\n\u001b[1;32m    433\u001b[0m                         \u001b[0;34m\"a type that inherits from \"\u001b[0m\u001b[0;34m\u001b[0m\u001b[0m\n\u001b[0;32m--> 434\u001b[0;31m                         \"collections.MutableMapping\" % (option,))\n\u001b[0m\u001b[1;32m    435\u001b[0m \u001b[0;34m\u001b[0m\u001b[0m\n\u001b[1;32m    436\u001b[0m \u001b[0;34m\u001b[0m\u001b[0m\n",
      "\u001b[0;31mTypeError\u001b[0m: document must be an instance of dict, bson.son.SON, bson.raw_bson.RawBSONDocument, or a type that inherits from collections.MutableMapping"
     ]
    }
   ],
   "source": [
    "for item in document:\n",
    "    test_collection.insert_one(item)\n",
    "    \n",
    "for doc in test_collection.find():\n",
    "    pprint.pprint(doc)"
   ]
  },
  {
   "cell_type": "code",
   "execution_count": null,
   "metadata": {},
   "outputs": [],
   "source": []
  },
  {
   "cell_type": "code",
   "execution_count": null,
   "metadata": {},
   "outputs": [],
   "source": []
  },
  {
   "cell_type": "code",
   "execution_count": null,
   "metadata": {},
   "outputs": [],
   "source": []
  },
  {
   "cell_type": "code",
   "execution_count": null,
   "metadata": {},
   "outputs": [],
   "source": []
  },
  {
   "cell_type": "code",
   "execution_count": 58,
   "metadata": {},
   "outputs": [],
   "source": [
    "data = json.dumps(day)\n",
    "#result = posts.insert_one(data).inserted_id "
   ]
  },
  {
   "cell_type": "code",
   "execution_count": 59,
   "metadata": {},
   "outputs": [
    {
     "name": "stdout",
     "output_type": "stream",
     "text": [
      "('[{\"steps\": 11965}, {\"caloriesOut\": 2739}, {\"Activity_sedentary\": 791}, '\n",
      " '{\"Activity_lightly\": 210}, {\"Activity_moderately\": 7}, {\"Activity_very\": '\n",
      " '47}, {\"HRateOutOfRange\": 1293}, {\"HRateFatBurn\": 119}, {\"HRateCardio\": 6}, '\n",
      " '{\"HRatePeak\": 2}]')\n"
     ]
    }
   ],
   "source": [
    "pprint.pprint(data)"
   ]
  },
  {
   "cell_type": "code",
   "execution_count": 49,
   "metadata": {},
   "outputs": [
    {
     "name": "stdout",
     "output_type": "stream",
     "text": [
      "{\"results\": [{\"steps\": 11965}, {\"caloriesOut\": 2739}, {\"Activity_sedentary\": 791}, {\"Activity_lightly\": 210}, {\"Activity_moderately\": 7}, {\"Activity_very\": 47}, {\"HRateOutOfRange\": 1293}, {\"HRateFatBurn\": 119}, {\"HRateCardio\": 6}, {\"HRatePeak\": 2}]}\n"
     ]
    }
   ],
   "source": [
    "#json.dumps({'results': result})\n",
    "test = json.dumps({'results': day})\n",
    "print(test)"
   ]
  },
  {
   "cell_type": "code",
   "execution_count": 50,
   "metadata": {},
   "outputs": [
    {
     "ename": "TypeError",
     "evalue": "document must be an instance of dict, bson.son.SON, bson.raw_bson.RawBSONDocument, or a type that inherits from collections.MutableMapping",
     "output_type": "error",
     "traceback": [
      "\u001b[0;31m---------------------------------------------------------------------------\u001b[0m",
      "\u001b[0;31mTypeError\u001b[0m                                 Traceback (most recent call last)",
      "\u001b[0;32m<ipython-input-50-9c252fe4e5ad>\u001b[0m in \u001b[0;36m<module>\u001b[0;34m()\u001b[0m\n\u001b[0;32m----> 1\u001b[0;31m \u001b[0mtest_collection\u001b[0m\u001b[0;34m.\u001b[0m\u001b[0minsert_one\u001b[0m\u001b[0;34m(\u001b[0m\u001b[0mtest\u001b[0m\u001b[0;34m)\u001b[0m\u001b[0;34m\u001b[0m\u001b[0m\n\u001b[0m",
      "\u001b[0;32m/opt/conda/lib/python3.6/site-packages/pymongo/collection.py\u001b[0m in \u001b[0;36minsert_one\u001b[0;34m(self, document, bypass_document_validation, session)\u001b[0m\n\u001b[1;32m    674\u001b[0m         \u001b[0;34m.\u001b[0m\u001b[0;34m.\u001b[0m \u001b[0mversionadded\u001b[0m\u001b[0;34m:\u001b[0m\u001b[0;34m:\u001b[0m \u001b[0;36m3.0\u001b[0m\u001b[0;34m\u001b[0m\u001b[0m\n\u001b[1;32m    675\u001b[0m         \"\"\"\n\u001b[0;32m--> 676\u001b[0;31m         \u001b[0mcommon\u001b[0m\u001b[0;34m.\u001b[0m\u001b[0mvalidate_is_document_type\u001b[0m\u001b[0;34m(\u001b[0m\u001b[0;34m\"document\"\u001b[0m\u001b[0;34m,\u001b[0m \u001b[0mdocument\u001b[0m\u001b[0;34m)\u001b[0m\u001b[0;34m\u001b[0m\u001b[0m\n\u001b[0m\u001b[1;32m    677\u001b[0m         \u001b[0;32mif\u001b[0m \u001b[0;32mnot\u001b[0m \u001b[0;34m(\u001b[0m\u001b[0misinstance\u001b[0m\u001b[0;34m(\u001b[0m\u001b[0mdocument\u001b[0m\u001b[0;34m,\u001b[0m \u001b[0mRawBSONDocument\u001b[0m\u001b[0;34m)\u001b[0m \u001b[0;32mor\u001b[0m \u001b[0;34m\"_id\"\u001b[0m \u001b[0;32min\u001b[0m \u001b[0mdocument\u001b[0m\u001b[0;34m)\u001b[0m\u001b[0;34m:\u001b[0m\u001b[0;34m\u001b[0m\u001b[0m\n\u001b[1;32m    678\u001b[0m             \u001b[0mdocument\u001b[0m\u001b[0;34m[\u001b[0m\u001b[0;34m\"_id\"\u001b[0m\u001b[0;34m]\u001b[0m \u001b[0;34m=\u001b[0m \u001b[0mObjectId\u001b[0m\u001b[0;34m(\u001b[0m\u001b[0;34m)\u001b[0m\u001b[0;34m\u001b[0m\u001b[0m\n",
      "\u001b[0;32m/opt/conda/lib/python3.6/site-packages/pymongo/common.py\u001b[0m in \u001b[0;36mvalidate_is_document_type\u001b[0;34m(option, value)\u001b[0m\n\u001b[1;32m    432\u001b[0m                         \u001b[0;34m\"bson.raw_bson.RawBSONDocument, or \"\u001b[0m\u001b[0;34m\u001b[0m\u001b[0m\n\u001b[1;32m    433\u001b[0m                         \u001b[0;34m\"a type that inherits from \"\u001b[0m\u001b[0;34m\u001b[0m\u001b[0m\n\u001b[0;32m--> 434\u001b[0;31m                         \"collections.MutableMapping\" % (option,))\n\u001b[0m\u001b[1;32m    435\u001b[0m \u001b[0;34m\u001b[0m\u001b[0m\n\u001b[1;32m    436\u001b[0m \u001b[0;34m\u001b[0m\u001b[0m\n",
      "\u001b[0;31mTypeError\u001b[0m: document must be an instance of dict, bson.son.SON, bson.raw_bson.RawBSONDocument, or a type that inherits from collections.MutableMapping"
     ]
    }
   ],
   "source": [
    "test_collection.insert_one(test)"
   ]
  },
  {
   "cell_type": "code",
   "execution_count": 54,
   "metadata": {},
   "outputs": [
    {
     "ename": "TypeError",
     "evalue": "document must be an instance of dict, bson.son.SON, bson.raw_bson.RawBSONDocument, or a type that inherits from collections.MutableMapping",
     "output_type": "error",
     "traceback": [
      "\u001b[0;31m---------------------------------------------------------------------------\u001b[0m",
      "\u001b[0;31mTypeError\u001b[0m                                 Traceback (most recent call last)",
      "\u001b[0;32m<ipython-input-54-35ad74fc0f57>\u001b[0m in \u001b[0;36m<module>\u001b[0;34m()\u001b[0m\n\u001b[0;32m----> 1\u001b[0;31m \u001b[0mtest_collection\u001b[0m\u001b[0;34m.\u001b[0m\u001b[0minsert_many\u001b[0m\u001b[0;34m(\u001b[0m\u001b[0mtest\u001b[0m\u001b[0;34m)\u001b[0m\u001b[0;34m\u001b[0m\u001b[0m\n\u001b[0m",
      "\u001b[0;32m/opt/conda/lib/python3.6/site-packages/pymongo/collection.py\u001b[0m in \u001b[0;36minsert_many\u001b[0;34m(self, documents, ordered, bypass_document_validation, session)\u001b[0m\n\u001b[1;32m    739\u001b[0m \u001b[0;34m\u001b[0m\u001b[0m\n\u001b[1;32m    740\u001b[0m         \u001b[0mblk\u001b[0m \u001b[0;34m=\u001b[0m \u001b[0m_Bulk\u001b[0m\u001b[0;34m(\u001b[0m\u001b[0mself\u001b[0m\u001b[0;34m,\u001b[0m \u001b[0mordered\u001b[0m\u001b[0;34m,\u001b[0m \u001b[0mbypass_document_validation\u001b[0m\u001b[0;34m)\u001b[0m\u001b[0;34m\u001b[0m\u001b[0m\n\u001b[0;32m--> 741\u001b[0;31m         \u001b[0mblk\u001b[0m\u001b[0;34m.\u001b[0m\u001b[0mops\u001b[0m \u001b[0;34m=\u001b[0m \u001b[0;34m[\u001b[0m\u001b[0mdoc\u001b[0m \u001b[0;32mfor\u001b[0m \u001b[0mdoc\u001b[0m \u001b[0;32min\u001b[0m \u001b[0mgen\u001b[0m\u001b[0;34m(\u001b[0m\u001b[0;34m)\u001b[0m\u001b[0;34m]\u001b[0m\u001b[0;34m\u001b[0m\u001b[0m\n\u001b[0m\u001b[1;32m    742\u001b[0m         \u001b[0mblk\u001b[0m\u001b[0;34m.\u001b[0m\u001b[0mexecute\u001b[0m\u001b[0;34m(\u001b[0m\u001b[0mself\u001b[0m\u001b[0;34m.\u001b[0m\u001b[0mwrite_concern\u001b[0m\u001b[0;34m.\u001b[0m\u001b[0mdocument\u001b[0m\u001b[0;34m,\u001b[0m \u001b[0msession\u001b[0m\u001b[0;34m=\u001b[0m\u001b[0msession\u001b[0m\u001b[0;34m)\u001b[0m\u001b[0;34m\u001b[0m\u001b[0m\n\u001b[1;32m    743\u001b[0m         \u001b[0;32mreturn\u001b[0m \u001b[0mInsertManyResult\u001b[0m\u001b[0;34m(\u001b[0m\u001b[0minserted_ids\u001b[0m\u001b[0;34m,\u001b[0m \u001b[0mself\u001b[0m\u001b[0;34m.\u001b[0m\u001b[0mwrite_concern\u001b[0m\u001b[0;34m.\u001b[0m\u001b[0macknowledged\u001b[0m\u001b[0;34m)\u001b[0m\u001b[0;34m\u001b[0m\u001b[0m\n",
      "\u001b[0;32m/opt/conda/lib/python3.6/site-packages/pymongo/collection.py\u001b[0m in \u001b[0;36m<listcomp>\u001b[0;34m(.0)\u001b[0m\n\u001b[1;32m    739\u001b[0m \u001b[0;34m\u001b[0m\u001b[0m\n\u001b[1;32m    740\u001b[0m         \u001b[0mblk\u001b[0m \u001b[0;34m=\u001b[0m \u001b[0m_Bulk\u001b[0m\u001b[0;34m(\u001b[0m\u001b[0mself\u001b[0m\u001b[0;34m,\u001b[0m \u001b[0mordered\u001b[0m\u001b[0;34m,\u001b[0m \u001b[0mbypass_document_validation\u001b[0m\u001b[0;34m)\u001b[0m\u001b[0;34m\u001b[0m\u001b[0m\n\u001b[0;32m--> 741\u001b[0;31m         \u001b[0mblk\u001b[0m\u001b[0;34m.\u001b[0m\u001b[0mops\u001b[0m \u001b[0;34m=\u001b[0m \u001b[0;34m[\u001b[0m\u001b[0mdoc\u001b[0m \u001b[0;32mfor\u001b[0m \u001b[0mdoc\u001b[0m \u001b[0;32min\u001b[0m \u001b[0mgen\u001b[0m\u001b[0;34m(\u001b[0m\u001b[0;34m)\u001b[0m\u001b[0;34m]\u001b[0m\u001b[0;34m\u001b[0m\u001b[0m\n\u001b[0m\u001b[1;32m    742\u001b[0m         \u001b[0mblk\u001b[0m\u001b[0;34m.\u001b[0m\u001b[0mexecute\u001b[0m\u001b[0;34m(\u001b[0m\u001b[0mself\u001b[0m\u001b[0;34m.\u001b[0m\u001b[0mwrite_concern\u001b[0m\u001b[0;34m.\u001b[0m\u001b[0mdocument\u001b[0m\u001b[0;34m,\u001b[0m \u001b[0msession\u001b[0m\u001b[0;34m=\u001b[0m\u001b[0msession\u001b[0m\u001b[0;34m)\u001b[0m\u001b[0;34m\u001b[0m\u001b[0m\n\u001b[1;32m    743\u001b[0m         \u001b[0;32mreturn\u001b[0m \u001b[0mInsertManyResult\u001b[0m\u001b[0;34m(\u001b[0m\u001b[0minserted_ids\u001b[0m\u001b[0;34m,\u001b[0m \u001b[0mself\u001b[0m\u001b[0;34m.\u001b[0m\u001b[0mwrite_concern\u001b[0m\u001b[0;34m.\u001b[0m\u001b[0macknowledged\u001b[0m\u001b[0;34m)\u001b[0m\u001b[0;34m\u001b[0m\u001b[0m\n",
      "\u001b[0;32m/opt/conda/lib/python3.6/site-packages/pymongo/collection.py\u001b[0m in \u001b[0;36mgen\u001b[0;34m()\u001b[0m\n\u001b[1;32m    731\u001b[0m             \u001b[0;34m\"\"\"A generator that validates documents and handles _ids.\"\"\"\u001b[0m\u001b[0;34m\u001b[0m\u001b[0m\n\u001b[1;32m    732\u001b[0m             \u001b[0;32mfor\u001b[0m \u001b[0mdocument\u001b[0m \u001b[0;32min\u001b[0m \u001b[0mdocuments\u001b[0m\u001b[0;34m:\u001b[0m\u001b[0;34m\u001b[0m\u001b[0m\n\u001b[0;32m--> 733\u001b[0;31m                 \u001b[0mcommon\u001b[0m\u001b[0;34m.\u001b[0m\u001b[0mvalidate_is_document_type\u001b[0m\u001b[0;34m(\u001b[0m\u001b[0;34m\"document\"\u001b[0m\u001b[0;34m,\u001b[0m \u001b[0mdocument\u001b[0m\u001b[0;34m)\u001b[0m\u001b[0;34m\u001b[0m\u001b[0m\n\u001b[0m\u001b[1;32m    734\u001b[0m                 \u001b[0;32mif\u001b[0m \u001b[0;32mnot\u001b[0m \u001b[0misinstance\u001b[0m\u001b[0;34m(\u001b[0m\u001b[0mdocument\u001b[0m\u001b[0;34m,\u001b[0m \u001b[0mRawBSONDocument\u001b[0m\u001b[0;34m)\u001b[0m\u001b[0;34m:\u001b[0m\u001b[0;34m\u001b[0m\u001b[0m\n\u001b[1;32m    735\u001b[0m                     \u001b[0;32mif\u001b[0m \u001b[0;34m\"_id\"\u001b[0m \u001b[0;32mnot\u001b[0m \u001b[0;32min\u001b[0m \u001b[0mdocument\u001b[0m\u001b[0;34m:\u001b[0m\u001b[0;34m\u001b[0m\u001b[0m\n",
      "\u001b[0;32m/opt/conda/lib/python3.6/site-packages/pymongo/common.py\u001b[0m in \u001b[0;36mvalidate_is_document_type\u001b[0;34m(option, value)\u001b[0m\n\u001b[1;32m    432\u001b[0m                         \u001b[0;34m\"bson.raw_bson.RawBSONDocument, or \"\u001b[0m\u001b[0;34m\u001b[0m\u001b[0m\n\u001b[1;32m    433\u001b[0m                         \u001b[0;34m\"a type that inherits from \"\u001b[0m\u001b[0;34m\u001b[0m\u001b[0m\n\u001b[0;32m--> 434\u001b[0;31m                         \"collections.MutableMapping\" % (option,))\n\u001b[0m\u001b[1;32m    435\u001b[0m \u001b[0;34m\u001b[0m\u001b[0m\n\u001b[1;32m    436\u001b[0m \u001b[0;34m\u001b[0m\u001b[0m\n",
      "\u001b[0;31mTypeError\u001b[0m: document must be an instance of dict, bson.son.SON, bson.raw_bson.RawBSONDocument, or a type that inherits from collections.MutableMapping"
     ]
    }
   ],
   "source": [
    "test_collection.insert_many(test)"
   ]
  },
  {
   "cell_type": "code",
   "execution_count": null,
   "metadata": {},
   "outputs": [],
   "source": []
  },
  {
   "cell_type": "code",
   "execution_count": 46,
   "metadata": {},
   "outputs": [
    {
     "name": "stdout",
     "output_type": "stream",
     "text": [
      "{\"results\": [{\"date\": \"2015-02-20\"}, [{\"steps\": 11965}, {\"caloriesOut\": 2739}, {\"Activity_sedentary\": 791}, {\"Activity_lightly\": 210}, {\"Activity_moderately\": 7}, {\"Activity_very\": 47}, {\"HRateOutOfRange\": 1293}, {\"HRateFatBurn\": 119}, {\"HRateCardio\": 6}, {\"HRatePeak\": 2}]]}\n"
     ]
    }
   ],
   "source": [
    "#json.dumps({'results': result})\n",
    "test = json.dumps({'results': document})\n",
    "print(test)"
   ]
  },
  {
   "cell_type": "code",
   "execution_count": 47,
   "metadata": {},
   "outputs": [
    {
     "ename": "TypeError",
     "evalue": "document must be an instance of dict, bson.son.SON, bson.raw_bson.RawBSONDocument, or a type that inherits from collections.MutableMapping",
     "output_type": "error",
     "traceback": [
      "\u001b[0;31m---------------------------------------------------------------------------\u001b[0m",
      "\u001b[0;31mTypeError\u001b[0m                                 Traceback (most recent call last)",
      "\u001b[0;32m<ipython-input-47-9c252fe4e5ad>\u001b[0m in \u001b[0;36m<module>\u001b[0;34m()\u001b[0m\n\u001b[0;32m----> 1\u001b[0;31m \u001b[0mtest_collection\u001b[0m\u001b[0;34m.\u001b[0m\u001b[0minsert_one\u001b[0m\u001b[0;34m(\u001b[0m\u001b[0mtest\u001b[0m\u001b[0;34m)\u001b[0m\u001b[0;34m\u001b[0m\u001b[0m\n\u001b[0m",
      "\u001b[0;32m/opt/conda/lib/python3.6/site-packages/pymongo/collection.py\u001b[0m in \u001b[0;36minsert_one\u001b[0;34m(self, document, bypass_document_validation, session)\u001b[0m\n\u001b[1;32m    674\u001b[0m         \u001b[0;34m.\u001b[0m\u001b[0;34m.\u001b[0m \u001b[0mversionadded\u001b[0m\u001b[0;34m:\u001b[0m\u001b[0;34m:\u001b[0m \u001b[0;36m3.0\u001b[0m\u001b[0;34m\u001b[0m\u001b[0m\n\u001b[1;32m    675\u001b[0m         \"\"\"\n\u001b[0;32m--> 676\u001b[0;31m         \u001b[0mcommon\u001b[0m\u001b[0;34m.\u001b[0m\u001b[0mvalidate_is_document_type\u001b[0m\u001b[0;34m(\u001b[0m\u001b[0;34m\"document\"\u001b[0m\u001b[0;34m,\u001b[0m \u001b[0mdocument\u001b[0m\u001b[0;34m)\u001b[0m\u001b[0;34m\u001b[0m\u001b[0m\n\u001b[0m\u001b[1;32m    677\u001b[0m         \u001b[0;32mif\u001b[0m \u001b[0;32mnot\u001b[0m \u001b[0;34m(\u001b[0m\u001b[0misinstance\u001b[0m\u001b[0;34m(\u001b[0m\u001b[0mdocument\u001b[0m\u001b[0;34m,\u001b[0m \u001b[0mRawBSONDocument\u001b[0m\u001b[0;34m)\u001b[0m \u001b[0;32mor\u001b[0m \u001b[0;34m\"_id\"\u001b[0m \u001b[0;32min\u001b[0m \u001b[0mdocument\u001b[0m\u001b[0;34m)\u001b[0m\u001b[0;34m:\u001b[0m\u001b[0;34m\u001b[0m\u001b[0m\n\u001b[1;32m    678\u001b[0m             \u001b[0mdocument\u001b[0m\u001b[0;34m[\u001b[0m\u001b[0;34m\"_id\"\u001b[0m\u001b[0;34m]\u001b[0m \u001b[0;34m=\u001b[0m \u001b[0mObjectId\u001b[0m\u001b[0;34m(\u001b[0m\u001b[0;34m)\u001b[0m\u001b[0;34m\u001b[0m\u001b[0m\n",
      "\u001b[0;32m/opt/conda/lib/python3.6/site-packages/pymongo/common.py\u001b[0m in \u001b[0;36mvalidate_is_document_type\u001b[0;34m(option, value)\u001b[0m\n\u001b[1;32m    432\u001b[0m                         \u001b[0;34m\"bson.raw_bson.RawBSONDocument, or \"\u001b[0m\u001b[0;34m\u001b[0m\u001b[0m\n\u001b[1;32m    433\u001b[0m                         \u001b[0;34m\"a type that inherits from \"\u001b[0m\u001b[0;34m\u001b[0m\u001b[0m\n\u001b[0;32m--> 434\u001b[0;31m                         \"collections.MutableMapping\" % (option,))\n\u001b[0m\u001b[1;32m    435\u001b[0m \u001b[0;34m\u001b[0m\u001b[0m\n\u001b[1;32m    436\u001b[0m \u001b[0;34m\u001b[0m\u001b[0m\n",
      "\u001b[0;31mTypeError\u001b[0m: document must be an instance of dict, bson.son.SON, bson.raw_bson.RawBSONDocument, or a type that inherits from collections.MutableMapping"
     ]
    }
   ],
   "source": []
  },
  {
   "cell_type": "code",
   "execution_count": null,
   "metadata": {},
   "outputs": [],
   "source": [
    "#### insert document into mongodb"
   ]
  },
  {
   "cell_type": "code",
   "execution_count": 32,
   "metadata": {},
   "outputs": [
    {
     "ename": "TypeError",
     "evalue": "document must be an instance of dict, bson.son.SON, bson.raw_bson.RawBSONDocument, or a type that inherits from collections.MutableMapping",
     "output_type": "error",
     "traceback": [
      "\u001b[0;31m---------------------------------------------------------------------------\u001b[0m",
      "\u001b[0;31mTypeError\u001b[0m                                 Traceback (most recent call last)",
      "\u001b[0;32m<ipython-input-32-e63da5f3bcec>\u001b[0m in \u001b[0;36m<module>\u001b[0;34m()\u001b[0m\n\u001b[1;32m      1\u001b[0m \u001b[0;32mfor\u001b[0m \u001b[0mitem\u001b[0m \u001b[0;32min\u001b[0m \u001b[0mtest\u001b[0m\u001b[0;34m:\u001b[0m\u001b[0;34m\u001b[0m\u001b[0m\n\u001b[0;32m----> 2\u001b[0;31m     \u001b[0mtest_collection\u001b[0m\u001b[0;34m.\u001b[0m\u001b[0minsert_one\u001b[0m\u001b[0;34m(\u001b[0m\u001b[0mitem\u001b[0m\u001b[0;34m)\u001b[0m\u001b[0;34m\u001b[0m\u001b[0m\n\u001b[0m",
      "\u001b[0;32m/opt/conda/lib/python3.6/site-packages/pymongo/collection.py\u001b[0m in \u001b[0;36minsert_one\u001b[0;34m(self, document, bypass_document_validation, session)\u001b[0m\n\u001b[1;32m    674\u001b[0m         \u001b[0;34m.\u001b[0m\u001b[0;34m.\u001b[0m \u001b[0mversionadded\u001b[0m\u001b[0;34m:\u001b[0m\u001b[0;34m:\u001b[0m \u001b[0;36m3.0\u001b[0m\u001b[0;34m\u001b[0m\u001b[0m\n\u001b[1;32m    675\u001b[0m         \"\"\"\n\u001b[0;32m--> 676\u001b[0;31m         \u001b[0mcommon\u001b[0m\u001b[0;34m.\u001b[0m\u001b[0mvalidate_is_document_type\u001b[0m\u001b[0;34m(\u001b[0m\u001b[0;34m\"document\"\u001b[0m\u001b[0;34m,\u001b[0m \u001b[0mdocument\u001b[0m\u001b[0;34m)\u001b[0m\u001b[0;34m\u001b[0m\u001b[0m\n\u001b[0m\u001b[1;32m    677\u001b[0m         \u001b[0;32mif\u001b[0m \u001b[0;32mnot\u001b[0m \u001b[0;34m(\u001b[0m\u001b[0misinstance\u001b[0m\u001b[0;34m(\u001b[0m\u001b[0mdocument\u001b[0m\u001b[0;34m,\u001b[0m \u001b[0mRawBSONDocument\u001b[0m\u001b[0;34m)\u001b[0m \u001b[0;32mor\u001b[0m \u001b[0;34m\"_id\"\u001b[0m \u001b[0;32min\u001b[0m \u001b[0mdocument\u001b[0m\u001b[0;34m)\u001b[0m\u001b[0;34m:\u001b[0m\u001b[0;34m\u001b[0m\u001b[0m\n\u001b[1;32m    678\u001b[0m             \u001b[0mdocument\u001b[0m\u001b[0;34m[\u001b[0m\u001b[0;34m\"_id\"\u001b[0m\u001b[0;34m]\u001b[0m \u001b[0;34m=\u001b[0m \u001b[0mObjectId\u001b[0m\u001b[0;34m(\u001b[0m\u001b[0;34m)\u001b[0m\u001b[0;34m\u001b[0m\u001b[0m\n",
      "\u001b[0;32m/opt/conda/lib/python3.6/site-packages/pymongo/common.py\u001b[0m in \u001b[0;36mvalidate_is_document_type\u001b[0;34m(option, value)\u001b[0m\n\u001b[1;32m    432\u001b[0m                         \u001b[0;34m\"bson.raw_bson.RawBSONDocument, or \"\u001b[0m\u001b[0;34m\u001b[0m\u001b[0m\n\u001b[1;32m    433\u001b[0m                         \u001b[0;34m\"a type that inherits from \"\u001b[0m\u001b[0;34m\u001b[0m\u001b[0m\n\u001b[0;32m--> 434\u001b[0;31m                         \"collections.MutableMapping\" % (option,))\n\u001b[0m\u001b[1;32m    435\u001b[0m \u001b[0;34m\u001b[0m\u001b[0m\n\u001b[1;32m    436\u001b[0m \u001b[0;34m\u001b[0m\u001b[0m\n",
      "\u001b[0;31mTypeError\u001b[0m: document must be an instance of dict, bson.son.SON, bson.raw_bson.RawBSONDocument, or a type that inherits from collections.MutableMapping"
     ]
    }
   ],
   "source": [
    "for item in test:\n",
    "    test_collection.insert_one(item)"
   ]
  },
  {
   "cell_type": "code",
   "execution_count": null,
   "metadata": {},
   "outputs": [],
   "source": []
  },
  {
   "cell_type": "code",
   "execution_count": 8,
   "metadata": {},
   "outputs": [],
   "source": [
    "for doc in test_collection.find():\n",
    "    pprint.pprint(doc)"
   ]
  },
  {
   "cell_type": "code",
   "execution_count": null,
   "metadata": {},
   "outputs": [],
   "source": [
    "for item in documents:\n",
    "    test_collection.insert_one(item)\n",
    "    \n",
    "for doc in test_collection.find():\n",
    "    pprint.pprint(doc)"
   ]
  }
 ],
 "metadata": {
  "kernelspec": {
   "display_name": "Python 3",
   "language": "python",
   "name": "python3"
  },
  "language_info": {
   "codemirror_mode": {
    "name": "ipython",
    "version": 3
   },
   "file_extension": ".py",
   "mimetype": "text/x-python",
   "name": "python",
   "nbconvert_exporter": "python",
   "pygments_lexer": "ipython3",
   "version": "3.6.5"
  }
 },
 "nbformat": 4,
 "nbformat_minor": 2
}
