{
 "cells": [
  {
   "cell_type": "markdown",
   "metadata": {},
   "source": [
    "### another mongodb tutorial http://alexrdouglas.com/pymongo-tutorial/"
   ]
  },
  {
   "cell_type": "code",
   "execution_count": 2,
   "metadata": {},
   "outputs": [],
   "source": [
    "import pymongo\n",
    "from pymongo import MongoClient"
   ]
  },
  {
   "cell_type": "code",
   "execution_count": 3,
   "metadata": {},
   "outputs": [],
   "source": [
    "client = pymongo.MongoClient('this_mongo_1')"
   ]
  },
  {
   "cell_type": "code",
   "execution_count": 4,
   "metadata": {},
   "outputs": [
    {
     "data": {
      "text/plain": [
       "['admin', 'config', 'local', 'test2', 'test_database', 'twitter']"
      ]
     },
     "execution_count": 4,
     "metadata": {},
     "output_type": "execute_result"
    }
   ],
   "source": [
    "client.database_names()"
   ]
  },
  {
   "cell_type": "code",
   "execution_count": 5,
   "metadata": {},
   "outputs": [
    {
     "data": {
      "text/plain": [
       "1"
      ]
     },
     "execution_count": 5,
     "metadata": {},
     "output_type": "execute_result"
    }
   ],
   "source": [
    "test_db = client.get_database('test2')\n",
    "test_collection = test_db['test_collection']\n",
    "test_collection.count() #get number of documents"
   ]
  },
  {
   "cell_type": "markdown",
   "metadata": {},
   "source": [
    "# add "
   ]
  },
  {
   "cell_type": "code",
   "execution_count": 6,
   "metadata": {},
   "outputs": [
    {
     "data": {
      "text/plain": [
       "4"
      ]
     },
     "execution_count": 6,
     "metadata": {},
     "output_type": "execute_result"
    }
   ],
   "source": [
    "items = []\n",
    "\n",
    "items.append({'name': 'bandit', 'type': 'cat', 'age': 7})\n",
    "items.append({'name': 'alfred', 'type': 'dog', 'age': 5})\n",
    "items.append({'name': 'lillie', 'type': 'cat', 'age': 9})\n",
    "\n",
    "for item in items:\n",
    "    test_collection.insert_one(item)\n",
    "    \n",
    "test_collection.count()"
   ]
  },
  {
   "cell_type": "markdown",
   "metadata": {},
   "source": [
    "# delete"
   ]
  },
  {
   "cell_type": "code",
   "execution_count": 7,
   "metadata": {},
   "outputs": [
    {
     "data": {
      "text/plain": [
       "1"
      ]
     },
     "execution_count": 7,
     "metadata": {},
     "output_type": "execute_result"
    }
   ],
   "source": [
    "test_collection.delete_many({'type': 'cat'})\n",
    "test_collection.count()"
   ]
  },
  {
   "cell_type": "markdown",
   "metadata": {},
   "source": [
    "# edit"
   ]
  },
  {
   "cell_type": "code",
   "execution_count": 8,
   "metadata": {},
   "outputs": [
    {
     "name": "stdout",
     "output_type": "stream",
     "text": [
      "{'_id': ObjectId('5b366623085fb800217cc73f'), 'name': 'alfred', 'type': 'dog', 'age': 5, 'sound': 'woof'}\n"
     ]
    }
   ],
   "source": [
    "for doc in test_collection.find():\n",
    "    if doc['type'] == 'cat':\n",
    "        test_collection.update_one({'_id': dock['_id']},\n",
    "                                  {'$set': {'sound': 'meow'}})\n",
    "    else:\n",
    "        test_collection.update_one({'_id': doc['_id']},\n",
    "                                  {'$set': {'sound': 'woof'}})\n",
    "        \n",
    "for doc in test_collection.find():\n",
    "    print(doc)"
   ]
  },
  {
   "cell_type": "code",
   "execution_count": 9,
   "metadata": {},
   "outputs": [
    {
     "name": "stdout",
     "output_type": "stream",
     "text": [
      "{'_id': ObjectId('5b366623085fb800217cc73f'),\n",
      " 'age': 5,\n",
      " 'name': 'alfred',\n",
      " 'sound': 'woof',\n",
      " 'type': 'dog'}\n"
     ]
    }
   ],
   "source": [
    "import pprint\n",
    "for doc in test_collection.find():\n",
    "    pprint.pprint(doc)"
   ]
  },
  {
   "cell_type": "markdown",
   "metadata": {},
   "source": [
    "### bulk insert"
   ]
  },
  {
   "cell_type": "code",
   "execution_count": 10,
   "metadata": {},
   "outputs": [
    {
     "name": "stdout",
     "output_type": "stream",
     "text": [
      "{'_id': ObjectId('5b366623085fb800217cc73f'),\n",
      " 'age': 5,\n",
      " 'name': 'alfred',\n",
      " 'sound': 'woof',\n",
      " 'type': 'dog'}\n",
      "{'_id': ObjectId('5b3666a5085fb800217cc741'),\n",
      " 'age': 7,\n",
      " 'name': 'bandit',\n",
      " 'type': 'cat'}\n",
      "{'_id': ObjectId('5b3666a5085fb800217cc742'),\n",
      " 'age': 5,\n",
      " 'name': 'alfred',\n",
      " 'type': 'dog'}\n",
      "{'_id': ObjectId('5b3666a5085fb800217cc743'),\n",
      " 'age': 9,\n",
      " 'name': 'lillie',\n",
      " 'type': 'cat'}\n"
     ]
    }
   ],
   "source": [
    "items = []\n",
    "\n",
    "items.append({'name': 'bandit', 'type': 'cat', 'age': 7})\n",
    "items.append({'name': 'alfred', 'type': 'dog', 'age': 5})\n",
    "items.append({'name': 'lillie', 'type': 'cat', 'age': 9})\n",
    "\n",
    "for item in items:\n",
    "    test_collection.insert_one(item)\n",
    "    \n",
    "for doc in test_collection.find():\n",
    "    pprint.pprint(doc)"
   ]
  },
  {
   "cell_type": "markdown",
   "metadata": {},
   "source": [
    "### bulk update"
   ]
  },
  {
   "cell_type": "code",
   "execution_count": 12,
   "metadata": {},
   "outputs": [
    {
     "name": "stdout",
     "output_type": "stream",
     "text": [
      "{'_id': ObjectId('5b366623085fb800217cc73f'),\n",
      " 'age': 5,\n",
      " 'name': 'alfred',\n",
      " 'sound': 'woof',\n",
      " 'type': 'dog'}\n",
      "{'_id': ObjectId('5b3666a5085fb800217cc741'),\n",
      " 'age': 7,\n",
      " 'name': 'bandit',\n",
      " 'sound': 'meow',\n",
      " 'type': 'cat'}\n",
      "{'_id': ObjectId('5b3666a5085fb800217cc742'),\n",
      " 'age': 5,\n",
      " 'name': 'alfred',\n",
      " 'sound': 'woof',\n",
      " 'type': 'dog'}\n",
      "{'_id': ObjectId('5b3666a5085fb800217cc743'),\n",
      " 'age': 9,\n",
      " 'name': 'lillie',\n",
      " 'sound': 'meow',\n",
      " 'type': 'cat'}\n"
     ]
    }
   ],
   "source": [
    "for doc in test_collection.find():\n",
    "    if doc['type'] == 'cat':\n",
    "        test_collection.update_one({'_id': doc['_id']},\n",
    "                                  {'$set': {'sound': 'meow'}})\n",
    "    else:\n",
    "        test_collection.update_one({'_id': doc['_id']},\n",
    "                                  {'$set': {'sound': 'woof'}})\n",
    "for doc in test_collection.find():\n",
    "    pprint.pprint(doc)"
   ]
  },
  {
   "cell_type": "markdown",
   "metadata": {},
   "source": [
    "### delete based on criteria"
   ]
  },
  {
   "cell_type": "code",
   "execution_count": 13,
   "metadata": {},
   "outputs": [
    {
     "name": "stdout",
     "output_type": "stream",
     "text": [
      "{'_id': ObjectId('5b3666a5085fb800217cc743'),\n",
      " 'age': 9,\n",
      " 'name': 'lillie',\n",
      " 'sound': 'meow',\n",
      " 'type': 'cat'}\n"
     ]
    }
   ],
   "source": [
    "for doc in test_collection.find():\n",
    "    if doc['age'] <= 7:\n",
    "        test_collection.delete_one({'_id': doc['_id']})\n",
    "        \n",
    "for doc in test_collection.find():\n",
    "    pprint.pprint(doc)"
   ]
  },
  {
   "cell_type": "markdown",
   "metadata": {},
   "source": [
    "## more detailed lesson . http://altons.github.io/python/2013/01/21/gentle-introduction-to-mongodb-using-pymongo/"
   ]
  },
  {
   "cell_type": "markdown",
   "metadata": {},
   "source": [
    "## begining scripts to load fitbit log files to mongodb"
   ]
  },
  {
   "cell_type": "code",
   "execution_count": 14,
   "metadata": {},
   "outputs": [],
   "source": [
    "import json\n",
    "import os\n",
    "import pprint"
   ]
  },
  {
   "cell_type": "code",
   "execution_count": 15,
   "metadata": {},
   "outputs": [
    {
     "data": {
      "text/plain": [
       "'/notebooks/mongoHelp'"
      ]
     },
     "execution_count": 15,
     "metadata": {},
     "output_type": "execute_result"
    }
   ],
   "source": [
    "%pwd"
   ]
  },
  {
   "cell_type": "code",
   "execution_count": 19,
   "metadata": {},
   "outputs": [
    {
     "name": "stdout",
     "output_type": "stream",
     "text": [
      "<built-in function getcwd>\n"
     ]
    }
   ],
   "source": [
    "os.chdir('/notebooks/GetFitbitData/logs/activities/')\n",
    "print(os.getcwd)"
   ]
  },
  {
   "cell_type": "code",
   "execution_count": 20,
   "metadata": {},
   "outputs": [
    {
     "data": {
      "text/plain": [
       "'/notebooks/GetFitbitData/logs/activities'"
      ]
     },
     "execution_count": 20,
     "metadata": {},
     "output_type": "execute_result"
    }
   ],
   "source": [
    "%pwd"
   ]
  },
  {
   "cell_type": "code",
   "execution_count": 22,
   "metadata": {},
   "outputs": [],
   "source": [
    "file ='activitiesRate2015-02-20.json'"
   ]
  },
  {
   "cell_type": "code",
   "execution_count": 23,
   "metadata": {},
   "outputs": [
    {
     "name": "stdout",
     "output_type": "stream",
     "text": [
      "{'activities': [],\n",
      " 'summary': {'activityLevels': [{'distance': 0,\n",
      "                                 'minutes': 791,\n",
      "                                 'name': 'sedentary'},\n",
      "                                {'distance': 4.56,\n",
      "                                 'minutes': 210,\n",
      "                                 'name': 'lightly'},\n",
      "                                {'distance': 0.31,\n",
      "                                 'minutes': 7,\n",
      "                                 'name': 'moderately'},\n",
      "                                {'distance': 3.93,\n",
      "                                 'minutes': 47,\n",
      "                                 'name': 'very'}],\n",
      "             'calories': {'bmr': 1623, 'total': 2739},\n",
      "             'customHeartRateZones': [],\n",
      "             'distance': 8.79,\n",
      "             'elevation': 42.67,\n",
      "             'floors': 14,\n",
      "             'heartRateZones': [{'caloriesOut': 1901.81106,\n",
      "                                 'max': 86,\n",
      "                                 'min': 30,\n",
      "                                 'minutes': 1293,\n",
      "                                 'name': 'Out of Range'},\n",
      "                                {'caloriesOut': 739.08712,\n",
      "                                 'max': 121,\n",
      "                                 'min': 86,\n",
      "                                 'minutes': 119,\n",
      "                                 'name': 'Fat Burn'},\n",
      "                                {'caloriesOut': 43.8594,\n",
      "                                 'max': 147,\n",
      "                                 'min': 121,\n",
      "                                 'minutes': 6,\n",
      "                                 'name': 'Cardio'},\n",
      "                                {'caloriesOut': 9.22172,\n",
      "                                 'max': 220,\n",
      "                                 'min': 147,\n",
      "                                 'minutes': 2,\n",
      "                                 'name': 'Peak'}],\n",
      "             'steps': 11965}}\n"
     ]
    }
   ],
   "source": [
    "with open(file) as f:\n",
    "    sample_data = json.loads(f.read())\n",
    "    pprint.pprint(sample_data)"
   ]
  },
  {
   "cell_type": "code",
   "execution_count": 24,
   "metadata": {},
   "outputs": [
    {
     "name": "stdout",
     "output_type": "stream",
     "text": [
      "dict_keys(['activities', 'summary'])\n"
     ]
    }
   ],
   "source": [
    "pprint.pprint(sample_data.keys())"
   ]
  },
  {
   "cell_type": "code",
   "execution_count": 25,
   "metadata": {},
   "outputs": [
    {
     "name": "stdout",
     "output_type": "stream",
     "text": [
      "dict_items([('activities', []), ('summary', {'activityLevels': [{'distance': 0, 'minutes': 791, 'name': 'sedentary'}, {'distance': 4.56, 'minutes': 210, 'name': 'lightly'}, {'distance': 0.31, 'minutes': 7, 'name': 'moderately'}, {'distance': 3.93, 'minutes': 47, 'name': 'very'}], 'calories': {'bmr': 1623, 'total': 2739}, 'customHeartRateZones': [], 'distance': 8.79, 'elevation': 42.67, 'floors': 14, 'heartRateZones': [{'caloriesOut': 1901.81106, 'max': 86, 'min': 30, 'minutes': 1293, 'name': 'Out of Range'}, {'caloriesOut': 739.08712, 'max': 121, 'min': 86, 'minutes': 119, 'name': 'Fat Burn'}, {'caloriesOut': 43.8594, 'max': 147, 'min': 121, 'minutes': 6, 'name': 'Cardio'}, {'caloriesOut': 9.22172, 'max': 220, 'min': 147, 'minutes': 2, 'name': 'Peak'}], 'steps': 11965})])\n"
     ]
    }
   ],
   "source": [
    "pprint.pprint(sample_data.items())"
   ]
  },
  {
   "cell_type": "markdown",
   "metadata": {},
   "source": [
    "### example of one document to be added to a collection"
   ]
  },
  {
   "cell_type": "code",
   "execution_count": 27,
   "metadata": {},
   "outputs": [
    {
     "name": "stdout",
     "output_type": "stream",
     "text": [
      "[{'steps': 11965},\n",
      " {'caloriesOut': 2739},\n",
      " {'Activity_sedentary': 791},\n",
      " {'Activity_lightly': 210},\n",
      " {'Activity_moderately': 7},\n",
      " {'Activity_very': 47},\n",
      " {'HRateOutOfRange': 1293},\n",
      " {'HRateFatBurn': 119},\n",
      " {'HRateCardio': 6},\n",
      " {'HRatePeak': 2}]\n"
     ]
    }
   ],
   "source": [
    "day = []\n",
    "\n",
    "with open(file) as f:\n",
    "    sample_data = json.loads(f.read())\n",
    "\n",
    "    key = ['steps']\n",
    "    value = [sample_data['summary']['steps']]\n",
    "    item = dict(zip(key, value))\n",
    "    day.append(item)\n",
    "\n",
    "    key = ['caloriesOut']\n",
    "    value = [sample_data['summary']['calories']['total']]\n",
    "    item = dict(zip(key, value))\n",
    "    day.append(item)\n",
    "\n",
    "    key = ['Activity_sedentary']\n",
    "    value = [sample_data['summary']['activityLevels'][0]['minutes']]\n",
    "    item = dict(zip(key, value))\n",
    "    day.append(item)\n",
    "\n",
    "    key = ['Activity_lightly']\n",
    "    value = [sample_data['summary']['activityLevels'][1]['minutes']]\n",
    "    item = dict(zip(key, value))\n",
    "    day.append(item)\n",
    "\n",
    "    key = ['Activity_moderately']\n",
    "    value = [sample_data['summary']['activityLevels'][2]['minutes']]\n",
    "    item = dict(zip(key, value))\n",
    "    day.append(item)\n",
    "\n",
    "    key = ['Activity_very']\n",
    "    value = [sample_data['summary']['activityLevels'][3]['minutes']]\n",
    "    item = dict(zip(key, value))\n",
    "    day.append(item)\n",
    "\n",
    "    key = ['HRateOutOfRange']\n",
    "    value = [sample_data['summary']['heartRateZones'][0]['minutes']]\n",
    "    item = dict(zip(key, value))\n",
    "    day.append(item)\n",
    "\n",
    "    key = ['HRateFatBurn']\n",
    "    value = [sample_data['summary']['heartRateZones'][1]['minutes']]\n",
    "    item = dict(zip(key, value))\n",
    "    day.append(item)\n",
    "\n",
    "    key = ['HRateCardio']\n",
    "    value = [sample_data['summary']['heartRateZones'][2]['minutes']]\n",
    "    item = dict(zip(key, value))\n",
    "    day.append(item)\n",
    "\n",
    "    key = ['HRatePeak']\n",
    "    value = [sample_data['summary']['heartRateZones'][3]['minutes']]\n",
    "    item = dict(zip(key, value))\n",
    "    day.append(item)\n",
    "\n",
    "#steps = dict(zip(stepsKey, steps))\n",
    "pprint.pprint(day)"
   ]
  },
  {
   "cell_type": "markdown",
   "metadata": {},
   "source": [
    "#### code below is example of reading a files and wrigning to a list then list is added to pandas dataframe, this needs to be adjusted to insert to each item, like 'day' in prior to a mongo collection "
   ]
  },
  {
   "cell_type": "markdown",
   "metadata": {},
   "source": [
    "    dates = pd.date_range('2016-03-29', '2016-06-10')\n",
    "    time_in_bed = []\n",
    "\n",
    "    for date in dates:\n",
    "        fname = 'logs/' + date.strftime('%Y-%m-%d') + '.json'\n",
    "        with open(fname) as f:\n",
    "            date_data = json.loads(f.read())\n",
    "\n",
    "            time_in_bed.append(date_data['summary']['totalTimeInBed'] / 60.0)\n",
    "\n",
    "    df = pd.DataFrame(time_in_bed, index = dates)\n",
    "    df.columns = ['bed']"
   ]
  },
  {
   "cell_type": "code",
   "execution_count": null,
   "metadata": {},
   "outputs": [],
   "source": []
  }
 ],
 "metadata": {
  "kernelspec": {
   "display_name": "Python 3",
   "language": "python",
   "name": "python3"
  },
  "language_info": {
   "codemirror_mode": {
    "name": "ipython",
    "version": 3
   },
   "file_extension": ".py",
   "mimetype": "text/x-python",
   "name": "python",
   "nbconvert_exporter": "python",
   "pygments_lexer": "ipython3",
   "version": "3.6.5"
  }
 },
 "nbformat": 4,
 "nbformat_minor": 2
}
