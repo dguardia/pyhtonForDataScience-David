{
 "cells": [
  {
   "cell_type": "code",
   "execution_count": 1,
   "metadata": {},
   "outputs": [],
   "source": [
    "import json\n",
    "import os\n",
    "import pprint"
   ]
  },
  {
   "cell_type": "code",
   "execution_count": 2,
   "metadata": {},
   "outputs": [
    {
     "data": {
      "text/plain": [
       "'/notebooks/mongoHelp'"
      ]
     },
     "execution_count": 2,
     "metadata": {},
     "output_type": "execute_result"
    }
   ],
   "source": [
    "%pwd"
   ]
  },
  {
   "cell_type": "code",
   "execution_count": 3,
   "metadata": {},
   "outputs": [],
   "source": [
    "os.chdir('/notebooks/GetFitbitData/logs/activities/')"
   ]
  },
  {
   "cell_type": "code",
   "execution_count": 4,
   "metadata": {},
   "outputs": [
    {
     "data": {
      "text/plain": [
       "'/notebooks/GetFitbitData/logs/activities'"
      ]
     },
     "execution_count": 4,
     "metadata": {},
     "output_type": "execute_result"
    }
   ],
   "source": [
    "%pwd"
   ]
  },
  {
   "cell_type": "code",
   "execution_count": 7,
   "metadata": {},
   "outputs": [
    {
     "name": "stdout",
     "output_type": "stream",
     "text": [
      "dict_keys(['activities', 'summary'])\n"
     ]
    }
   ],
   "source": [
    "pprint.pprint(sample_data.keys())"
   ]
  },
  {
   "cell_type": "code",
   "execution_count": 8,
   "metadata": {},
   "outputs": [
    {
     "name": "stdout",
     "output_type": "stream",
     "text": [
      "dict_items([('activities', []), ('summary', {'activityLevels': [{'distance': 0, 'minutes': 791, 'name': 'sedentary'}, {'distance': 4.56, 'minutes': 210, 'name': 'lightly'}, {'distance': 0.31, 'minutes': 7, 'name': 'moderately'}, {'distance': 3.93, 'minutes': 47, 'name': 'very'}], 'calories': {'bmr': 1623, 'total': 2739}, 'customHeartRateZones': [], 'distance': 8.79, 'elevation': 42.67, 'floors': 14, 'heartRateZones': [{'caloriesOut': 1901.81106, 'max': 86, 'min': 30, 'minutes': 1293, 'name': 'Out of Range'}, {'caloriesOut': 739.08712, 'max': 121, 'min': 86, 'minutes': 119, 'name': 'Fat Burn'}, {'caloriesOut': 43.8594, 'max': 147, 'min': 121, 'minutes': 6, 'name': 'Cardio'}, {'caloriesOut': 9.22172, 'max': 220, 'min': 147, 'minutes': 2, 'name': 'Peak'}], 'steps': 11965})])\n"
     ]
    }
   ],
   "source": [
    "pprint.pprint(sample_data.items())"
   ]
  },
  {
   "cell_type": "code",
   "execution_count": 6,
   "metadata": {},
   "outputs": [
    {
     "name": "stdout",
     "output_type": "stream",
     "text": [
      "{'activities': [],\n",
      " 'summary': {'activityLevels': [{'distance': 0,\n",
      "                                 'minutes': 791,\n",
      "                                 'name': 'sedentary'},\n",
      "                                {'distance': 4.56,\n",
      "                                 'minutes': 210,\n",
      "                                 'name': 'lightly'},\n",
      "                                {'distance': 0.31,\n",
      "                                 'minutes': 7,\n",
      "                                 'name': 'moderately'},\n",
      "                                {'distance': 3.93,\n",
      "                                 'minutes': 47,\n",
      "                                 'name': 'very'}],\n",
      "             'calories': {'bmr': 1623, 'total': 2739},\n",
      "             'customHeartRateZones': [],\n",
      "             'distance': 8.79,\n",
      "             'elevation': 42.67,\n",
      "             'floors': 14,\n",
      "             'heartRateZones': [{'caloriesOut': 1901.81106,\n",
      "                                 'max': 86,\n",
      "                                 'min': 30,\n",
      "                                 'minutes': 1293,\n",
      "                                 'name': 'Out of Range'},\n",
      "                                {'caloriesOut': 739.08712,\n",
      "                                 'max': 121,\n",
      "                                 'min': 86,\n",
      "                                 'minutes': 119,\n",
      "                                 'name': 'Fat Burn'},\n",
      "                                {'caloriesOut': 43.8594,\n",
      "                                 'max': 147,\n",
      "                                 'min': 121,\n",
      "                                 'minutes': 6,\n",
      "                                 'name': 'Cardio'},\n",
      "                                {'caloriesOut': 9.22172,\n",
      "                                 'max': 220,\n",
      "                                 'min': 147,\n",
      "                                 'minutes': 2,\n",
      "                                 'name': 'Peak'}],\n",
      "             'steps': 11965}}\n"
     ]
    }
   ],
   "source": [
    "file ='activitiesRate2015-02-20.json'\n",
    "with open(file) as f:\n",
    "    sample_data = json.loads(f.read())\n",
    "    pprint.pprint(sample_data)"
   ]
  },
  {
   "cell_type": "code",
   "execution_count": 18,
   "metadata": {},
   "outputs": [
    {
     "name": "stdout",
     "output_type": "stream",
     "text": [
      "{'one': 1, 'two': 2, 'three': 3}\n"
     ]
    }
   ],
   "source": [
    "keys=['one', 'two', 'three'] \n",
    "values= [1, 2, 3]\n",
    "dictionary = dict(zip(keys, values)) \n",
    "print(dictionary)"
   ]
  },
  {
   "cell_type": "code",
   "execution_count": 27,
   "metadata": {},
   "outputs": [
    {
     "name": "stdout",
     "output_type": "stream",
     "text": [
      "['activityLevels',\n",
      " 'calories',\n",
      " 'customHeartRateZones',\n",
      " 'distance',\n",
      " 'elevation',\n",
      " 'floors',\n",
      " 'heartRateZones',\n",
      " 'steps']\n",
      "8\n"
     ]
    }
   ],
   "source": [
    "\n",
    "summaryKeys =[]\n",
    "\n",
    "\n",
    "for summary in sample_data['summary']:\n",
    "    summaryKeys.append(summary)\n",
    "\n",
    "\n",
    "pprint.pprint(summaryKeys)\n",
    "numberKeys = len(summaryKeys)\n",
    "print(numberKeys)"
   ]
  },
  {
   "cell_type": "code",
   "execution_count": 90,
   "metadata": {},
   "outputs": [
    {
     "name": "stdout",
     "output_type": "stream",
     "text": [
      "dict_items([('distance', 0), ('minutes', 791), ('name', 'sedentary')])\n",
      "dict_items([('distance', 4.56), ('minutes', 210), ('name', 'lightly')])\n",
      "dict_items([('distance', 0.31), ('minutes', 7), ('name', 'moderately')])\n",
      "dict_items([('distance', 3.93), ('minutes', 47), ('name', 'very')])\n"
     ]
    }
   ],
   "source": [
    "print(sample_data['summary']['activityLevels'][0].items())\n",
    "print(sample_data['summary']['activityLevels'][1].items())\n",
    "print(sample_data['summary']['activityLevels'][2].items())\n",
    "print(sample_data['summary']['activityLevels'][3].items())"
   ]
  },
  {
   "cell_type": "code",
   "execution_count": 91,
   "metadata": {},
   "outputs": [
    {
     "data": {
      "text/plain": [
       "4"
      ]
     },
     "execution_count": 91,
     "metadata": {},
     "output_type": "execute_result"
    }
   ],
   "source": [
    "len(sample_data['summary']['activityLevels'])"
   ]
  },
  {
   "cell_type": "code",
   "execution_count": 115,
   "metadata": {},
   "outputs": [
    {
     "name": "stdout",
     "output_type": "stream",
     "text": [
      "{'distance': 0, 'minutes': 791, 'name': 'sedentary'}\n",
      "{'distance': 4.56, 'minutes': 210, 'name': 'lightly'}\n",
      "{'distance': 0.31, 'minutes': 7, 'name': 'moderately'}\n",
      "{'distance': 3.93, 'minutes': 47, 'name': 'very'}\n"
     ]
    }
   ],
   "source": [
    "for i in sample_data['summary']['activityLevels']:\n",
    "    print(i)\n",
    "#sample_data['summary'].keys()"
   ]
  },
  {
   "cell_type": "code",
   "execution_count": null,
   "metadata": {},
   "outputs": [],
   "source": []
  },
  {
   "cell_type": "code",
   "execution_count": 107,
   "metadata": {},
   "outputs": [
    {
     "name": "stdout",
     "output_type": "stream",
     "text": [
      "4\n",
      "('distance', 3.93)\n",
      "3\n",
      "1\n",
      "('minutes', 47)\n",
      "2\n",
      "2\n",
      "('name', 'very')\n",
      "1\n",
      "3\n",
      "('distance', 0)\n",
      "0\n",
      "4\n",
      "('minutes', 791)\n",
      "-1\n",
      "5\n",
      "('name', 'sedentary')\n",
      "-2\n",
      "6\n",
      "6\n"
     ]
    }
   ],
   "source": [
    "actLen = len(sample_data['summary']['activityLevels'])\n",
    "print(actLen)\n",
    "countAct = 0\n",
    "\n",
    "while actLen >= 0:\n",
    "    #for activity in sample_data['summary']['activityLevels'][0].items():\n",
    "    for activity in sample_data['summary']['activityLevels'][actLen-1].items():\n",
    "        print(activity)\n",
    "        actLen = actLen - 1\n",
    "        print(actLen)\n",
    "        countAct=  countAct + 1\n",
    "        print(countAct)\n",
    "\n",
    "print(countAct) "
   ]
  },
  {
   "cell_type": "code",
   "execution_count": 105,
   "metadata": {},
   "outputs": [
    {
     "data": {
      "text/plain": [
       "{'distance': 3.93, 'minutes': 47, 'name': 'very'}"
      ]
     },
     "execution_count": 105,
     "metadata": {},
     "output_type": "execute_result"
    }
   ],
   "source": [
    "sample_data['summary']['activityLevels'][len(sample_data['summary']['activityLevels'])-1]"
   ]
  },
  {
   "cell_type": "code",
   "execution_count": 69,
   "metadata": {},
   "outputs": [
    {
     "name": "stdout",
     "output_type": "stream",
     "text": [
      "115\n",
      "114\n",
      "113\n",
      "The tea is cool enough.\n"
     ]
    }
   ],
   "source": [
    "temperature = 115  \n",
    "while temperature > 112: # first while loop code\n",
    "    print(temperature)\n",
    "    temperature = temperature - 1\n",
    "\n",
    "print('The tea is cool enough.')"
   ]
  },
  {
   "cell_type": "code",
   "execution_count": 59,
   "metadata": {},
   "outputs": [
    {
     "name": "stdout",
     "output_type": "stream",
     "text": [
      "('distance', 0)\n",
      "('minutes', 791)\n",
      "('name', 'sedentary')\n"
     ]
    }
   ],
   "source": [
    "for activity in sample_data['summary']['activityLevels'][0].items():\n",
    "    print(activity)"
   ]
  },
  {
   "cell_type": "code",
   "execution_count": 53,
   "metadata": {},
   "outputs": [
    {
     "name": "stdout",
     "output_type": "stream",
     "text": [
      "dict_keys(['distance', 'minutes', 'name'])\n",
      "dict_items([('distance', 0), ('minutes', 791), ('name', 'sedentary')])\n"
     ]
    }
   ],
   "source": [
    "print(sample_data['summary']['activityLevels'][0].keys())\n",
    "print(sample_data['summary']['activityLevels'][0].items())\n",
    "\n",
    "# for i in sample_data['summary']['activityLevels']:\n",
    "#     print(i)"
   ]
  },
  {
   "cell_type": "code",
   "execution_count": 36,
   "metadata": {},
   "outputs": [
    {
     "name": "stdout",
     "output_type": "stream",
     "text": [
      "[791]\n"
     ]
    }
   ],
   "source": [
    "value = [sample_data['summary']['activityLevels'][0]['minutes']]\n",
    "print(value)"
   ]
  },
  {
   "cell_type": "code",
   "execution_count": 38,
   "metadata": {},
   "outputs": [
    {
     "name": "stdout",
     "output_type": "stream",
     "text": [
      "[('activityLevels',\n",
      "  [{'distance': 0, 'minutes': 791, 'name': 'sedentary'},\n",
      "   {'distance': 4.56, 'minutes': 210, 'name': 'lightly'},\n",
      "   {'distance': 0.31, 'minutes': 7, 'name': 'moderately'},\n",
      "   {'distance': 3.93, 'minutes': 47, 'name': 'very'}]),\n",
      " ('calories', {'bmr': 1623, 'total': 2739}),\n",
      " ('customHeartRateZones', []),\n",
      " ('distance', 8.79),\n",
      " ('elevation', 42.67),\n",
      " ('floors', 14),\n",
      " ('heartRateZones',\n",
      "  [{'caloriesOut': 1901.81106,\n",
      "    'max': 86,\n",
      "    'min': 30,\n",
      "    'minutes': 1293,\n",
      "    'name': 'Out of Range'},\n",
      "   {'caloriesOut': 739.08712,\n",
      "    'max': 121,\n",
      "    'min': 86,\n",
      "    'minutes': 119,\n",
      "    'name': 'Fat Burn'},\n",
      "   {'caloriesOut': 43.8594,\n",
      "    'max': 147,\n",
      "    'min': 121,\n",
      "    'minutes': 6,\n",
      "    'name': 'Cardio'},\n",
      "   {'caloriesOut': 9.22172,\n",
      "    'max': 220,\n",
      "    'min': 147,\n",
      "    'minutes': 2,\n",
      "    'name': 'Peak'}]),\n",
      " ('steps', 11965)]\n"
     ]
    }
   ],
   "source": [
    "summaryValues = []\n",
    "\n",
    "for summary in sample_data['summary'].items():\n",
    "    summaryValues.append(summary)\n",
    "    \n",
    "pprint.pprint(summaryValues)"
   ]
  },
  {
   "cell_type": "code",
   "execution_count": 25,
   "metadata": {},
   "outputs": [
    {
     "name": "stdout",
     "output_type": "stream",
     "text": [
      "{'activityLevels': ('activityLevels', [{'distance': 0, 'minutes': 791, 'name': 'sedentary'}, {'distance': 4.56, 'minutes': 210, 'name': 'lightly'}, {'distance': 0.31, 'minutes': 7, 'name': 'moderately'}, {'distance': 3.93, 'minutes': 47, 'name': 'very'}]), 'calories': ('calories', {'bmr': 1623, 'total': 2739}), 'customHeartRateZones': ('customHeartRateZones', []), 'distance': ('distance', 8.79), 'elevation': ('elevation', 42.67), 'floors': ('floors', 14), 'heartRateZones': ('heartRateZones', [{'caloriesOut': 1901.81106, 'max': 86, 'min': 30, 'minutes': 1293, 'name': 'Out of Range'}, {'caloriesOut': 739.08712, 'max': 121, 'min': 86, 'minutes': 119, 'name': 'Fat Burn'}, {'caloriesOut': 43.8594, 'max': 147, 'min': 121, 'minutes': 6, 'name': 'Cardio'}, {'caloriesOut': 9.22172, 'max': 220, 'min': 147, 'minutes': 2, 'name': 'Peak'}]), 'steps': ('steps', 11965)}\n"
     ]
    }
   ],
   "source": [
    "daysActvity = dict(zip(summaryKeys, summaryValues)) \n",
    "print(daysActvity)"
   ]
  },
  {
   "cell_type": "code",
   "execution_count": null,
   "metadata": {},
   "outputs": [],
   "source": []
  },
  {
   "cell_type": "code",
   "execution_count": 20,
   "metadata": {},
   "outputs": [
    {
     "name": "stdout",
     "output_type": "stream",
     "text": [
      "dict_keys(['activityLevels', 'calories', 'customHeartRateZones', 'distance', 'elevation', 'floors', 'heartRateZones', 'steps'])\n"
     ]
    }
   ],
   "source": [
    "pprint.pprint(sample_data['summary'].keys())"
   ]
  },
  {
   "cell_type": "code",
   "execution_count": 21,
   "metadata": {},
   "outputs": [
    {
     "name": "stdout",
     "output_type": "stream",
     "text": [
      "dict_items([('activityLevels', [{'distance': 0, 'minutes': 791, 'name': 'sedentary'}, {'distance': 4.56, 'minutes': 210, 'name': 'lightly'}, {'distance': 0.31, 'minutes': 7, 'name': 'moderately'}, {'distance': 3.93, 'minutes': 47, 'name': 'very'}]), ('calories', {'bmr': 1623, 'total': 2739}), ('customHeartRateZones', []), ('distance', 8.79), ('elevation', 42.67), ('floors', 14), ('heartRateZones', [{'caloriesOut': 1901.81106, 'max': 86, 'min': 30, 'minutes': 1293, 'name': 'Out of Range'}, {'caloriesOut': 739.08712, 'max': 121, 'min': 86, 'minutes': 119, 'name': 'Fat Burn'}, {'caloriesOut': 43.8594, 'max': 147, 'min': 121, 'minutes': 6, 'name': 'Cardio'}, {'caloriesOut': 9.22172, 'max': 220, 'min': 147, 'minutes': 2, 'name': 'Peak'}]), ('steps', 11965)])\n"
     ]
    }
   ],
   "source": [
    "pprint.pprint(sample_data['summary'].items())"
   ]
  },
  {
   "cell_type": "code",
   "execution_count": 15,
   "metadata": {},
   "outputs": [
    {
     "name": "stdout",
     "output_type": "stream",
     "text": [
      "{'distance': [0, 4.56, 0.31, 3.93], 'minutes': [791, 210, 7, 47], 'name': ['sedentary', 'lightly', 'moderately', 'very']}\n"
     ]
    }
   ],
   "source": [
    "super_dict = {}\n",
    "\n",
    "for d in sample_data['summary']['activityLevels']:\n",
    "    for k, v in d.items():  # d.items() in Python 3+\n",
    "        super_dict.setdefault(k, []).append(v)\n",
    "        #super_dict.append([v])\n",
    "        \n",
    "print(super_dict)"
   ]
  },
  {
   "cell_type": "code",
   "execution_count": null,
   "metadata": {},
   "outputs": [],
   "source": []
  }
 ],
 "metadata": {
  "kernelspec": {
   "display_name": "Python 3",
   "language": "python",
   "name": "python3"
  },
  "language_info": {
   "codemirror_mode": {
    "name": "ipython",
    "version": 3
   },
   "file_extension": ".py",
   "mimetype": "text/x-python",
   "name": "python",
   "nbconvert_exporter": "python",
   "pygments_lexer": "ipython3",
   "version": "3.6.5"
  }
 },
 "nbformat": 4,
 "nbformat_minor": 2
}
