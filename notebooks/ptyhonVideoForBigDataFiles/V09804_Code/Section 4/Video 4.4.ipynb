{
 "cells": [
  {
   "cell_type": "code",
   "execution_count": 1,
   "metadata": {},
   "outputs": [
    {
     "data": {
      "text/html": [
       "\n",
       "        <div>\n",
       "            <p><b>SparkContext</b></p>\n",
       "\n",
       "            <p><a href=\"http://192.168.1.123:4040\">Spark UI</a></p>\n",
       "\n",
       "            <dl>\n",
       "              <dt>Version</dt>\n",
       "                <dd><code>v2.2.0</code></dd>\n",
       "              <dt>Master</dt>\n",
       "                <dd><code>local[*]</code></dd>\n",
       "              <dt>AppName</dt>\n",
       "                <dd><code>PySparkShell</code></dd>\n",
       "            </dl>\n",
       "        </div>\n",
       "        "
      ],
      "text/plain": [
       "<SparkContext master=local[*] appName=PySparkShell>"
      ]
     },
     "execution_count": 1,
     "metadata": {},
     "output_type": "execute_result"
    }
   ],
   "source": [
    "sc"
   ]
  },
  {
   "cell_type": "markdown",
   "metadata": {},
   "source": [
    "## Read Mongo collection into Dataframe"
   ]
  },
  {
   "cell_type": "code",
   "execution_count": 2,
   "metadata": {},
   "outputs": [],
   "source": [
    "df = spark.read.format(\"com.mongodb.spark.sql.DefaultSource\").option(\"uri\",\n",
    "\"mongodb://127.0.0.1/packt.testCollection\").load()"
   ]
  },
  {
   "cell_type": "code",
   "execution_count": 3,
   "metadata": {},
   "outputs": [
    {
     "data": {
      "text/plain": [
       "6"
      ]
     },
     "execution_count": 3,
     "metadata": {},
     "output_type": "execute_result"
    }
   ],
   "source": [
    "df.count()"
   ]
  },
  {
   "cell_type": "code",
   "execution_count": 4,
   "metadata": {},
   "outputs": [
    {
     "data": {
      "text/plain": [
       "[Row(_id=Row(oid=u'5a0cf707534b443118f9086b'), name=u'Alice', nested=None, salary=50000, unit=u'legal'),\n",
       " Row(_id=Row(oid=u'5a0cf707534b443118f9086c'), name=u'Bob', nested=None, salary=40000, unit=u'marketing'),\n",
       " Row(_id=Row(oid=u'5a0cf707534b443118f9086d'), name=u'Charlie', nested=None, salary=60000, unit=u'communications'),\n",
       " Row(_id=Row(oid=u'5a0cf707534b443118f9086e'), name=u'David', nested=None, salary=70000, unit=u'legal'),\n",
       " Row(_id=Row(oid=u'5a0cf707534b443118f9086f'), name=u'Edwina', nested=None, salary=90000, unit=u'communications'),\n",
       " Row(_id=Row(oid=u'5a11e58e2ebedf70fcdfa912'), name=None, nested=Row(key=[u'v1', u'v2', u'v3']), salary=None, unit=None)]"
      ]
     },
     "execution_count": 4,
     "metadata": {},
     "output_type": "execute_result"
    }
   ],
   "source": [
    "df.collect()"
   ]
  },
  {
   "cell_type": "markdown",
   "metadata": {
    "collapsed": true
   },
   "source": [
    "## Compare to pyMongo"
   ]
  },
  {
   "cell_type": "code",
   "execution_count": 5,
   "metadata": {
    "collapsed": true
   },
   "outputs": [],
   "source": [
    "import pymongo"
   ]
  },
  {
   "cell_type": "code",
   "execution_count": 6,
   "metadata": {
    "collapsed": true
   },
   "outputs": [],
   "source": [
    "from pymongo.mongo_client import MongoClient"
   ]
  },
  {
   "cell_type": "code",
   "execution_count": 7,
   "metadata": {
    "collapsed": true
   },
   "outputs": [],
   "source": [
    "client=MongoClient('localhost')"
   ]
  },
  {
   "cell_type": "code",
   "execution_count": 8,
   "metadata": {
    "collapsed": true
   },
   "outputs": [],
   "source": [
    "db=client.packt"
   ]
  },
  {
   "cell_type": "code",
   "execution_count": 9,
   "metadata": {
    "collapsed": true
   },
   "outputs": [],
   "source": [
    "cur=db.testCollection.find()"
   ]
  },
  {
   "cell_type": "code",
   "execution_count": 10,
   "metadata": {},
   "outputs": [
    {
     "name": "stdout",
     "output_type": "stream",
     "text": [
      "{u'salary': 50000, u'_id': ObjectId('5a0cf707534b443118f9086b'), u'name': u'Alice', u'unit': u'legal'}\n",
      "{u'salary': 40000, u'_id': ObjectId('5a0cf707534b443118f9086c'), u'name': u'Bob', u'unit': u'marketing'}\n",
      "{u'salary': 60000, u'_id': ObjectId('5a0cf707534b443118f9086d'), u'name': u'Charlie', u'unit': u'communications'}\n",
      "{u'salary': 70000, u'_id': ObjectId('5a0cf707534b443118f9086e'), u'name': u'David', u'unit': u'legal'}\n",
      "{u'salary': 90000, u'_id': ObjectId('5a0cf707534b443118f9086f'), u'name': u'Edwina', u'unit': u'communications'}\n",
      "{u'_id': ObjectId('5a11e58e2ebedf70fcdfa912'), u'nested': {u'key': [u'v1', u'v2', u'v3']}}\n"
     ]
    }
   ],
   "source": [
    "for c in cur:\n",
    "    print c"
   ]
  },
  {
   "cell_type": "markdown",
   "metadata": {},
   "source": [
    "## Perform query"
   ]
  },
  {
   "cell_type": "code",
   "execution_count": 11,
   "metadata": {
    "collapsed": true
   },
   "outputs": [],
   "source": [
    "pipeline = \"{'$match': {'unit': 'legal'}}\""
   ]
  },
  {
   "cell_type": "code",
   "execution_count": 12,
   "metadata": {
    "collapsed": true
   },
   "outputs": [],
   "source": [
    "df = spark.read.format(\"com.mongodb.spark.sql.DefaultSource\").option(\"uri\",\n",
    "\"mongodb://127.0.0.1/packt.testCollection\").option(\"pipeline\",pipeline).load()"
   ]
  },
  {
   "cell_type": "code",
   "execution_count": 14,
   "metadata": {},
   "outputs": [
    {
     "data": {
      "text/plain": [
       "[Row(_id=Row(oid=u'5a0cf707534b443118f9086b'), name=u'Alice', salary=50000, unit=u'legal'),\n",
       " Row(_id=Row(oid=u'5a0cf707534b443118f9086e'), name=u'David', salary=70000, unit=u'legal')]"
      ]
     },
     "execution_count": 14,
     "metadata": {},
     "output_type": "execute_result"
    }
   ],
   "source": [
    "df.collect()"
   ]
  },
  {
   "cell_type": "code",
   "execution_count": null,
   "metadata": {
    "collapsed": true
   },
   "outputs": [],
   "source": []
  }
 ],
 "metadata": {
  "kernelspec": {
   "display_name": "Python 2",
   "language": "python",
   "name": "python2"
  },
  "language_info": {
   "codemirror_mode": {
    "name": "ipython",
    "version": 2
   },
   "file_extension": ".py",
   "mimetype": "text/x-python",
   "name": "python",
   "nbconvert_exporter": "python",
   "pygments_lexer": "ipython2",
   "version": "2.7.13"
  }
 },
 "nbformat": 4,
 "nbformat_minor": 2
}
