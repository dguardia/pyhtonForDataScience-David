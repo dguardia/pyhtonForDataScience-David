{
 "cells": [
  {
   "cell_type": "markdown",
   "metadata": {},
   "source": [
    "### refresher on py loops\n",
    "https://www.safaribooksonline.com/library/view/working-with-big/9781788839068/video2_2.html\n",
    "video 7 of 21\n",
    "using generators to step through the array without holding everything in memory return values as needed\n",
    "\n",
    "    #example\n",
    "    for i in xrange(10):\n",
    "        print(i)\n",
    "        "
   ]
  },
  {
   "cell_type": "markdown",
   "metadata": {},
   "source": [
    "### pymongo cursors to not consume memory"
   ]
  },
  {
   "cell_type": "code",
   "execution_count": 1,
   "metadata": {},
   "outputs": [],
   "source": [
    "import pymongo\n",
    "from pymongo import MongoClient\n",
    "client=pymongo.MongoClient('this_mongo_1')"
   ]
  },
  {
   "cell_type": "code",
   "execution_count": 2,
   "metadata": {},
   "outputs": [],
   "source": [
    "db=client.packt\n",
    "testCollection=db.testCollection"
   ]
  },
  {
   "cell_type": "code",
   "execution_count": 3,
   "metadata": {},
   "outputs": [],
   "source": [
    "import random, string"
   ]
  },
  {
   "cell_type": "code",
   "execution_count": 9,
   "metadata": {},
   "outputs": [],
   "source": [
    "letters = list(string.ascii_letters)\n",
    "#list(string.lowercase)"
   ]
  },
  {
   "cell_type": "code",
   "execution_count": 10,
   "metadata": {},
   "outputs": [
    {
     "data": {
      "text/plain": [
       "['a', 'b', 'c', 'd', 'e']"
      ]
     },
     "execution_count": 10,
     "metadata": {},
     "output_type": "execute_result"
    }
   ],
   "source": [
    "letters[0:5]"
   ]
  },
  {
   "cell_type": "markdown",
   "metadata": {},
   "source": [
    "##### create a random key value list\n",
    "#### Insert Many together"
   ]
  },
  {
   "cell_type": "code",
   "execution_count": 13,
   "metadata": {},
   "outputs": [],
   "source": [
    "res = testCollection.insert_many([{random.choice(letters): random.randint(1,10)} for i in range(10)])"
   ]
  },
  {
   "cell_type": "markdown",
   "metadata": {},
   "source": [
    "### Retrieve documents with a cursor"
   ]
  },
  {
   "cell_type": "code",
   "execution_count": 14,
   "metadata": {},
   "outputs": [
    {
     "data": {
      "text/plain": [
       "True"
      ]
     },
     "execution_count": 14,
     "metadata": {},
     "output_type": "execute_result"
    }
   ],
   "source": [
    "res.acknowledged"
   ]
  },
  {
   "cell_type": "code",
   "execution_count": 15,
   "metadata": {},
   "outputs": [
    {
     "data": {
      "text/plain": [
       "[ObjectId('5b44fb4f0d03a000104f44a4'),\n",
       " ObjectId('5b44fb4f0d03a000104f44a5'),\n",
       " ObjectId('5b44fb4f0d03a000104f44a6'),\n",
       " ObjectId('5b44fb4f0d03a000104f44a7'),\n",
       " ObjectId('5b44fb4f0d03a000104f44a8'),\n",
       " ObjectId('5b44fb4f0d03a000104f44a9'),\n",
       " ObjectId('5b44fb4f0d03a000104f44aa'),\n",
       " ObjectId('5b44fb4f0d03a000104f44ab'),\n",
       " ObjectId('5b44fb4f0d03a000104f44ac'),\n",
       " ObjectId('5b44fb4f0d03a000104f44ad')]"
      ]
     },
     "execution_count": 15,
     "metadata": {},
     "output_type": "execute_result"
    }
   ],
   "source": [
    "res.inserted_ids"
   ]
  },
  {
   "cell_type": "code",
   "execution_count": 16,
   "metadata": {},
   "outputs": [],
   "source": [
    "cur=testCollection.find()"
   ]
  },
  {
   "cell_type": "code",
   "execution_count": 17,
   "metadata": {},
   "outputs": [
    {
     "data": {
      "text/plain": [
       "pymongo.cursor.Cursor"
      ]
     },
     "execution_count": 17,
     "metadata": {},
     "output_type": "execute_result"
    }
   ],
   "source": [
    "type(cur)"
   ]
  },
  {
   "cell_type": "code",
   "execution_count": 18,
   "metadata": {},
   "outputs": [
    {
     "data": {
      "text/plain": [
       "10"
      ]
     },
     "execution_count": 18,
     "metadata": {},
     "output_type": "execute_result"
    }
   ],
   "source": [
    "cur.count()"
   ]
  },
  {
   "cell_type": "code",
   "execution_count": 19,
   "metadata": {},
   "outputs": [
    {
     "name": "stdout",
     "output_type": "stream",
     "text": [
      "{'_id': ObjectId('5b44fb4f0d03a000104f44a4'), 'Z': 7}\n",
      "{'_id': ObjectId('5b44fb4f0d03a000104f44a5'), 'E': 2}\n",
      "{'_id': ObjectId('5b44fb4f0d03a000104f44a6'), 'W': 2}\n",
      "{'_id': ObjectId('5b44fb4f0d03a000104f44a7'), 'c': 1}\n",
      "{'_id': ObjectId('5b44fb4f0d03a000104f44a8'), 'T': 5}\n",
      "{'_id': ObjectId('5b44fb4f0d03a000104f44a9'), 'l': 5}\n",
      "{'_id': ObjectId('5b44fb4f0d03a000104f44aa'), 'Y': 3}\n",
      "{'_id': ObjectId('5b44fb4f0d03a000104f44ab'), 'k': 6}\n",
      "{'_id': ObjectId('5b44fb4f0d03a000104f44ac'), 'H': 2}\n",
      "{'_id': ObjectId('5b44fb4f0d03a000104f44ad'), 'z': 2}\n"
     ]
    }
   ],
   "source": [
    "for doc in cur:\n",
    "    print(doc)"
   ]
  },
  {
   "cell_type": "code",
   "execution_count": 20,
   "metadata": {},
   "outputs": [
    {
     "data": {
      "text/plain": [
       "False"
      ]
     },
     "execution_count": 20,
     "metadata": {},
     "output_type": "execute_result"
    }
   ],
   "source": [
    "cur.alive"
   ]
  },
  {
   "cell_type": "code",
   "execution_count": 21,
   "metadata": {},
   "outputs": [],
   "source": [
    "cur.close()"
   ]
  },
  {
   "cell_type": "code",
   "execution_count": 22,
   "metadata": {},
   "outputs": [],
   "source": [
    "db.testCollection.drop()"
   ]
  }
 ],
 "metadata": {
  "kernelspec": {
   "display_name": "Python 3",
   "language": "python",
   "name": "python3"
  },
  "language_info": {
   "codemirror_mode": {
    "name": "ipython",
    "version": 3
   },
   "file_extension": ".py",
   "mimetype": "text/x-python",
   "name": "python",
   "nbconvert_exporter": "python",
   "pygments_lexer": "ipython3",
   "version": "3.6.5"
  }
 },
 "nbformat": 4,
 "nbformat_minor": 2
}
