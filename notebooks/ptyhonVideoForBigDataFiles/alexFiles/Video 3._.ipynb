{
 "cells": [
  {
   "cell_type": "code",
   "execution_count": 1,
   "metadata": {},
   "outputs": [],
   "source": [
    "import requests,pprint,json,datetime,time\n",
    "from pymongo import MongoClient\n",
    "from secrets import *\n",
    "# Sign up for free API key at https://openweathermap.org/appid"
   ]
  },
  {
   "cell_type": "markdown",
   "metadata": {},
   "source": [
    "# 3.1 Acquring data from an API"
   ]
  },
  {
   "cell_type": "code",
   "execution_count": 2,
   "metadata": {},
   "outputs": [
    {
     "ename": "NameError",
     "evalue": "name 'key' is not defined",
     "output_type": "error",
     "traceback": [
      "\u001b[0;31m---------------------------------------------------------------------------\u001b[0m",
      "\u001b[0;31mNameError\u001b[0m                                 Traceback (most recent call last)",
      "\u001b[0;32m<ipython-input-2-bc2362736d67>\u001b[0m in \u001b[0;36m<module>\u001b[0;34m()\u001b[0m\n\u001b[1;32m      1\u001b[0m \u001b[0mcity\u001b[0m\u001b[0;34m=\u001b[0m\u001b[0;34m'london'\u001b[0m\u001b[0;34m\u001b[0m\u001b[0m\n\u001b[0;32m----> 2\u001b[0;31m \u001b[0mpprint\u001b[0m\u001b[0;34m(\u001b[0m\u001b[0mkey\u001b[0m\u001b[0;34m)\u001b[0m\u001b[0;34m\u001b[0m\u001b[0m\n\u001b[0m",
      "\u001b[0;31mNameError\u001b[0m: name 'key' is not defined"
     ]
    }
   ],
   "source": [
    "city='london'\n",
    "pprint(key)"
   ]
  },
  {
   "cell_type": "code",
   "execution_count": 4,
   "metadata": {},
   "outputs": [
    {
     "ename": "NameError",
     "evalue": "name 'key' is not defined",
     "output_type": "error",
     "traceback": [
      "\u001b[0;31m---------------------------------------------------------------------------\u001b[0m",
      "\u001b[0;31mNameError\u001b[0m                                 Traceback (most recent call last)",
      "\u001b[0;32m<ipython-input-4-1ac08bccb082>\u001b[0m in \u001b[0;36m<module>\u001b[0;34m()\u001b[0m\n\u001b[0;32m----> 1\u001b[0;31m \u001b[0mrequestString\u001b[0m\u001b[0;34m=\u001b[0m\u001b[0;34mu'https://api.openweathermap.org/data/2.5/weather?q=%s&APPID=%s'\u001b[0m \u001b[0;34m%\u001b[0m \u001b[0;34m(\u001b[0m\u001b[0mcity\u001b[0m\u001b[0;34m,\u001b[0m\u001b[0mkey\u001b[0m\u001b[0;34m)\u001b[0m\u001b[0;34m\u001b[0m\u001b[0m\n\u001b[0m",
      "\u001b[0;31mNameError\u001b[0m: name 'key' is not defined"
     ]
    }
   ],
   "source": [
    "requestString=u'https://api.openweathermap.org/data/2.5/weather?q=%s&APPID=%s' % (city,key)"
   ]
  },
  {
   "cell_type": "code",
   "execution_count": 4,
   "metadata": {
    "collapsed": true
   },
   "outputs": [],
   "source": [
    "res=requests.get(requestString)"
   ]
  },
  {
   "cell_type": "code",
   "execution_count": 5,
   "metadata": {},
   "outputs": [
    {
     "data": {
      "text/plain": [
       "'OK'"
      ]
     },
     "execution_count": 5,
     "metadata": {},
     "output_type": "execute_result"
    }
   ],
   "source": [
    "res.reason"
   ]
  },
  {
   "cell_type": "code",
   "execution_count": 6,
   "metadata": {},
   "outputs": [
    {
     "name": "stdout",
     "output_type": "stream",
     "text": [
      "{u'base': u'stations',\n",
      " u'clouds': {u'all': 24},\n",
      " u'cod': 200,\n",
      " u'coord': {u'lat': 51.51, u'lon': -0.13},\n",
      " u'dt': 1511648400,\n",
      " u'id': 2643743,\n",
      " u'main': {u'humidity': 78,\n",
      "           u'pressure': 1020,\n",
      "           u'temp': 275.95,\n",
      "           u'temp_max': 277.15,\n",
      "           u'temp_min': 274.15},\n",
      " u'name': u'London',\n",
      " u'rain': {u'3h': 0.44},\n",
      " u'sys': {u'country': u'GB',\n",
      "          u'id': 5091,\n",
      "          u'message': 0.0037,\n",
      "          u'sunrise': 1511595397,\n",
      "          u'sunset': 1511625520,\n",
      "          u'type': 1},\n",
      " u'visibility': 10000,\n",
      " u'weather': [{u'description': u'light rain',\n",
      "               u'icon': u'10n',\n",
      "               u'id': 500,\n",
      "               u'main': u'Rain'}],\n",
      " u'wind': {u'deg': 230, u'speed': 5.1}}\n"
     ]
    }
   ],
   "source": [
    "pprint.pprint(res.json())"
   ]
  },
  {
   "cell_type": "code",
   "execution_count": 20,
   "metadata": {},
   "outputs": [],
   "source": [
    "def getData(city):\n",
    "    requestString=u'https://api.openweathermap.org/data/2.5/weather?q=%s&APPID=%s' % (city,key)\n",
    "    \n",
    "    res=requests.get(requestString)\n",
    "    \n",
    "    return res"
   ]
  },
  {
   "cell_type": "code",
   "execution_count": 9,
   "metadata": {
    "collapsed": true
   },
   "outputs": [],
   "source": [
    "res=getData('La paz')"
   ]
  },
  {
   "cell_type": "code",
   "execution_count": 10,
   "metadata": {},
   "outputs": [
    {
     "data": {
      "text/plain": [
       "<Response [200]>"
      ]
     },
     "execution_count": 10,
     "metadata": {},
     "output_type": "execute_result"
    }
   ],
   "source": [
    "res"
   ]
  },
  {
   "cell_type": "markdown",
   "metadata": {},
   "source": [
    "# 3.2 Ingesting data into MongoDB"
   ]
  },
  {
   "cell_type": "markdown",
   "metadata": {},
   "source": [
    "## Create DB and collection"
   ]
  },
  {
   "cell_type": "code",
   "execution_count": 22,
   "metadata": {
    "collapsed": true
   },
   "outputs": [],
   "source": [
    "client=MongoClient('localhost')\n",
    "db=client.packt"
   ]
  },
  {
   "cell_type": "code",
   "execution_count": 23,
   "metadata": {
    "collapsed": true
   },
   "outputs": [],
   "source": [
    "weatherCollection=db.weather"
   ]
  },
  {
   "cell_type": "code",
   "execution_count": 24,
   "metadata": {
    "collapsed": true
   },
   "outputs": [],
   "source": [
    "res=weatherCollection.insert_one(res.json())"
   ]
  },
  {
   "cell_type": "markdown",
   "metadata": {
    "collapsed": true
   },
   "source": [
    "## Get list of cities"
   ]
  },
  {
   "cell_type": "code",
   "execution_count": 14,
   "metadata": {},
   "outputs": [
    {
     "name": "stdout",
     "output_type": "stream",
     "text": [
      "--2017-11-19 21:01:02--  http://bulk.openweathermap.org/sample/city.list.json.gz\n",
      "Resolving bulk.openweathermap.org (bulk.openweathermap.org)... 78.46.48.103\n",
      "Connecting to bulk.openweathermap.org (bulk.openweathermap.org)|78.46.48.103|:80... connected.\n",
      "HTTP request sent, awaiting response... 200 OK\n",
      "Length: 4292641 (4.1M) [application/octet-stream]\n",
      "Saving to: ‘city.list.json.gz’\n",
      "\n",
      "city.list.json.gz   100%[===================>]   4.09M  3.09MB/s    in 1.3s    \n",
      "\n",
      "2017-11-19 21:01:03 (3.09 MB/s) - ‘city.list.json.gz’ saved [4292641/4292641]\n",
      "\n"
     ]
    }
   ],
   "source": [
    "!wget http://bulk.openweathermap.org/sample/city.list.json.gz"
   ]
  },
  {
   "cell_type": "code",
   "execution_count": 15,
   "metadata": {
    "collapsed": true
   },
   "outputs": [],
   "source": [
    "!gunzip city.list.json.gz"
   ]
  },
  {
   "cell_type": "code",
   "execution_count": 16,
   "metadata": {},
   "outputs": [
    {
     "name": "stdout",
     "output_type": "stream",
     "text": [
      "[\r\n",
      "  {\r\n",
      "    \"id\": 707860,\r\n",
      "    \"name\": \"Hurzuf\",\r\n",
      "    \"country\": \"UA\",\r\n",
      "    \"coord\": {\r\n",
      "      \"lon\": 34.283333,\r\n",
      "      \"lat\": 44.549999\r\n",
      "    }\r\n",
      "  },\r\n"
     ]
    }
   ],
   "source": [
    "!head city.list.json"
   ]
  },
  {
   "cell_type": "code",
   "execution_count": 12,
   "metadata": {},
   "outputs": [],
   "source": [
    "with open('data/city.list.json','r') as inFile:\n",
    "    citiesJson=json.loads(inFile.read())"
   ]
  },
  {
   "cell_type": "code",
   "execution_count": 13,
   "metadata": {},
   "outputs": [
    {
     "data": {
      "text/plain": [
       "{u'coord': {u'lat': 44.549999, u'lon': 34.283333},\n",
       " u'country': u'UA',\n",
       " u'id': 707860,\n",
       " u'name': u'Hurzuf'}"
      ]
     },
     "execution_count": 13,
     "metadata": {},
     "output_type": "execute_result"
    }
   ],
   "source": [
    "citiesJson[0]"
   ]
  },
  {
   "cell_type": "code",
   "execution_count": 14,
   "metadata": {},
   "outputs": [
    {
     "data": {
      "text/plain": [
       "list"
      ]
     },
     "execution_count": 14,
     "metadata": {},
     "output_type": "execute_result"
    }
   ],
   "source": [
    "type(citiesJson)"
   ]
  },
  {
   "cell_type": "markdown",
   "metadata": {},
   "source": [
    "## Limit to Chilean cities"
   ]
  },
  {
   "cell_type": "code",
   "execution_count": 15,
   "metadata": {
    "collapsed": true
   },
   "outputs": [],
   "source": [
    "citiesJsonCL=filter(lambda x:x[u'country']==u'CL',citiesJson)"
   ]
  },
  {
   "cell_type": "code",
   "execution_count": 16,
   "metadata": {},
   "outputs": [
    {
     "data": {
      "text/plain": [
       "369"
      ]
     },
     "execution_count": 16,
     "metadata": {},
     "output_type": "execute_result"
    }
   ],
   "source": [
    "len(citiesJsonCL)"
   ]
  },
  {
   "cell_type": "code",
   "execution_count": 17,
   "metadata": {
    "collapsed": true
   },
   "outputs": [],
   "source": [
    "cities=map(lambda x:x['name'],citiesJsonCL)\n",
    "ids=map(lambda x:x['id'],citiesJsonCL)"
   ]
  },
  {
   "cell_type": "code",
   "execution_count": 18,
   "metadata": {
    "collapsed": true
   },
   "outputs": [],
   "source": [
    "res=getData(cities[0])"
   ]
  },
  {
   "cell_type": "code",
   "execution_count": 19,
   "metadata": {},
   "outputs": [
    {
     "data": {
      "text/plain": [
       "<Response [200]>"
      ]
     },
     "execution_count": 19,
     "metadata": {},
     "output_type": "execute_result"
    }
   ],
   "source": [
    "res"
   ]
  },
  {
   "cell_type": "markdown",
   "metadata": {},
   "source": [
    "## Cycle through cities"
   ]
  },
  {
   "cell_type": "code",
   "execution_count": 55,
   "metadata": {},
   "outputs": [
    {
     "name": "stdout",
     "output_type": "stream",
     "text": [
      "Error grabbing data for Villa Presidente Frei, Nunoa, Santiago, Chile\n",
      "Not Found\n"
     ]
    }
   ],
   "source": [
    "for i,name in zip(ids,cities):\n",
    "    \n",
    "    res=getData(name)\n",
    "    \n",
    "    if not res.status_code==200:\n",
    "        print 'Error grabbing data for %s' % name\n",
    "        print res.reason\n",
    "        \n",
    "    else:\n",
    "        try:\n",
    "            weatherCollection.insert_one(res.json())\n",
    "        except e:\n",
    "            print 'Error inserting into DB' % e\n",
    "            print '(City %s)' % name\n",
    "    \n",
    "    time.sleep(1)\n",
    "    # Sleep so we dont thrash the API"
   ]
  },
  {
   "cell_type": "code",
   "execution_count": 219,
   "metadata": {
    "collapsed": true
   },
   "outputs": [],
   "source": [
    "def getTimestamp(dt):\n",
    "    return pd.datetime.fromtimestamp(dt)"
   ]
  },
  {
   "cell_type": "code",
   "execution_count": 212,
   "metadata": {},
   "outputs": [],
   "source": [
    "def getDate(tstamp):\n",
    "    dt=datetime.datetime.fromtimestamp(tstamp)\n",
    "    return dt.strftime('%b %d - %H:%m')"
   ]
  },
  {
   "cell_type": "markdown",
   "metadata": {},
   "source": [
    "# 3.3 Querying MongoDB for useful information"
   ]
  },
  {
   "cell_type": "code",
   "execution_count": 228,
   "metadata": {
    "collapsed": true
   },
   "outputs": [],
   "source": [
    "cur=weatherCollection.find()"
   ]
  },
  {
   "cell_type": "code",
   "execution_count": 229,
   "metadata": {
    "collapsed": true
   },
   "outputs": [],
   "source": [
    "sortedCur=cur.sort('main.temp')"
   ]
  },
  {
   "cell_type": "code",
   "execution_count": 230,
   "metadata": {},
   "outputs": [
    {
     "name": "stdout",
     "output_type": "stream",
     "text": [
      "Error: missing name/temp\n",
      "Error: missing name/temp\n",
      "Error: missing name/temp\n",
      "Error: missing name/temp\n",
      "Cochrane\n",
      "264.09\n",
      "Cochrane\n",
      "266.63\n",
      "Cañete\n",
      "267.87\n",
      "Los Álamos\n",
      "267.946\n",
      "Cochrane\n",
      "268.67\n",
      "Cañete\n",
      "268.696\n"
     ]
    }
   ],
   "source": [
    "for doc in sortedCur.limit(10):\n",
    "    try:\n",
    "        print doc['name']\n",
    "        print doc['main']['temp']\n",
    "    except:\n",
    "        print 'Error: missing name/temp'"
   ]
  },
  {
   "cell_type": "code",
   "execution_count": 31,
   "metadata": {},
   "outputs": [
    {
     "data": {
      "text/plain": [
       "3046"
      ]
     },
     "execution_count": 31,
     "metadata": {},
     "output_type": "execute_result"
    }
   ],
   "source": [
    "cur.count()"
   ]
  },
  {
   "cell_type": "markdown",
   "metadata": {},
   "source": [
    "## Find the max recorded temperatures over time per station"
   ]
  },
  {
   "cell_type": "code",
   "execution_count": 79,
   "metadata": {
    "collapsed": true
   },
   "outputs": [],
   "source": [
    "pipeline=[]\n",
    "pipeline.append({'$group':{'_id':'$name','maxTemp':{'$max':'$main.temp'}}})\n",
    "# Group measurements by city name, extract maximum recorded tmep for each\n",
    "pipeline.append({'$limit':10})\n",
    "# Limit results to first 10 cities"
   ]
  },
  {
   "cell_type": "code",
   "execution_count": 80,
   "metadata": {},
   "outputs": [],
   "source": [
    "cur=weatherCollection.aggregate(pipeline=pipeline)"
   ]
  },
  {
   "cell_type": "code",
   "execution_count": 81,
   "metadata": {},
   "outputs": [
    {
     "name": "stdout",
     "output_type": "stream",
     "text": [
      "La Paz 293.15\n",
      "None None\n",
      "Provincia de Santiago 304.09\n",
      "Las Gaviotas 297.15\n",
      "Putre 287.486\n",
      "Arica 295.24\n",
      "Santiago 304.15\n",
      "Futaleufu 288.236\n",
      "El Arrayán 300.15\n",
      "Puerto Bories 292.15\n"
     ]
    }
   ],
   "source": [
    "for d in cur:\n",
    "    print d['_id'],d['maxTemp']"
   ]
  },
  {
   "cell_type": "markdown",
   "metadata": {},
   "source": [
    "## Get datetime of max temp per station"
   ]
  },
  {
   "cell_type": "code",
   "execution_count": 192,
   "metadata": {},
   "outputs": [],
   "source": [
    "pipeline=[]\n",
    "pipeline.append({'$match':{'name':{'$exists':True}}})\n",
    "# Filter out dirty rows\n",
    "pipeline.append({'$sort':{'name':1,'main.temp':-1}})\n",
    "# Sort by name (esc) and temperature (asc)\n",
    "pipeline.append({'$group':{'_id':'$name','maxTemp':{'$first':'$main.temp'},'date':{'$first':'$dt'}}})\n",
    "# Group by name, grab maximum temperature and date of temperature\n",
    "# Sorted by temp so grab first document from each group\n",
    "pipeline.append({'$limit':10})\n",
    "# limit to first 10 cities"
   ]
  },
  {
   "cell_type": "code",
   "execution_count": 216,
   "metadata": {
    "collapsed": true
   },
   "outputs": [],
   "source": [
    "cur=weatherCollection.aggregate(pipeline=pipeline)"
   ]
  },
  {
   "cell_type": "code",
   "execution_count": 217,
   "metadata": {},
   "outputs": [
    {
     "name": "stdout",
     "output_type": "stream",
     "text": [
      "Nov 25 - 19:11 Región Aisén del General Carlos Ibáñez del Campo 277.736\n",
      "\n",
      "Nov 25 - 19:11 Región de Magallanes y de la Antártica Chilena 280.886\n",
      "\n",
      "Nov 25 - 19:11 Caletones 275.711\n",
      "\n",
      "Nov 21 - 21:11 Puerto Williams 281.15\n",
      "\n",
      "Nov 21 - 21:11 Lebu 286.308\n",
      "\n",
      "Nov 25 - 19:11 Putre 287.486\n",
      "\n",
      "Nov 25 - 19:11 Puerto Quellon 287.611\n",
      "\n",
      "Nov 20 - 13:11 Cañete 287.836\n",
      "\n",
      "Nov 25 - 19:11 Futaleufu 288.236\n",
      "\n",
      "Nov 25 - 19:11 Coihaique 288.59\n",
      "\n"
     ]
    }
   ],
   "source": [
    "for d in cur:\n",
    "    print getDate(d['date']),d['_id'],d['maxTemp']\n",
    "    print ''"
   ]
  },
  {
   "cell_type": "markdown",
   "metadata": {},
   "source": [
    "## Do sanity check for one city"
   ]
  },
  {
   "cell_type": "code",
   "execution_count": 214,
   "metadata": {},
   "outputs": [
    {
     "name": "stdout",
     "output_type": "stream",
     "text": [
      "Nov 19 - 21:11  274.693\n",
      "Nov 19 - 23:11  273.395\n",
      "Nov 20 - 13:11  273.886\n",
      "Nov 20 - 22:11  273.346\n",
      "Nov 21 - 21:11  274.608\n",
      "Nov 22 - 23:11  273.721\n",
      "Nov 25 - 00:11  273.242\n",
      "Nov 25 - 19:11  275.711\n"
     ]
    }
   ],
   "source": [
    "for d in weatherCollection.find({'name':'Caletones'}):\n",
    "    print getDate(d['dt']),'',d['main']['temp']"
   ]
  },
  {
   "cell_type": "code",
   "execution_count": null,
   "metadata": {
    "collapsed": true
   },
   "outputs": [],
   "source": []
  }
 ],
 "metadata": {
  "kernelspec": {
   "display_name": "Python 3",
   "language": "python",
   "name": "python3"
  },
  "language_info": {
   "codemirror_mode": {
    "name": "ipython",
    "version": 3
   },
   "file_extension": ".py",
   "mimetype": "text/x-python",
   "name": "python",
   "nbconvert_exporter": "python",
   "pygments_lexer": "ipython3",
   "version": "3.6.4"
  }
 },
 "nbformat": 4,
 "nbformat_minor": 2
}
