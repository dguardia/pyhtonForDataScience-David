{
 "cells": [
  {
   "cell_type": "markdown",
   "metadata": {},
   "source": [
    "#### Grab Data from API"
   ]
  },
  {
   "cell_type": "markdown",
   "metadata": {},
   "source": [
    "Weather Data\n",
    "\n",
    "https://openweathermap.org/current  \n",
    "    \n",
    "    \n",
    "    API call: string ='api.openweathermap.org/data/2.5/weather?q={city name}'"
   ]
  },
  {
   "cell_type": "code",
   "execution_count": 1,
   "metadata": {},
   "outputs": [],
   "source": [
    "import pymongo, requests, pprint, json, datetime, time\n",
    "from pymongo import MongoClient\n",
    "\n",
    "client=pymongo.MongoClient('pythonforbigdata_this_mongo_1')"
   ]
  },
  {
   "cell_type": "code",
   "execution_count": 24,
   "metadata": {},
   "outputs": [],
   "source": [
    "from secrets import *"
   ]
  },
  {
   "cell_type": "code",
   "execution_count": 30,
   "metadata": {},
   "outputs": [
    {
     "name": "stdout",
     "output_type": "stream",
     "text": [
      "349f8bfee059717073b02c2c6497f938\n"
     ]
    }
   ],
   "source": [
    "from secret import *\n",
    "print(key)"
   ]
  },
  {
   "cell_type": "code",
   "execution_count": 3,
   "metadata": {},
   "outputs": [
    {
     "data": {
      "text/plain": [
       "['admin', 'config', 'local']"
      ]
     },
     "execution_count": 3,
     "metadata": {},
     "output_type": "execute_result"
    }
   ],
   "source": [
    "client.database_names()"
   ]
  },
  {
   "cell_type": "code",
   "execution_count": 4,
   "metadata": {},
   "outputs": [],
   "source": [
    "db = client.weatherExample"
   ]
  },
  {
   "cell_type": "code",
   "execution_count": 5,
   "metadata": {},
   "outputs": [],
   "source": [
    "weatherCollection=db.weatherExample"
   ]
  },
  {
   "cell_type": "markdown",
   "metadata": {},
   "source": [
    "## Get list of cities"
   ]
  },
  {
   "cell_type": "markdown",
   "metadata": {},
   "source": [
    "***skipped downloading file, did this in prior notebook, see video 3._ for instructions and code."
   ]
  },
  {
   "cell_type": "code",
   "execution_count": 13,
   "metadata": {},
   "outputs": [
    {
     "name": "stdout",
     "output_type": "stream",
     "text": [
      "--2018-07-11 13:52:43--  http://bulk.openweathermap.org/sample/city.list.json.gz\n",
      "Resolving bulk.openweathermap.org (bulk.openweathermap.org)... 78.46.48.103\n",
      "Connecting to bulk.openweathermap.org (bulk.openweathermap.org)|78.46.48.103|:80... connected.\n",
      "HTTP request sent, awaiting response... 200 OK\n",
      "Length: 4292641 (4.1M) [application/octet-stream]\n",
      "Saving to: ‘city.list.json.gz’\n",
      "\n",
      "city.list.json.gz   100%[===================>]   4.09M   801KB/s    in 6.1s    \n",
      "\n",
      "2018-07-11 13:52:49 (686 KB/s) - ‘city.list.json.gz’ saved [4292641/4292641]\n",
      "\n"
     ]
    }
   ],
   "source": [
    "#download bulk file using wget\n",
    "!wget http://bulk.openweathermap.org/sample/city.list.json.gz"
   ]
  },
  {
   "cell_type": "code",
   "execution_count": 14,
   "metadata": {},
   "outputs": [],
   "source": [
    "#unzip file\n",
    "!gunzip city.list.json.gz"
   ]
  },
  {
   "cell_type": "code",
   "execution_count": 12,
   "metadata": {},
   "outputs": [
    {
     "name": "stdout",
     "output_type": "stream",
     "text": [
      "[\r\n",
      "  {\r\n",
      "    \"id\": 707860,\r\n",
      "    \"name\": \"Hurzuf\",\r\n",
      "    \"country\": \"UA\",\r\n",
      "    \"coord\": {\r\n",
      "      \"lon\": 34.283333,\r\n",
      "      \"lat\": 44.549999\r\n",
      "    }\r\n",
      "  },\r\n"
     ]
    }
   ],
   "source": [
    "#take a look at file\n",
    "!head city.list.json"
   ]
  },
  {
   "cell_type": "code",
   "execution_count": 7,
   "metadata": {},
   "outputs": [
    {
     "name": "stdout",
     "output_type": "stream",
     "text": [
      "/notebooks/ptyhonVideoForBigDataFiles/alexFiles\r\n"
     ]
    }
   ],
   "source": [
    "!pwd"
   ]
  },
  {
   "cell_type": "code",
   "execution_count": 23,
   "metadata": {},
   "outputs": [
    {
     "name": "stdout",
     "output_type": "stream",
     "text": [
      " city.list.json   secrets.py\t     WeatherExample_video3.ipynb\r\n",
      " __pycache__\t 'Video 3._.ipynb'\r\n"
     ]
    }
   ],
   "source": [
    "!ls"
   ]
  },
  {
   "cell_type": "markdown",
   "metadata": {},
   "source": [
    "### get a list of cities provided by weather api "
   ]
  },
  {
   "cell_type": "code",
   "execution_count": 9,
   "metadata": {},
   "outputs": [],
   "source": [
    "with open('city.list.json','r') as inFile:\n",
    "    citiesJson=json.loads(inFile.read())"
   ]
  },
  {
   "cell_type": "code",
   "execution_count": 10,
   "metadata": {},
   "outputs": [
    {
     "data": {
      "text/plain": [
       "{'id': 707860,\n",
       " 'name': 'Hurzuf',\n",
       " 'country': 'UA',\n",
       " 'coord': {'lon': 34.283333, 'lat': 44.549999}}"
      ]
     },
     "execution_count": 10,
     "metadata": {},
     "output_type": "execute_result"
    }
   ],
   "source": [
    "citiesJson[0]"
   ]
  },
  {
   "cell_type": "markdown",
   "metadata": {},
   "source": [
    "#### fuction to get multiple cities"
   ]
  },
  {
   "cell_type": "code",
   "execution_count": 13,
   "metadata": {},
   "outputs": [],
   "source": [
    "#fuction to get multiple cities\n",
    "def getData(city):\n",
    "    requestString = 'https://api.openweathermap.org/data/2.5/weather?q={}&APPID={}'.format(city, key)\n",
    "    res = requests.get(requestString)\n",
    "    return res"
   ]
  },
  {
   "cell_type": "code",
   "execution_count": 14,
   "metadata": {},
   "outputs": [
    {
     "data": {
      "text/plain": [
       "list"
      ]
     },
     "execution_count": 14,
     "metadata": {},
     "output_type": "execute_result"
    }
   ],
   "source": [
    "type(citiesJson)"
   ]
  },
  {
   "cell_type": "markdown",
   "metadata": {},
   "source": [
    "### limit to only Chilean cities  \n",
    "#You don't need to consume all of the memory to create a list up front, as long as the iterator returns the \n",
    "#same thing a list would during iteration. \n",
    "#https://stackoverflow.com/questions/12319025/filters-in-python3"
   ]
  },
  {
   "cell_type": "code",
   "execution_count": 15,
   "metadata": {},
   "outputs": [],
   "source": [
    "#creates a python object that is a filter(pointer object) on whole citiesJson python object conserving memory\n",
    "citiesJsonCL = list(filter(lambda x:x[u'country']==u'CL', citiesJson))"
   ]
  },
  {
   "cell_type": "code",
   "execution_count": 16,
   "metadata": {},
   "outputs": [
    {
     "data": {
      "text/plain": [
       "369"
      ]
     },
     "execution_count": 16,
     "metadata": {},
     "output_type": "execute_result"
    }
   ],
   "source": [
    "len(citiesJsonCL)"
   ]
  },
  {
   "cell_type": "code",
   "execution_count": 17,
   "metadata": {},
   "outputs": [],
   "source": [
    "#extract just single item that is easier to pass in list map is another type of python pointer\n",
    "cities = list(map(lambda x:x['name'],citiesJsonCL))\n",
    "ids = list(map(lambda x:x['id'], citiesJsonCL))"
   ]
  },
  {
   "cell_type": "code",
   "execution_count": 31,
   "metadata": {},
   "outputs": [],
   "source": [
    "#pass 1st city to get data\n",
    "res = getData(str(cities[0]))"
   ]
  },
  {
   "cell_type": "code",
   "execution_count": 32,
   "metadata": {},
   "outputs": [
    {
     "data": {
      "text/plain": [
       "'OK'"
      ]
     },
     "execution_count": 32,
     "metadata": {},
     "output_type": "execute_result"
    }
   ],
   "source": [
    "res.reason"
   ]
  },
  {
   "cell_type": "code",
   "execution_count": 34,
   "metadata": {},
   "outputs": [
    {
     "data": {
      "text/plain": [
       "<Response [200]>"
      ]
     },
     "execution_count": 34,
     "metadata": {},
     "output_type": "execute_result"
    }
   ],
   "source": [
    "#this is running the get command in function for 1st city in list\n",
    "res"
   ]
  },
  {
   "cell_type": "code",
   "execution_count": 35,
   "metadata": {},
   "outputs": [
    {
     "name": "stdout",
     "output_type": "stream",
     "text": [
      "{'base': 'stations',\n",
      " 'clouds': {'all': 90},\n",
      " 'cod': 200,\n",
      " 'coord': {'lat': -43.12, 'lon': -73.62},\n",
      " 'dt': 1531486800,\n",
      " 'id': 3874943,\n",
      " 'main': {'humidity': 100,\n",
      "          'pressure': 1011,\n",
      "          'temp': 283.15,\n",
      "          'temp_max': 283.15,\n",
      "          'temp_min': 283.15},\n",
      " 'name': 'Puerto Quellon',\n",
      " 'sys': {'country': 'CL',\n",
      "         'id': 4661,\n",
      "         'message': 0.0044,\n",
      "         'sunrise': 1531484552,\n",
      "         'sunset': 1531517904,\n",
      "         'type': 1},\n",
      " 'visibility': 8000,\n",
      " 'weather': [{'description': 'light intensity drizzle',\n",
      "              'icon': '09d',\n",
      "              'id': 300,\n",
      "              'main': 'Drizzle'}],\n",
      " 'wind': {'speed': 1.5}}\n"
     ]
    }
   ],
   "source": [
    "pprint.pprint(res.json())"
   ]
  },
  {
   "cell_type": "code",
   "execution_count": 36,
   "metadata": {},
   "outputs": [
    {
     "name": "stdout",
     "output_type": "stream",
     "text": [
      "['Puerto Quellon', 'Nacimiento', 'El Tabo', 'Región del Libertador General Bernardo O’Higgins', 'Lo Moscoso', 'Barón', 'Región de Los Lagos', 'Las Animas', 'Puerto Montt', 'Las Condes']\n"
     ]
    }
   ],
   "source": [
    "print(cities[0:10])"
   ]
  },
  {
   "cell_type": "markdown",
   "metadata": {},
   "source": [
    "### cycle through 1st 10 cities in list and post to collection"
   ]
  },
  {
   "cell_type": "code",
   "execution_count": 37,
   "metadata": {},
   "outputs": [],
   "source": [
    "## cycle through the two lists grab the data for city and insert into mongo db\n",
    "\n",
    "for i, name in zip(ids[0:10], cities[0:10]):\n",
    "    \n",
    "    res = getData(str(name))\n",
    "    \n",
    "    if not res.status_code==200:\n",
    "        print('Error grabbing data for {}, reason {}'.format(name, res.reason))\n",
    "        #print(res.reason)\n",
    "    \n",
    "    else:\n",
    "        try:\n",
    "              weatherCollection.insert_one(res.json())\n",
    "        except e:\n",
    "              print('Error inserting to DB'.format(e))\n",
    "              print('City {}'.format(name))\n",
    "              \n",
    "    time.sleep(1)\n",
    "    #so we don't overload api"
   ]
  },
  {
   "cell_type": "code",
   "execution_count": 38,
   "metadata": {
    "scrolled": false
   },
   "outputs": [
    {
     "name": "stdout",
     "output_type": "stream",
     "text": [
      "{'_id': ObjectId('5b48b78dcc04c700102c6db5'),\n",
      " 'base': 'stations',\n",
      " 'clouds': {'all': 90},\n",
      " 'cod': 200,\n",
      " 'coord': {'lat': -43.12, 'lon': -73.62},\n",
      " 'dt': 1531486800,\n",
      " 'id': 3874943,\n",
      " 'main': {'humidity': 100,\n",
      "          'pressure': 1011,\n",
      "          'temp': 283.15,\n",
      "          'temp_max': 283.15,\n",
      "          'temp_min': 283.15},\n",
      " 'name': 'Puerto Quellon',\n",
      " 'sys': {'country': 'CL',\n",
      "         'id': 4661,\n",
      "         'message': 0.0044,\n",
      "         'sunrise': 1531484552,\n",
      "         'sunset': 1531517904,\n",
      "         'type': 1},\n",
      " 'visibility': 8000,\n",
      " 'weather': [{'description': 'light intensity drizzle',\n",
      "              'icon': '09d',\n",
      "              'id': 300,\n",
      "              'main': 'Drizzle'}],\n",
      " 'wind': {'speed': 1.5}}\n",
      "{'_id': ObjectId('5b48b78ecc04c700102c6db6'),\n",
      " 'base': 'stations',\n",
      " 'clouds': {'all': 75},\n",
      " 'cod': 200,\n",
      " 'coord': {'lat': -37.5, 'lon': -72.67},\n",
      " 'dt': 1531490400,\n",
      " 'id': 3879123,\n",
      " 'main': {'humidity': 93,\n",
      "          'pressure': 1018,\n",
      "          'temp': 284.15,\n",
      "          'temp_max': 284.15,\n",
      "          'temp_min': 284.15},\n",
      " 'name': 'Nacimiento',\n",
      " 'sys': {'country': 'CL',\n",
      "         'id': 4650,\n",
      "         'message': 0.0045,\n",
      "         'sunrise': 1531483373,\n",
      "         'sunset': 1531518625,\n",
      "         'type': 1},\n",
      " 'visibility': 10000,\n",
      " 'weather': [{'description': 'broken clouds',\n",
      "              'icon': '04d',\n",
      "              'id': 803,\n",
      "              'main': 'Clouds'}],\n",
      " 'wind': {'deg': 4.00003, 'speed': 2.11}}\n",
      "{'_id': ObjectId('5b48b790cc04c700102c6db7'),\n",
      " 'base': 'stations',\n",
      " 'clouds': {'all': 0},\n",
      " 'cod': 200,\n",
      " 'coord': {'lat': -33.45, 'lon': -71.67},\n",
      " 'dt': 1531490400,\n",
      " 'id': 3890338,\n",
      " 'main': {'humidity': 76,\n",
      "          'pressure': 1017,\n",
      "          'temp': 287.16,\n",
      "          'temp_max': 291.15,\n",
      "          'temp_min': 285.15},\n",
      " 'name': 'El Tabo',\n",
      " 'sys': {'country': 'CL',\n",
      "         'id': 4667,\n",
      "         'message': 0.0039,\n",
      "         'sunrise': 1531482542,\n",
      "         'sunset': 1531518974,\n",
      "         'type': 1},\n",
      " 'visibility': 10000,\n",
      " 'weather': [{'description': 'clear sky',\n",
      "              'icon': '01d',\n",
      "              'id': 800,\n",
      "              'main': 'Clear'}],\n",
      " 'wind': {'deg': 130, 'speed': 2.1}}\n",
      "{'_id': ObjectId('5b48b792cc04c700102c6db8'),\n",
      " 'base': 'stations',\n",
      " 'clouds': {'all': 90},\n",
      " 'cod': 200,\n",
      " 'coord': {'lat': -34.5, 'lon': -71},\n",
      " 'dt': 1531490400,\n",
      " 'id': 3883281,\n",
      " 'main': {'humidity': 100,\n",
      "          'pressure': 1018,\n",
      "          'temp': 279.86,\n",
      "          'temp_max': 281.15,\n",
      "          'temp_min': 279.15},\n",
      " 'name': 'Región del Libertador General Bernardo O’Higgins',\n",
      " 'sys': {'country': 'CL',\n",
      "         'id': 4654,\n",
      "         'message': 0.0032,\n",
      "         'sunrise': 1531482528,\n",
      "         'sunset': 1531518667,\n",
      "         'type': 1},\n",
      " 'visibility': 100,\n",
      " 'weather': [{'description': 'haze', 'icon': '50d', 'id': 721, 'main': 'Haze'},\n",
      "             {'description': 'fog', 'icon': '50d', 'id': 741, 'main': 'Fog'}],\n",
      " 'wind': {'deg': 88.5, 'speed': 0.51}}\n",
      "{'_id': ObjectId('5b48b793cc04c700102c6db9'),\n",
      " 'base': 'stations',\n",
      " 'clouds': {'all': 90},\n",
      " 'cod': 200,\n",
      " 'coord': {'lat': -34.6, 'lon': -71.11},\n",
      " 'dt': 1531490400,\n",
      " 'id': 3882585,\n",
      " 'main': {'humidity': 100,\n",
      "          'pressure': 1018,\n",
      "          'temp': 279.76,\n",
      "          'temp_max': 281.15,\n",
      "          'temp_min': 279.15},\n",
      " 'name': 'Lo Moscoso',\n",
      " 'sys': {'country': 'CL',\n",
      "         'id': 4654,\n",
      "         'message': 0.0036,\n",
      "         'sunrise': 1531482569,\n",
      "         'sunset': 1531518679,\n",
      "         'type': 1},\n",
      " 'visibility': 100,\n",
      " 'weather': [{'description': 'fog', 'icon': '50d', 'id': 741, 'main': 'Fog'},\n",
      "             {'description': 'haze', 'icon': '50d', 'id': 721, 'main': 'Haze'}],\n",
      " 'wind': {'deg': 177.5, 'speed': 1.66}}\n",
      "{'_id': ObjectId('5b48b795cc04c700102c6dba'),\n",
      " 'base': 'stations',\n",
      " 'clouds': {'all': 0},\n",
      " 'cod': 200,\n",
      " 'coord': {'lat': -33.04, 'lon': -71.6},\n",
      " 'dt': 1531490400,\n",
      " 'id': 3898749,\n",
      " 'main': {'humidity': 45,\n",
      "          'pressure': 1016,\n",
      "          'temp': 287.04,\n",
      "          'temp_max': 291.15,\n",
      "          'temp_min': 285.15},\n",
      " 'name': 'Barón',\n",
      " 'sys': {'country': 'CL',\n",
      "         'id': 4663,\n",
      "         'message': 0.0044,\n",
      "         'sunrise': 1531482469,\n",
      "         'sunset': 1531519014,\n",
      "         'type': 1},\n",
      " 'visibility': 10000,\n",
      " 'weather': [{'description': 'clear sky',\n",
      "              'icon': '01d',\n",
      "              'id': 800,\n",
      "              'main': 'Clear'}],\n",
      " 'wind': {'deg': 180, 'speed': 3.1}}\n",
      "{'_id': ObjectId('5b48b796cc04c700102c6dbb'),\n",
      " 'base': 'stations',\n",
      " 'clouds': {'all': 90},\n",
      " 'cod': 200,\n",
      " 'coord': {'lat': -41.75, 'lon': -73},\n",
      " 'dt': 1531490400,\n",
      " 'id': 3881974,\n",
      " 'main': {'humidity': 100,\n",
      "          'pressure': 1012,\n",
      "          'temp': 283.15,\n",
      "          'temp_max': 283.15,\n",
      "          'temp_min': 283.15},\n",
      " 'name': 'Región de Los Lagos',\n",
      " 'sys': {'country': 'CL',\n",
      "         'id': 4672,\n",
      "         'message': 0.0039,\n",
      "         'sunrise': 1531484155,\n",
      "         'sunset': 1531518003,\n",
      "         'type': 1},\n",
      " 'visibility': 2000,\n",
      " 'weather': [{'description': 'light intensity drizzle rain',\n",
      "              'icon': '09d',\n",
      "              'id': 310,\n",
      "              'main': 'Drizzle'}],\n",
      " 'wind': {'deg': 60, 'speed': 1.5}}\n",
      "{'_id': ObjectId('5b48b798cc04c700102c6dbc'),\n",
      " 'base': 'stations',\n",
      " 'clouds': {'all': 40},\n",
      " 'cod': 200,\n",
      " 'coord': {'lat': 38.07, 'lon': -103.22},\n",
      " 'dt': 1531489980,\n",
      " 'id': 5428055,\n",
      " 'main': {'humidity': 69,\n",
      "          'pressure': 1020,\n",
      "          'temp': 296.15,\n",
      "          'temp_max': 296.15,\n",
      "          'temp_min': 296.15},\n",
      " 'name': 'Las Animas',\n",
      " 'sys': {'country': 'US',\n",
      "         'id': 565,\n",
      "         'message': 0.0037,\n",
      "         'sunrise': 1531482075,\n",
      "         'sunset': 1531534552,\n",
      "         'type': 1},\n",
      " 'visibility': 16093,\n",
      " 'weather': [{'description': 'scattered clouds',\n",
      "              'icon': '03d',\n",
      "              'id': 802,\n",
      "              'main': 'Clouds'}],\n",
      " 'wind': {'deg': 360, 'gust': 8.7, 'speed': 6.2}}\n",
      "{'_id': ObjectId('5b48b79acc04c700102c6dbd'),\n",
      " 'base': 'stations',\n",
      " 'clouds': {'all': 90},\n",
      " 'cod': 200,\n",
      " 'coord': {'lat': -41.47, 'lon': -72.94},\n",
      " 'dt': 1531490400,\n",
      " 'id': 3874960,\n",
      " 'main': {'humidity': 100,\n",
      "          'pressure': 1012,\n",
      "          'temp': 283.15,\n",
      "          'temp_max': 283.15,\n",
      "          'temp_min': 283.15},\n",
      " 'name': 'Puerto Montt',\n",
      " 'sys': {'country': 'CL',\n",
      "         'id': 4672,\n",
      "         'message': 0.004,\n",
      "         'sunrise': 1531484091,\n",
      "         'sunset': 1531518038,\n",
      "         'type': 1},\n",
      " 'visibility': 2000,\n",
      " 'weather': [{'description': 'light intensity drizzle rain',\n",
      "              'icon': '09d',\n",
      "              'id': 310,\n",
      "              'main': 'Drizzle'}],\n",
      " 'wind': {'deg': 60, 'speed': 1.5}}\n",
      "{'_id': ObjectId('5b48b79ccc04c700102c6dbe'),\n",
      " 'base': 'stations',\n",
      " 'clouds': {'all': 0},\n",
      " 'cod': 200,\n",
      " 'coord': {'lat': -33.41, 'lon': -70.54},\n",
      " 'dt': 1531490400,\n",
      " 'id': 3884448,\n",
      " 'main': {'humidity': 74,\n",
      "          'pressure': 1019,\n",
      "          'temp': 283.59,\n",
      "          'temp_max': 285.15,\n",
      "          'temp_min': 282.15},\n",
      " 'name': 'Las Condes',\n",
      " 'sys': {'country': 'CL',\n",
      "         'id': 4670,\n",
      "         'message': 0.0034,\n",
      "         'sunrise': 1531482265,\n",
      "         'sunset': 1531518708,\n",
      "         'type': 1},\n",
      " 'visibility': 10000,\n",
      " 'weather': [{'description': 'haze', 'icon': '50d', 'id': 721, 'main': 'Haze'}],\n",
      " 'wind': {'deg': 51, 'speed': 1.06}}\n"
     ]
    }
   ],
   "source": [
    "for doc in weatherCollection.find():\n",
    "    pprint.pprint(doc)"
   ]
  },
  {
   "cell_type": "markdown",
   "metadata": {},
   "source": [
    "### add US cities"
   ]
  },
  {
   "cell_type": "code",
   "execution_count": 39,
   "metadata": {},
   "outputs": [
    {
     "data": {
      "text/plain": [
       "19972"
      ]
     },
     "execution_count": 39,
     "metadata": {},
     "output_type": "execute_result"
    }
   ],
   "source": [
    "#creates a python object that is a filter(pointer object) on whole citiesJson python object conserving memory\n",
    "citiesJsonUS = list(filter(lambda x:x[u'country']==u'US', citiesJson))\n",
    "len(citiesJsonUS)"
   ]
  },
  {
   "cell_type": "code",
   "execution_count": 40,
   "metadata": {},
   "outputs": [],
   "source": [
    "#extract just single item that is easier to pass in list map is another type of python pointer\n",
    "cities = list(map(lambda x:x['name'],citiesJsonUS))\n",
    "ids = list(map(lambda x:x['id'], citiesJsonUS))"
   ]
  },
  {
   "cell_type": "code",
   "execution_count": 41,
   "metadata": {},
   "outputs": [
    {
     "name": "stdout",
     "output_type": "stream",
     "text": [
      "Error grabbing data for Frederick, reason Not Found\n"
     ]
    },
    {
     "ename": "KeyboardInterrupt",
     "evalue": "",
     "output_type": "error",
     "traceback": [
      "\u001b[0;31m---------------------------------------------------------------------------\u001b[0m",
      "\u001b[0;31mKeyboardInterrupt\u001b[0m                         Traceback (most recent call last)",
      "\u001b[0;32m<ipython-input-41-1764868e97c4>\u001b[0m in \u001b[0;36m<module>\u001b[0;34m()\u001b[0m\n\u001b[1;32m     16\u001b[0m               \u001b[0mprint\u001b[0m\u001b[0;34m(\u001b[0m\u001b[0;34m'City {}'\u001b[0m\u001b[0;34m.\u001b[0m\u001b[0mformat\u001b[0m\u001b[0;34m(\u001b[0m\u001b[0mname\u001b[0m\u001b[0;34m)\u001b[0m\u001b[0;34m)\u001b[0m\u001b[0;34m\u001b[0m\u001b[0m\n\u001b[1;32m     17\u001b[0m \u001b[0;34m\u001b[0m\u001b[0m\n\u001b[0;32m---> 18\u001b[0;31m     \u001b[0mtime\u001b[0m\u001b[0;34m.\u001b[0m\u001b[0msleep\u001b[0m\u001b[0;34m(\u001b[0m\u001b[0;36m1\u001b[0m\u001b[0;34m)\u001b[0m\u001b[0;34m\u001b[0m\u001b[0m\n\u001b[0m\u001b[1;32m     19\u001b[0m     \u001b[0;31m#so we don't overload api\u001b[0m\u001b[0;34m\u001b[0m\u001b[0;34m\u001b[0m\u001b[0m\n",
      "\u001b[0;31mKeyboardInterrupt\u001b[0m: "
     ]
    }
   ],
   "source": [
    "## cycle through the two lists grab the data for city and insert into mongo db\n",
    "\n",
    "for i, name in zip(ids[0:1000], cities[0:1000]):\n",
    "    \n",
    "    res = getData(str(name))\n",
    "    \n",
    "    if not res.status_code==200:\n",
    "        print('Error grabbing data for {}, reason {}'.format(name, res.reason))\n",
    "        #print(res.reason)\n",
    "    \n",
    "    else:\n",
    "        try:\n",
    "              weatherCollection.insert_one(res.json())\n",
    "        except e:\n",
    "              print('Error inserting to DB'.format(e))\n",
    "              print('City {}'.format(name))\n",
    "              \n",
    "    time.sleep(1)\n",
    "    #so we don't overload api"
   ]
  },
  {
   "cell_type": "code",
   "execution_count": 42,
   "metadata": {},
   "outputs": [
    {
     "data": {
      "text/plain": [
       "764"
      ]
     },
     "execution_count": 42,
     "metadata": {},
     "output_type": "execute_result"
    }
   ],
   "source": [
    "weatherCollection.count()"
   ]
  },
  {
   "cell_type": "code",
   "execution_count": 43,
   "metadata": {},
   "outputs": [],
   "source": [
    "def getTimestamp(dt):\n",
    "    return pd.datetime.fromtimestamp(dt)"
   ]
  },
  {
   "cell_type": "code",
   "execution_count": 44,
   "metadata": {},
   "outputs": [],
   "source": [
    "def getDate(tstamp):\n",
    "    dt=datetime.datetime.fromtimestamp(tstamp)\n",
    "    return dt.strftime('%b %d - %H:%m')"
   ]
  },
  {
   "cell_type": "markdown",
   "metadata": {},
   "source": [
    "# 3.3 Querying MongoDB for useful information"
   ]
  },
  {
   "cell_type": "code",
   "execution_count": 45,
   "metadata": {},
   "outputs": [],
   "source": [
    "cur=weatherCollection.find()"
   ]
  },
  {
   "cell_type": "code",
   "execution_count": 46,
   "metadata": {},
   "outputs": [],
   "source": [
    "sortedCur=cur.sort('main.temp')"
   ]
  },
  {
   "cell_type": "code",
   "execution_count": 47,
   "metadata": {},
   "outputs": [
    {
     "name": "stdout",
     "output_type": "stream",
     "text": [
      "Saint Andrews\n",
      "270.565\n",
      "Saint Andrews\n",
      "270.565\n",
      "Cook\n",
      "271.15\n",
      "Clifton\n",
      "271.15\n",
      "Texas\n",
      "272.665\n",
      "Jamestown\n",
      "272.865\n",
      "Orange\n",
      "274.315\n",
      "Paxson\n",
      "277.715\n",
      "West Juneau\n",
      "278.85\n",
      "Juneau\n",
      "278.85\n"
     ]
    }
   ],
   "source": [
    "for doc in sortedCur.limit(10):\n",
    "    try:\n",
    "        print(doc['name'])\n",
    "        print(doc['main']['temp'])\n",
    "    except:\n",
    "        print('Error: missing name/temp')"
   ]
  },
  {
   "cell_type": "code",
   "execution_count": 48,
   "metadata": {},
   "outputs": [
    {
     "data": {
      "text/plain": [
       "764"
      ]
     },
     "execution_count": 48,
     "metadata": {},
     "output_type": "execute_result"
    }
   ],
   "source": [
    "cur.count()"
   ]
  },
  {
   "cell_type": "markdown",
   "metadata": {},
   "source": [
    "## Find the max recorded temperatures over time per station"
   ]
  },
  {
   "cell_type": "code",
   "execution_count": 49,
   "metadata": {},
   "outputs": [],
   "source": [
    "pipeline=[]\n",
    "pipeline.append({'$group':{'_id':'$name','maxTemp':{'$max':'$main.temp'}}})\n",
    "# Group measurements by city name, extract maximum recorded tmep for each\n",
    "pipeline.append({'$limit':10})\n",
    "# Limit results to first 10 cities"
   ]
  },
  {
   "cell_type": "code",
   "execution_count": 50,
   "metadata": {},
   "outputs": [],
   "source": [
    "cur=weatherCollection.aggregate(pipeline=pipeline)"
   ]
  },
  {
   "cell_type": "code",
   "execution_count": 51,
   "metadata": {},
   "outputs": [
    {
     "name": "stdout",
     "output_type": "stream",
     "text": [
      "San Carlos Park 303.68\n",
      "Port Orange 297.99\n",
      "Palm Coast 302.42\n",
      "New Smyrna Beach 303.02\n",
      "Leesburg 298.72\n",
      "Estero 303.68\n",
      "Pinellas County 303.04\n",
      "Osceola County 303.77\n",
      "District of Columbia 299.21\n",
      "Van Buren 293.15\n"
     ]
    }
   ],
   "source": [
    "for d in cur:\n",
    "    print(d['_id'],d['maxTemp'])"
   ]
  },
  {
   "cell_type": "markdown",
   "metadata": {},
   "source": [
    "## Get datetime of max temp per station"
   ]
  },
  {
   "cell_type": "code",
   "execution_count": 52,
   "metadata": {},
   "outputs": [],
   "source": [
    "pipeline=[]\n",
    "pipeline.append({'$match':{'name':{'$exists':True}}})\n",
    "# Filter out dirty rows\n",
    "pipeline.append({'$sort':{'name':1,'main.temp':-1}})\n",
    "# Sort by name (esc) and temperature (asc)\n",
    "pipeline.append({'$group':{'_id':'$name','maxTemp':{'$first':'$main.temp'},'date':{'$first':'$dt'}}})\n",
    "# Group by name, grab maximum temperature and date of temperature\n",
    "# Sorted by temp so grab first document from each group\n",
    "pipeline.append({'$limit':10})\n",
    "# limit to first 10 cities"
   ]
  },
  {
   "cell_type": "code",
   "execution_count": 53,
   "metadata": {},
   "outputs": [],
   "source": [
    "cur=weatherCollection.aggregate(pipeline=pipeline)"
   ]
  },
  {
   "cell_type": "code",
   "execution_count": 54,
   "metadata": {},
   "outputs": [
    {
     "name": "stdout",
     "output_type": "stream",
     "text": [
      "Jul 13 - 14:07 Yuma County 302.215\n",
      "\n",
      "Jul 13 - 14:07 Young 289.715\n",
      "\n",
      "Jul 13 - 14:07 Winslow 297.57\n",
      "\n",
      "Jul 13 - 14:07 Winona 299.15\n",
      "\n",
      "Jul 13 - 14:07 Winchester 294.88\n",
      "\n",
      "Jul 13 - 14:07 Wilson County 299.26\n",
      "\n",
      "Jul 13 - 13:07 Wild Island 301.15\n",
      "\n",
      "Jul 13 - 13:07 West Juneau 278.85\n",
      "\n",
      "Jul 13 - 14:07 West Chester 298.4\n",
      "\n",
      "Jul 13 - 13:07 West Cameron 297.96\n",
      "\n"
     ]
    }
   ],
   "source": [
    "for d in cur:\n",
    "    print(getDate(d['date']),d['_id'],d['maxTemp'])\n",
    "    print('')"
   ]
  },
  {
   "cell_type": "markdown",
   "metadata": {},
   "source": [
    "### saving scrape and write to mongo as py file that will be called when needed.\n",
    "\n",
    "    this should be updated to include logging files for with it is called.  Follow logging tutorial in seperate project to get help."
   ]
  },
  {
   "cell_type": "code",
   "execution_count": 55,
   "metadata": {},
   "outputs": [
    {
     "name": "stdout",
     "output_type": "stream",
     "text": [
      "Writing openweather_scrape.py\n"
     ]
    }
   ],
   "source": [
    "%%writefile openweather_scrape.py\n",
    "\n",
    "import pymongo, requests, pprint, json, datetime, time\n",
    "from pymongo import MongoClient\n",
    "from secrets import *  #saved secret from weather api website (strings)\n",
    "\n",
    "\n",
    "client=pymongo.MongoClient('pythonforbigdata_this_mongo_1')\n",
    "\n",
    "db=client.weatherExample  #database called packt\n",
    "weatherCollection=db.weather  # a collection called weather within weathExample database\n",
    "\n",
    "\n",
    "#fuction to get multiple cities\n",
    "def getData(city):\n",
    "    requestString = 'https://api.openweathermap.org/data/2.5/weather?q={}&APPID={}'.format(city, key)\n",
    "    res = requests.get(requestString)\n",
    "    return res\n",
    "\n",
    "\n",
    "# ## Get lsit of cities\n",
    "\n",
    "with open('city.list.json', 'r') as inFile:\n",
    "    citiesJson = json.loads(inFile.read())\n",
    "\n",
    "\n",
    "#creates a python object that is a filter(pointer object) on whole citiesJson python object conserving memory\n",
    "citiesJsonCL = list(filter(lambda x:x[u'country']==u'CL', citiesJson))\n",
    "\n",
    "#extract just single item that is easier to pass in list map is another type of python pointer\n",
    "cities = list(map(lambda x:x['name'],citiesJsonCL))\n",
    "ids = list(map(lambda x:x['id'], citiesJsonCL))\n",
    "\n",
    "## cycle through the two lists grab the data for city and insert into mongo db\n",
    "\n",
    "for i, name in zip(ids, cities):\n",
    "    \n",
    "    res = getData(str(name))\n",
    "    \n",
    "    if not res.status_code==200:\n",
    "        print('Error grabbing data for {}, reason {}'.format(name, res.reason))\n",
    "        #print(res.reason)\n",
    "    \n",
    "    else:\n",
    "        try:\n",
    "              weatherCollection.insert_one(res.json())\n",
    "        except e:\n",
    "              print('Error inserting to DB'.format(e))\n",
    "              print('City {}'.format(name))\n",
    "              \n",
    "    time.sleep(1)"
   ]
  },
  {
   "cell_type": "code",
   "execution_count": 56,
   "metadata": {},
   "outputs": [
    {
     "data": {
      "text/plain": [
       "764"
      ]
     },
     "execution_count": 56,
     "metadata": {},
     "output_type": "execute_result"
    }
   ],
   "source": [
    "weatherCollection.count()"
   ]
  },
  {
   "cell_type": "code",
   "execution_count": 67,
   "metadata": {},
   "outputs": [],
   "source": [
    "#from openweather_scrape.py import *"
   ]
  },
  {
   "cell_type": "code",
   "execution_count": null,
   "metadata": {},
   "outputs": [],
   "source": [
    "bookmark:\n",
    "    https://www.safaribooksonline.com/videos/working-with-big/9781788839068/9781788839068-video3_3"
   ]
  }
 ],
 "metadata": {
  "kernelspec": {
   "display_name": "Python 3",
   "language": "python",
   "name": "python3"
  },
  "language_info": {
   "codemirror_mode": {
    "name": "ipython",
    "version": 3
   },
   "file_extension": ".py",
   "mimetype": "text/x-python",
   "name": "python",
   "nbconvert_exporter": "python",
   "pygments_lexer": "ipython3",
   "version": "3.6.4"
  }
 },
 "nbformat": 4,
 "nbformat_minor": 2
}
