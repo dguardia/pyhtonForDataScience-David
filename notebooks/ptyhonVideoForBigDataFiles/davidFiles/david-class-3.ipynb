{
 "cells": [
  {
   "cell_type": "code",
   "execution_count": 1,
   "metadata": {},
   "outputs": [],
   "source": [
    "import requests\n",
    "import pprint\n",
    "import json\n",
    "import datetime\n",
    "from os import environ\n",
    "import time\n",
    "import pymongo\n",
    "from pymongo import MongoClient\n",
    "# Sign up for free API key at https://openweathermap.org/appid"
   ]
  },
  {
   "cell_type": "markdown",
   "metadata": {},
   "source": [
    "## 3.1 Acquring data from an API"
   ]
  },
  {
   "cell_type": "code",
   "execution_count": 11,
   "metadata": {},
   "outputs": [],
   "source": [
    "weather_key = environ['WEATHER_KEY']"
   ]
  },
  {
   "cell_type": "code",
   "execution_count": 2,
   "metadata": {},
   "outputs": [],
   "source": [
    "dataframe = environ['DATA_FRAME']"
   ]
  },
  {
   "cell_type": "code",
   "execution_count": null,
   "metadata": {},
   "outputs": [],
   "source": []
  },
  {
   "cell_type": "code",
   "execution_count": 3,
   "metadata": {},
   "outputs": [],
   "source": [
    "city = 'london'"
   ]
  },
  {
   "cell_type": "code",
   "execution_count": 4,
   "metadata": {},
   "outputs": [],
   "source": [
    "requestString = u'https://api.openweathermap.org/data/2.5/weather?q=%s&APPID=%s' % (city,weather_key)"
   ]
  },
  {
   "cell_type": "code",
   "execution_count": 5,
   "metadata": {},
   "outputs": [],
   "source": [
    "res = requests.get(requestString)"
   ]
  },
  {
   "cell_type": "code",
   "execution_count": 6,
   "metadata": {},
   "outputs": [
    {
     "data": {
      "text/plain": [
       "<Response [200]>"
      ]
     },
     "execution_count": 6,
     "metadata": {},
     "output_type": "execute_result"
    }
   ],
   "source": [
    "res"
   ]
  },
  {
   "cell_type": "code",
   "execution_count": 7,
   "metadata": {},
   "outputs": [
    {
     "data": {
      "text/plain": [
       "'OK'"
      ]
     },
     "execution_count": 7,
     "metadata": {},
     "output_type": "execute_result"
    }
   ],
   "source": [
    "res.reason"
   ]
  },
  {
   "cell_type": "code",
   "execution_count": 8,
   "metadata": {},
   "outputs": [
    {
     "name": "stdout",
     "output_type": "stream",
     "text": [
      "{'base': 'stations',\n",
      " 'clouds': {'all': 0},\n",
      " 'cod': 200,\n",
      " 'coord': {'lat': 51.51, 'lon': -0.13},\n",
      " 'dt': 1532308800,\n",
      " 'id': 2643743,\n",
      " 'main': {'humidity': 56,\n",
      "          'pressure': 1016,\n",
      "          'temp': 292.14,\n",
      "          'temp_max': 295.15,\n",
      "          'temp_min': 290.15},\n",
      " 'name': 'London',\n",
      " 'sys': {'country': 'GB',\n",
      "         'id': 5091,\n",
      "         'message': 0.0046,\n",
      "         'sunrise': 1532319068,\n",
      "         'sunset': 1532376121,\n",
      "         'type': 1},\n",
      " 'visibility': 10000,\n",
      " 'weather': [{'description': 'clear sky',\n",
      "              'icon': '01n',\n",
      "              'id': 800,\n",
      "              'main': 'Clear'}],\n",
      " 'wind': {'deg': 240, 'speed': 2.6}}\n"
     ]
    }
   ],
   "source": [
    "pprint.pprint(res.json())"
   ]
  },
  {
   "cell_type": "code",
   "execution_count": 9,
   "metadata": {},
   "outputs": [],
   "source": [
    "def getData(city):\n",
    "    requestString=u'https://api.openweathermap.org/data/2.5/weather?q=%s&APPID=%s' % (city, weather_key)\n",
    "    res = requests.get(requestString)\n",
    "    return res"
   ]
  },
  {
   "cell_type": "code",
   "execution_count": 10,
   "metadata": {},
   "outputs": [],
   "source": [
    "res = getData('La Paz')"
   ]
  },
  {
   "cell_type": "code",
   "execution_count": 11,
   "metadata": {},
   "outputs": [
    {
     "data": {
      "text/plain": [
       "<Response [200]>"
      ]
     },
     "execution_count": 11,
     "metadata": {},
     "output_type": "execute_result"
    }
   ],
   "source": [
    "res"
   ]
  },
  {
   "cell_type": "markdown",
   "metadata": {},
   "source": [
    "## 3.2 Ingesting data into MongoDB\n",
    "\n",
    "### Create DB and collection"
   ]
  },
  {
   "cell_type": "code",
   "execution_count": 12,
   "metadata": {},
   "outputs": [],
   "source": [
    "client = pymongo.MongoClient('dsmongo')"
   ]
  },
  {
   "cell_type": "code",
   "execution_count": 13,
   "metadata": {},
   "outputs": [
    {
     "data": {
      "text/plain": [
       "['admin', 'config', 'local']"
      ]
     },
     "execution_count": 13,
     "metadata": {},
     "output_type": "execute_result"
    }
   ],
   "source": [
    "client.database_names()"
   ]
  },
  {
   "cell_type": "code",
   "execution_count": 14,
   "metadata": {},
   "outputs": [],
   "source": [
    "db = client.packt"
   ]
  },
  {
   "cell_type": "code",
   "execution_count": 15,
   "metadata": {},
   "outputs": [],
   "source": [
    "weatherCollection = db.weather"
   ]
  },
  {
   "cell_type": "code",
   "execution_count": 16,
   "metadata": {},
   "outputs": [
    {
     "data": {
      "text/plain": [
       "['admin', 'config', 'local']"
      ]
     },
     "execution_count": 16,
     "metadata": {},
     "output_type": "execute_result"
    }
   ],
   "source": [
    "client.database_names()"
   ]
  },
  {
   "cell_type": "code",
   "execution_count": 17,
   "metadata": {},
   "outputs": [],
   "source": [
    "res = weatherCollection.insert_one(res.json())"
   ]
  },
  {
   "cell_type": "markdown",
   "metadata": {},
   "source": [
    "### Get list of cities"
   ]
  },
  {
   "cell_type": "code",
   "execution_count": 18,
   "metadata": {},
   "outputs": [
    {
     "name": "stdout",
     "output_type": "stream",
     "text": [
      "--2018-07-22 15:16:33--  http://bulk.openweathermap.org/sample/city.list.json.gz\n",
      "Resolving bulk.openweathermap.org (bulk.openweathermap.org)... 78.46.48.103\n",
      "Connecting to bulk.openweathermap.org (bulk.openweathermap.org)|78.46.48.103|:80... connected.\n",
      "HTTP request sent, awaiting response... 200 OK\n",
      "Length: 4292641 (4.1M) [application/octet-stream]\n",
      "Saving to: ‘city.list.json.gz’\n",
      "\n",
      "city.list.json.gz   100%[===================>]   4.09M  1.85MB/s    in 2.2s    \n",
      "\n",
      "2018-07-22 15:16:36 (1.85 MB/s) - ‘city.list.json.gz’ saved [4292641/4292641]\n",
      "\n"
     ]
    }
   ],
   "source": [
    "!wget http://bulk.openweathermap.org/sample/city.list.json.gz"
   ]
  },
  {
   "cell_type": "code",
   "execution_count": 19,
   "metadata": {},
   "outputs": [],
   "source": [
    "!gunzip city.list.json.gz"
   ]
  },
  {
   "cell_type": "code",
   "execution_count": 18,
   "metadata": {},
   "outputs": [
    {
     "name": "stdout",
     "output_type": "stream",
     "text": [
      "[\r\n",
      "  {\r\n",
      "    \"id\": 707860,\r\n",
      "    \"name\": \"Hurzuf\",\r\n",
      "    \"country\": \"UA\",\r\n",
      "    \"coord\": {\r\n",
      "      \"lon\": 34.283333,\r\n",
      "      \"lat\": 44.549999\r\n",
      "    }\r\n",
      "  },\r\n"
     ]
    }
   ],
   "source": [
    "!head city.list.json"
   ]
  },
  {
   "cell_type": "code",
   "execution_count": 19,
   "metadata": {},
   "outputs": [],
   "source": [
    "with open('city.list.json', 'r') as inFile:\n",
    "    citiesJson=json.loads(inFile.read())"
   ]
  },
  {
   "cell_type": "code",
   "execution_count": 20,
   "metadata": {},
   "outputs": [
    {
     "name": "stdout",
     "output_type": "stream",
     "text": [
      "city.list.json  david-class-3.ipynb\r\n"
     ]
    }
   ],
   "source": [
    "%ls"
   ]
  },
  {
   "cell_type": "code",
   "execution_count": 21,
   "metadata": {},
   "outputs": [
    {
     "data": {
      "text/plain": [
       "{'id': 707860,\n",
       " 'name': 'Hurzuf',\n",
       " 'country': 'UA',\n",
       " 'coord': {'lon': 34.283333, 'lat': 44.549999}}"
      ]
     },
     "execution_count": 21,
     "metadata": {},
     "output_type": "execute_result"
    }
   ],
   "source": [
    "citiesJson[0]"
   ]
  },
  {
   "cell_type": "code",
   "execution_count": 22,
   "metadata": {},
   "outputs": [
    {
     "data": {
      "text/plain": [
       "list"
      ]
     },
     "execution_count": 22,
     "metadata": {},
     "output_type": "execute_result"
    }
   ],
   "source": [
    "type(citiesJson)"
   ]
  },
  {
   "cell_type": "markdown",
   "metadata": {},
   "source": [
    "### Limit to Chilean cities\n",
    "\n",
    "#### You don't need to consume all of the memory to create a list up front, as long as the iterator returns the\n",
    "\n",
    "#### same thing a list would during iteration.\n",
    "\n",
    "#### https://stackoverflow.com/questions/12319025/filters-in-python3"
   ]
  },
  {
   "cell_type": "code",
   "execution_count": 23,
   "metadata": {},
   "outputs": [],
   "source": [
    "#creates a python object that is a filter(pointer object) on whole citiesJson python object conserving memory\n",
    "citiesJsonCL = list(filter(lambda x:x[u'country']==u'CL', citiesJson))"
   ]
  },
  {
   "cell_type": "code",
   "execution_count": 24,
   "metadata": {},
   "outputs": [
    {
     "data": {
      "text/plain": [
       "369"
      ]
     },
     "execution_count": 24,
     "metadata": {},
     "output_type": "execute_result"
    }
   ],
   "source": [
    "len(citiesJsonCL)"
   ]
  },
  {
   "cell_type": "code",
   "execution_count": 25,
   "metadata": {},
   "outputs": [],
   "source": [
    "#extract just single item that is easier to pass in list map is another type of python pointer\n",
    "\n",
    "cities = list(map(lambda x:x['name'], citiesJsonCL))\n",
    "ids = list(map(lambda x:x['id'], citiesJsonCL))"
   ]
  },
  {
   "cell_type": "code",
   "execution_count": 26,
   "metadata": {},
   "outputs": [],
   "source": [
    "#Pass the first city to get the data\n",
    "\n",
    "res = getData(str(cities[0]))"
   ]
  },
  {
   "cell_type": "code",
   "execution_count": 27,
   "metadata": {},
   "outputs": [
    {
     "data": {
      "text/plain": [
       "'OK'"
      ]
     },
     "execution_count": 27,
     "metadata": {},
     "output_type": "execute_result"
    }
   ],
   "source": [
    "res.reason"
   ]
  },
  {
   "cell_type": "code",
   "execution_count": 28,
   "metadata": {},
   "outputs": [
    {
     "data": {
      "text/plain": [
       "<Response [200]>"
      ]
     },
     "execution_count": 28,
     "metadata": {},
     "output_type": "execute_result"
    }
   ],
   "source": [
    "#this is running the get command in function for 1st city in list\n",
    "res"
   ]
  },
  {
   "cell_type": "code",
   "execution_count": 29,
   "metadata": {},
   "outputs": [
    {
     "name": "stdout",
     "output_type": "stream",
     "text": [
      "{'base': 'stations',\n",
      " 'clouds': {'all': 0},\n",
      " 'cod': 200,\n",
      " 'coord': {'lat': -43.12, 'lon': -73.62},\n",
      " 'dt': 1532307600,\n",
      " 'id': 3874943,\n",
      " 'main': {'humidity': 87,\n",
      "          'pressure': 1030,\n",
      "          'temp': 279.15,\n",
      "          'temp_max': 279.15,\n",
      "          'temp_min': 279.15},\n",
      " 'name': 'Puerto Quellon',\n",
      " 'sys': {'country': 'CL',\n",
      "         'id': 4661,\n",
      "         'message': 0.0032,\n",
      "         'sunrise': 1532348133,\n",
      "         'sunset': 1532382407,\n",
      "         'type': 1},\n",
      " 'visibility': 10000,\n",
      " 'weather': [{'description': 'clear sky',\n",
      "              'icon': '01n',\n",
      "              'id': 800,\n",
      "              'main': 'Clear'}],\n",
      " 'wind': {'deg': 350, 'speed': 1.5}}\n"
     ]
    }
   ],
   "source": [
    "pprint.pprint(res.json())"
   ]
  },
  {
   "cell_type": "code",
   "execution_count": 30,
   "metadata": {},
   "outputs": [
    {
     "name": "stdout",
     "output_type": "stream",
     "text": [
      "['Puerto Quellon', 'Nacimiento', 'El Tabo', 'Región del Libertador General Bernardo O’Higgins', 'Lo Moscoso', 'Barón', 'Región de Los Lagos', 'Las Animas', 'Puerto Montt', 'Las Condes']\n"
     ]
    }
   ],
   "source": [
    "print(cities[0:10])"
   ]
  },
  {
   "cell_type": "markdown",
   "metadata": {},
   "source": [
    "# Cicle through 1st to 10th cities in list and post to collection"
   ]
  },
  {
   "cell_type": "code",
   "execution_count": 31,
   "metadata": {},
   "outputs": [],
   "source": [
    "## cycle through the two lists grab the data for city and insert into mongo db\n",
    "\n",
    "for i, name in zip(ids[0:10], cities[0:10]):\n",
    "    \n",
    "    res = getData(str(name))\n",
    "    \n",
    "    if not res.status_code==200:\n",
    "        print('Error grabbing data for {}, reason {}'.format(name, res.reason))\n",
    "        #print(res.reason)\n",
    "    \n",
    "    else:\n",
    "        try:\n",
    "              weatherCollection.insert_one(res.json())\n",
    "        except e:\n",
    "              print('Error inserting to DB'.format(e))\n",
    "              print('City {}'.format(name))\n",
    "              \n",
    "    time.sleep(1)\n",
    "    #so we don't overload api"
   ]
  },
  {
   "cell_type": "code",
   "execution_count": 32,
   "metadata": {},
   "outputs": [
    {
     "name": "stdout",
     "output_type": "stream",
     "text": [
      "{'_id': ObjectId('5b55362d0e2c640011d4099e'),\n",
      " 'base': 'stations',\n",
      " 'clouds': {'all': 5},\n",
      " 'cod': 200,\n",
      " 'coord': {'lat': 24.15, 'lon': -110.32},\n",
      " 'dt': 1532306400,\n",
      " 'id': 4000900,\n",
      " 'main': {'humidity': 23,\n",
      "          'pressure': 1009,\n",
      "          'temp': 308.15,\n",
      "          'temp_max': 308.15,\n",
      "          'temp_min': 308.15},\n",
      " 'name': 'La Paz',\n",
      " 'sys': {'country': 'MX',\n",
      "         'id': 3990,\n",
      "         'message': 0.0038,\n",
      "         'sunrise': 1532349977,\n",
      "         'sunset': 1532398143,\n",
      "         'type': 1},\n",
      " 'visibility': 16093,\n",
      " 'weather': [{'description': 'clear sky',\n",
      "              'icon': '02n',\n",
      "              'id': 800,\n",
      "              'main': 'Clear'}],\n",
      " 'wind': {'deg': 330, 'speed': 5.1}}\n",
      "{'_id': ObjectId('5b55365d0e2c640011d4099f'),\n",
      " 'base': 'stations',\n",
      " 'clouds': {'all': 0},\n",
      " 'cod': 200,\n",
      " 'coord': {'lat': -43.12, 'lon': -73.62},\n",
      " 'dt': 1532307600,\n",
      " 'id': 3874943,\n",
      " 'main': {'humidity': 87,\n",
      "          'pressure': 1030,\n",
      "          'temp': 279.15,\n",
      "          'temp_max': 279.15,\n",
      "          'temp_min': 279.15},\n",
      " 'name': 'Puerto Quellon',\n",
      " 'sys': {'country': 'CL',\n",
      "         'id': 4661,\n",
      "         'message': 0.0032,\n",
      "         'sunrise': 1532348133,\n",
      "         'sunset': 1532382407,\n",
      "         'type': 1},\n",
      " 'visibility': 10000,\n",
      " 'weather': [{'description': 'clear sky',\n",
      "              'icon': '01n',\n",
      "              'id': 800,\n",
      "              'main': 'Clear'}],\n",
      " 'wind': {'deg': 350, 'speed': 1.5}}\n",
      "{'_id': ObjectId('5b55365f0e2c640011d409a0'),\n",
      " 'base': 'stations',\n",
      " 'clouds': {'all': 0},\n",
      " 'cod': 200,\n",
      " 'coord': {'lat': -37.5, 'lon': -72.67},\n",
      " 'dt': 1532311135,\n",
      " 'id': 3879123,\n",
      " 'main': {'grnd_level': 1010.29,\n",
      "          'humidity': 85,\n",
      "          'pressure': 1010.29,\n",
      "          'sea_level': 1045.7,\n",
      "          'temp': 270.837,\n",
      "          'temp_max': 270.837,\n",
      "          'temp_min': 270.837},\n",
      " 'name': 'Nacimiento',\n",
      " 'sys': {'country': 'CL',\n",
      "         'message': 0.0074,\n",
      "         'sunrise': 1532347045,\n",
      "         'sunset': 1532383036},\n",
      " 'weather': [{'description': 'clear sky',\n",
      "              'icon': '01n',\n",
      "              'id': 800,\n",
      "              'main': 'Clear'}],\n",
      " 'wind': {'deg': 186.503, 'speed': 2.32}}\n",
      "{'_id': ObjectId('5b5536600e2c640011d409a1'),\n",
      " 'base': 'stations',\n",
      " 'clouds': {'all': 0},\n",
      " 'cod': 200,\n",
      " 'coord': {'lat': -33.45, 'lon': -71.67},\n",
      " 'dt': 1532307600,\n",
      " 'id': 3890338,\n",
      " 'main': {'humidity': 57,\n",
      "          'pressure': 1021,\n",
      "          'temp': 283.15,\n",
      "          'temp_max': 283.15,\n",
      "          'temp_min': 283.15},\n",
      " 'name': 'El Tabo',\n",
      " 'sys': {'country': 'CL',\n",
      "         'id': 4676,\n",
      "         'message': 0.0036,\n",
      "         'sunrise': 1532346269,\n",
      "         'sunset': 1532383330,\n",
      "         'type': 1},\n",
      " 'visibility': 10000,\n",
      " 'weather': [{'description': 'clear sky',\n",
      "              'icon': '01n',\n",
      "              'id': 800,\n",
      "              'main': 'Clear'}],\n",
      " 'wind': {'deg': 140, 'speed': 2.6}}\n",
      "{'_id': ObjectId('5b5536610e2c640011d409a2'),\n",
      " 'base': 'stations',\n",
      " 'clouds': {'all': 0},\n",
      " 'cod': 200,\n",
      " 'coord': {'lat': -34.5, 'lon': -71},\n",
      " 'dt': 1532307600,\n",
      " 'id': 3883281,\n",
      " 'main': {'humidity': 81,\n",
      "          'pressure': 1024,\n",
      "          'temp': 279.15,\n",
      "          'temp_max': 279.15,\n",
      "          'temp_min': 279.15},\n",
      " 'name': 'Región del Libertador General Bernardo O’Higgins',\n",
      " 'sys': {'country': 'CL',\n",
      "         'id': 4654,\n",
      "         'message': 0.0036,\n",
      "         'sunrise': 1532346242,\n",
      "         'sunset': 1532383036,\n",
      "         'type': 1},\n",
      " 'visibility': 10000,\n",
      " 'weather': [{'description': 'clear sky',\n",
      "              'icon': '01n',\n",
      "              'id': 800,\n",
      "              'main': 'Clear'}],\n",
      " 'wind': {'deg': 210, 'speed': 3.6}}\n",
      "{'_id': ObjectId('5b5536620e2c640011d409a3'),\n",
      " 'base': 'stations',\n",
      " 'clouds': {'all': 0},\n",
      " 'cod': 200,\n",
      " 'coord': {'lat': -34.6, 'lon': -71.11},\n",
      " 'dt': 1532307600,\n",
      " 'id': 3882585,\n",
      " 'main': {'humidity': 81,\n",
      "          'pressure': 1024,\n",
      "          'temp': 279.15,\n",
      "          'temp_max': 279.15,\n",
      "          'temp_min': 279.15},\n",
      " 'name': 'Lo Moscoso',\n",
      " 'sys': {'country': 'CL',\n",
      "         'id': 4654,\n",
      "         'message': 0.0038,\n",
      "         'sunrise': 1532346281,\n",
      "         'sunset': 1532383049,\n",
      "         'type': 1},\n",
      " 'visibility': 10000,\n",
      " 'weather': [{'description': 'clear sky',\n",
      "              'icon': '01n',\n",
      "              'id': 800,\n",
      "              'main': 'Clear'}],\n",
      " 'wind': {'deg': 210, 'speed': 3.6}}\n",
      "{'_id': ObjectId('5b5536630e2c640011d409a4'),\n",
      " 'base': 'stations',\n",
      " 'clouds': {'all': 0},\n",
      " 'cod': 200,\n",
      " 'coord': {'lat': -33.04, 'lon': -71.6},\n",
      " 'dt': 1532307600,\n",
      " 'id': 3898749,\n",
      " 'main': {'humidity': 57,\n",
      "          'pressure': 1021,\n",
      "          'temp': 283.15,\n",
      "          'temp_max': 283.15,\n",
      "          'temp_min': 283.15},\n",
      " 'name': 'Barón',\n",
      " 'sys': {'country': 'CL',\n",
      "         'id': 4676,\n",
      "         'message': 0.0033,\n",
      "         'sunrise': 1532346201,\n",
      "         'sunset': 1532383364,\n",
      "         'type': 1},\n",
      " 'visibility': 10000,\n",
      " 'weather': [{'description': 'clear sky',\n",
      "              'icon': '01n',\n",
      "              'id': 800,\n",
      "              'main': 'Clear'}],\n",
      " 'wind': {'deg': 140, 'speed': 2.6}}\n",
      "{'_id': ObjectId('5b5536640e2c640011d409a5'),\n",
      " 'base': 'stations',\n",
      " 'clouds': {'all': 20},\n",
      " 'cod': 200,\n",
      " 'coord': {'lat': -41.75, 'lon': -73},\n",
      " 'dt': 1532307600,\n",
      " 'id': 3881974,\n",
      " 'main': {'humidity': 93,\n",
      "          'pressure': 1032,\n",
      "          'temp': 275.15,\n",
      "          'temp_max': 275.15,\n",
      "          'temp_min': 275.15},\n",
      " 'name': 'Región de Los Lagos',\n",
      " 'sys': {'country': 'CL',\n",
      "         'id': 4672,\n",
      "         'message': 0.0037,\n",
      "         'sunrise': 1532347760,\n",
      "         'sunset': 1532382482,\n",
      "         'type': 1},\n",
      " 'visibility': 10000,\n",
      " 'weather': [{'description': 'few clouds',\n",
      "              'icon': '02n',\n",
      "              'id': 801,\n",
      "              'main': 'Clouds'}],\n",
      " 'wind': {'speed': 1}}\n",
      "{'_id': ObjectId('5b5536660e2c640011d409a6'),\n",
      " 'base': 'stations',\n",
      " 'clouds': {'all': 40},\n",
      " 'cod': 200,\n",
      " 'coord': {'lat': 38.07, 'lon': -103.22},\n",
      " 'dt': 1532310000,\n",
      " 'id': 5428055,\n",
      " 'main': {'humidity': 73,\n",
      "          'pressure': 1022,\n",
      "          'temp': 302.72,\n",
      "          'temp_max': 307.15,\n",
      "          'temp_min': 295.15},\n",
      " 'name': 'Las Animas',\n",
      " 'sys': {'country': 'US',\n",
      "         'id': 564,\n",
      "         'message': 0.0076,\n",
      "         'sunrise': 1532346504,\n",
      "         'sunset': 1532398195,\n",
      "         'type': 1},\n",
      " 'visibility': 16093,\n",
      " 'weather': [{'description': 'thunderstorm',\n",
      "              'icon': '11n',\n",
      "              'id': 211,\n",
      "              'main': 'Thunderstorm'}],\n",
      " 'wind': {'deg': 360, 'gust': 23.1, 'speed': 13.4}}\n",
      "{'_id': ObjectId('5b5536670e2c640011d409a7'),\n",
      " 'base': 'stations',\n",
      " 'clouds': {'all': 20},\n",
      " 'cod': 200,\n",
      " 'coord': {'lat': -41.47, 'lon': -72.94},\n",
      " 'dt': 1532307600,\n",
      " 'id': 3874960,\n",
      " 'main': {'humidity': 93,\n",
      "          'pressure': 1032,\n",
      "          'temp': 275.15,\n",
      "          'temp_max': 275.15,\n",
      "          'temp_min': 275.15},\n",
      " 'name': 'Puerto Montt',\n",
      " 'sys': {'country': 'CL',\n",
      "         'id': 4672,\n",
      "         'message': 0.0053,\n",
      "         'sunrise': 1532347701,\n",
      "         'sunset': 1532382512,\n",
      "         'type': 1},\n",
      " 'visibility': 10000,\n",
      " 'weather': [{'description': 'few clouds',\n",
      "              'icon': '02n',\n",
      "              'id': 801,\n",
      "              'main': 'Clouds'}],\n",
      " 'wind': {'speed': 1}}\n",
      "{'_id': ObjectId('5b5536680e2c640011d409a8'),\n",
      " 'base': 'stations',\n",
      " 'clouds': {'all': 0},\n",
      " 'cod': 200,\n",
      " 'coord': {'lat': -33.41, 'lon': -70.54},\n",
      " 'dt': 1532311200,\n",
      " 'id': 3884448,\n",
      " 'main': {'humidity': 65,\n",
      "          'pressure': 1022,\n",
      "          'temp': 278.15,\n",
      "          'temp_max': 278.15,\n",
      "          'temp_min': 278.15},\n",
      " 'name': 'Las Condes',\n",
      " 'sys': {'country': 'CL',\n",
      "         'id': 4645,\n",
      "         'message': 0.0043,\n",
      "         'sunrise': 1532345993,\n",
      "         'sunset': 1532383063,\n",
      "         'type': 1},\n",
      " 'visibility': 10000,\n",
      " 'weather': [{'description': 'clear sky',\n",
      "              'icon': '01n',\n",
      "              'id': 800,\n",
      "              'main': 'Clear'}],\n",
      " 'wind': {'deg': 340, 'speed': 0.5}}\n"
     ]
    }
   ],
   "source": [
    "for doc in weatherCollection.find():\n",
    "    pprint.pprint(doc)"
   ]
  },
  {
   "cell_type": "code",
   "execution_count": null,
   "metadata": {},
   "outputs": [],
   "source": []
  }
 ],
 "metadata": {
  "kernelspec": {
   "display_name": "Python 3",
   "language": "python",
   "name": "python3"
  },
  "language_info": {
   "codemirror_mode": {
    "name": "ipython",
    "version": 3
   },
   "file_extension": ".py",
   "mimetype": "text/x-python",
   "name": "python",
   "nbconvert_exporter": "python",
   "pygments_lexer": "ipython3",
   "version": "3.6.4"
  }
 },
 "nbformat": 4,
 "nbformat_minor": 2
}
